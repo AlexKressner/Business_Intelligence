{
  "cells": [
    {
      "cell_type": "markdown",
      "metadata": {
        "id": "view-in-github",
        "colab_type": "text"
      },
      "source": [
        "<a href=\"https://colab.research.google.com/github/AlexKressner/Business_Intelligence/blob/main/Pandas_Intro.ipynb\" target=\"_parent\"><img src=\"https://colab.research.google.com/assets/colab-badge.svg\" alt=\"Open In Colab\"/></a>"
      ]
    },
    {
      "cell_type": "markdown",
      "id": "64b0765e-bc90-46b8-8c66-0123b137bf19",
      "metadata": {
        "jp-MarkdownHeadingCollapsed": true,
        "tags": [],
        "id": "64b0765e-bc90-46b8-8c66-0123b137bf19"
      },
      "source": [
        "# Übersicht\n",
        "1. [Einführung Pandas](#einführung_pandas)\n",
        "    1. [DataFrames](#dataframes)\n",
        "    1. [Erste Methoden zur Datenexploration](#exploration)\n",
        "    1. [Optionen beim Laden von Daten](#laden)\n",
        "    1. [Sortieren](#sortieren)\n",
        "    1. [Subsetting](#subsetting)\n",
        "    1. [Neue Spalten](#neue_spalte)\n",
        "2. [Aggregation von Daten](#aggregation)\n",
        "    1. [Erste deskriptive Parameter & Summierung](#parameter)\n",
        "    1. [Zählen](#zaehlen)\n",
        "    1. [Gruppierungen und Aggregationen](#gruppierung)\n",
        "    1. [Pivottabellen](#pivot)\n",
        "    1. [Funktion transform](#transform)"
      ]
    },
    {
      "cell_type": "markdown",
      "id": "4568c8d2-8df2-406b-9dd1-a3420d979671",
      "metadata": {
        "id": "4568c8d2-8df2-406b-9dd1-a3420d979671"
      },
      "source": [
        "# Übungsaufgaben\n",
        "- [Erste Exploration DataFrame - Rossmann Store Sales](#aufgabe_exploration)\n",
        "- [Sortieren und Subsetting - Rossmann Store Sales](#subset_sort)\n",
        "- [Statistische Parameter & Summen - Rossmann Store Sales](#parameter_summen)\n",
        "- [Aggregationen - Verkaufszahlen Walmart](#walmart)"
      ]
    },
    {
      "cell_type": "markdown",
      "id": "3b8fc31c-b4f8-4d40-aa76-814e1c2f8856",
      "metadata": {
        "id": "3b8fc31c-b4f8-4d40-aa76-814e1c2f8856"
      },
      "source": [
        "# 1. Einführung Pandas <a class=\"anchor\" id=\"einführung_pandas\"></a>\n",
        "Pandas ist eines der bekanntesten Packages für Python und wird zur Lösung diverser Aufgaben im Bereich der Datenverarbeitung eingesetzt - von der einfachen Datenmanipulation bis hin zu ausgefeilten Datenanalysen. Wir beschäftigen uns intensiv mit dem Datenobjekt \"DataFrames\" und wie man mit diesem im Rahmen der Datenanalyse arbeitet, d.h. erstellt, filtert, transformiert etc. Pandas verfügt über eine hervorragende Dokumentation, die Sie unter folgendem [Link](https://pandas.pydata.org) finden."
      ]
    },
    {
      "cell_type": "markdown",
      "id": "67792086-46c7-43fc-a1b4-454aae7a88a0",
      "metadata": {
        "id": "67792086-46c7-43fc-a1b4-454aae7a88a0"
      },
      "source": [
        "## 1.1 DataFrames <a class=\"anchor\" id=\"dataframes\"></a>\n",
        "Ein [DataFrame](https://pandas.pydata.org/docs/user_guide/dsintro.html#dataframe) speichert Daten in tabellarischer Form, ähnlicher einer Excel- oder SQL-Tabelle. Das folgende Beispiel erzeugt einen DataFrame aus zwei Listen. Die erste Liste enthält Teile der aktuellen Tabelle der 1. Fussballbundesliga. Es handelt sich um eine Liste aus Listen. Jede Liste in der Liste `tabelle` stellt einen Tabelleneintrag (Zeile) mit den zugehörigen Daten dar. Die Liste `spalten_namen` enthält - wie der Name bereits sagt - die Spaltennamen der Tabelle."
      ]
    },
    {
      "cell_type": "code",
      "execution_count": null,
      "id": "4d5c247c-dcdf-491b-978e-4419ee5a57fb",
      "metadata": {
        "id": "4d5c247c-dcdf-491b-978e-4419ee5a57fb"
      },
      "outputs": [],
      "source": [
        "# import pandas\n",
        "import pandas as pd"
      ]
    },
    {
      "cell_type": "code",
      "source": [
        "# Einstellungen zum Anzeigen von DataFrames etc.\n",
        "pd.options.display.float_format = \"{:.1f}\".format\n",
        "pd.options.display.max_columns = 100\n",
        "pd.options.display.max_rows = 1000"
      ],
      "metadata": {
        "id": "GONPH7fkg-Ir"
      },
      "id": "GONPH7fkg-Ir",
      "execution_count": null,
      "outputs": []
    },
    {
      "cell_type": "code",
      "execution_count": null,
      "id": "dad1724a-2db4-44b9-a1ce-fd64076e00de",
      "metadata": {
        "id": "dad1724a-2db4-44b9-a1ce-fd64076e00de"
      },
      "outputs": [],
      "source": [
        "tabelle = [\n",
        "    [1, \"Bayern München\", 19, 15,\t3,\t1,\t58, 16,\t42,\t48],\n",
        "    [2, \"Bayer Leverkusen\", 19, 12,\t6,\t1,\t46, 26,\t20,\t42],\n",
        "    [3, \"Eintracht Frankfurt\", 19, 11,\t4,\t4,\t44, 26,\t18,\t37],\n",
        "    [4, \"Stuttgart\", 19, 9,\t5,\t5,\t36, 28,\t8,\t32],\n",
        "    [5, \"RB Leipzig\", 19, 9,\t5,\t5,\t34, 29,\t5,\t32],\n",
        "    [6, \"Mainz 05\", 19, 9,\t4,\t6,\t33, 23,\t10,\t31],\n",
        "]"
      ]
    },
    {
      "cell_type": "code",
      "execution_count": null,
      "id": "e42a3790-15d6-458a-97cc-04bf8779e350",
      "metadata": {
        "id": "e42a3790-15d6-458a-97cc-04bf8779e350"
      },
      "outputs": [],
      "source": [
        "spalten_namen = [\n",
        "    \"Rang\", \"Mannschaft\", \"Spiele\", \"Siege\",\n",
        "    \"Unentschieden\", \"Niederlagen\",\n",
        "    \"Tore_+\", \"Tore_-\", \"Tordifferenz\",\n",
        "    \"Punkte\"\n",
        "]"
      ]
    },
    {
      "cell_type": "markdown",
      "id": "5f883e3d-21c3-4999-82b7-c8442fac908c",
      "metadata": {
        "id": "5f883e3d-21c3-4999-82b7-c8442fac908c"
      },
      "source": [
        "Nachfolgend erzeugen wir den DataFrame, der die Bundesligatabelle darstellt."
      ]
    },
    {
      "cell_type": "code",
      "execution_count": null,
      "id": "cb285f82-ace9-4105-93a0-e236c8744a83",
      "metadata": {
        "id": "cb285f82-ace9-4105-93a0-e236c8744a83"
      },
      "outputs": [],
      "source": [
        "tabelle = pd.DataFrame(tabelle, columns=spalten_namen)\n",
        "tabelle"
      ]
    },
    {
      "cell_type": "markdown",
      "id": "85061dae-bc19-42f8-ba0d-22ec5bdb5728",
      "metadata": {
        "id": "85061dae-bc19-42f8-ba0d-22ec5bdb5728"
      },
      "source": [
        "Wir können einen DataFrame auch mit entsprechenden Methodenaufrufen in seine einzelnen Komponenten zerlegen (\"Attribute\"):"
      ]
    },
    {
      "cell_type": "code",
      "execution_count": null,
      "id": "3e4214cd-c40e-4496-a028-962c685ed8b2",
      "metadata": {
        "id": "3e4214cd-c40e-4496-a028-962c685ed8b2"
      },
      "outputs": [],
      "source": [
        "tabelle.values"
      ]
    },
    {
      "cell_type": "code",
      "execution_count": null,
      "id": "6fa2d942-cd46-4fd9-826b-c630daff02c9",
      "metadata": {
        "id": "6fa2d942-cd46-4fd9-826b-c630daff02c9"
      },
      "outputs": [],
      "source": [
        "tabelle.columns"
      ]
    },
    {
      "cell_type": "code",
      "execution_count": null,
      "id": "b07ff6ab-7e47-4325-a401-a49cf72b166e",
      "metadata": {
        "id": "b07ff6ab-7e47-4325-a401-a49cf72b166e"
      },
      "outputs": [],
      "source": [
        "tabelle.index"
      ]
    },
    {
      "cell_type": "markdown",
      "id": "1a61a7c5-25ed-46da-ac45-81351234e20e",
      "metadata": {
        "id": "1a61a7c5-25ed-46da-ac45-81351234e20e"
      },
      "source": [
        "## 1.2 Erste Methoden zur Datenexploration <a class=\"anchor\" id=\"exploration\"></a>\n",
        "Für die erste Exploration von Daten in einem pandas DataFrame stehen viele nützliche Methoden zur Verfügung. Sie können sich eine Übersicht verschaffen, wenn Sie in einer Code-Zelle den DataFrame `tabelle` eingeben und anschließend einen Punkt (`.`) setzen. Mit der Eingabe `tabelle.` werden Ihnen automatisch alle verfügbaren Funktionen angezeigt."
      ]
    },
    {
      "cell_type": "code",
      "execution_count": null,
      "id": "9b7cce8d-ad4d-4c62-9913-25f65220ae99",
      "metadata": {
        "id": "9b7cce8d-ad4d-4c62-9913-25f65220ae99"
      },
      "outputs": [],
      "source": [
        "# Gibt Ihnen den \"Kopf\" des DataFrames zurück, d.h. die ersten 5 Zeilen\n",
        "tabelle.head()"
      ]
    },
    {
      "cell_type": "code",
      "execution_count": null,
      "id": "71549934-60c1-4e58-8e80-30e0feac2e66",
      "metadata": {
        "id": "71549934-60c1-4e58-8e80-30e0feac2e66"
      },
      "outputs": [],
      "source": [
        "# Zeigt Ihnen Informationen zu den einzelnen Spalten\n",
        "tabelle.info()"
      ]
    },
    {
      "cell_type": "markdown",
      "id": "0f473d56-57fd-48d2-b40a-02f8a724b58a",
      "metadata": {
        "id": "0f473d56-57fd-48d2-b40a-02f8a724b58a"
      },
      "source": [
        "**Frage:** Was machen die folgenden beiden Funktionen?"
      ]
    },
    {
      "cell_type": "code",
      "execution_count": null,
      "id": "34486756-8d99-41f7-b0a0-9b421b374f79",
      "metadata": {
        "id": "34486756-8d99-41f7-b0a0-9b421b374f79"
      },
      "outputs": [],
      "source": [
        "tabelle.shape"
      ]
    },
    {
      "cell_type": "code",
      "execution_count": null,
      "id": "9a36cce5-2fa0-430c-a01c-41eae601bec3",
      "metadata": {
        "id": "9a36cce5-2fa0-430c-a01c-41eae601bec3"
      },
      "outputs": [],
      "source": [
        "tabelle.describe()"
      ]
    },
    {
      "cell_type": "markdown",
      "id": "e40660c8-660c-42e5-b95e-92ea57917723",
      "metadata": {
        "id": "e40660c8-660c-42e5-b95e-92ea57917723"
      },
      "source": [
        "### Aufgabe: Erste Exploration DataFrame <a class=\"anchor\" id=\"aufgabe_exploration\"></a>\n",
        "Für die Aufgabe verwenden wir den [Rossmann Store Sales](https://www.kaggle.com/competitions/rossmann-store-sales/overview) Datensatz. Die Daten befinden sich im Github-Repo, welches wir in unsere Arbeitsumgebung laden (`git clone`). Wenden Sie anschließend die zuvor eingeführten Methoden auf den neuen DataFrame an, um sich ein erstes Bild zu den Daten zu verschaffen."
      ]
    },
    {
      "cell_type": "code",
      "source": [
        "! git clone https://github.com/AlexKressner/Business_Intelligence"
      ],
      "metadata": {
        "id": "hkjrce3IfCpo"
      },
      "id": "hkjrce3IfCpo",
      "execution_count": null,
      "outputs": []
    },
    {
      "cell_type": "code",
      "source": [
        "FOLDER = \"Business_Intelligence/Daten/Rossmann\""
      ],
      "metadata": {
        "id": "TPpugcfgXORc"
      },
      "id": "TPpugcfgXORc",
      "execution_count": null,
      "outputs": []
    },
    {
      "cell_type": "code",
      "execution_count": null,
      "id": "12c42cb3-6a4b-4661-8871-fe2d2bc13857",
      "metadata": {
        "id": "12c42cb3-6a4b-4661-8871-fe2d2bc13857"
      },
      "outputs": [],
      "source": [
        "sales = pd.read_csv(f\"{FOLDER}/sales_short.csv\", sep=\";\")"
      ]
    },
    {
      "cell_type": "code",
      "source": [
        "sales.head()"
      ],
      "metadata": {
        "id": "nxwQ_lTnFNZY"
      },
      "id": "nxwQ_lTnFNZY",
      "execution_count": null,
      "outputs": []
    },
    {
      "cell_type": "markdown",
      "source": [
        "**Fragen**\n",
        "1. Wie viele Zeilen und Spalten hat der DataFrame?\n",
        "1. Was ist der durchschnittliche Tagesumsatz eines Stores?\n",
        "1. Was war die größte Anzahl von Kunden, die einen Store an einem Tag besucht haben?\n",
        "1. Welchen Datentyp haben die einzelnen Spalten? Sind die Datentypen sinnvoll?"
      ],
      "metadata": {
        "id": "k-2g6QTrZMj0"
      },
      "id": "k-2g6QTrZMj0"
    },
    {
      "cell_type": "code",
      "source": [
        "# Antworten\n"
      ],
      "metadata": {
        "id": "oIJuJAu8Yuem"
      },
      "id": "oIJuJAu8Yuem",
      "execution_count": null,
      "outputs": []
    },
    {
      "cell_type": "markdown",
      "source": [
        "## 1.3 Optionen beim Laden von Daten <a class=\"anchor\" id=\"laden\"></a>\n",
        "Mit den Methoden `pd.read_...` lassen sich Daten aus unterschiedlichen Dateiformaten laden. Es gibt eine Vielzahl von Parametern, mit denen Sie das Laden von Daten gezielt steuern können. Wir gehen hier auf einige wichtige Parameter ein. Eine Übersicht zu `pd.read_csv()` finden Sie [hier](https://pandas.pydata.org/docs/reference/api/pandas.read_csv.html)."
      ],
      "metadata": {
        "id": "HWs-9ijfZ1MH"
      },
      "id": "HWs-9ijfZ1MH"
    },
    {
      "cell_type": "markdown",
      "source": [
        "Über den Parameter `sep` definieren Sie das Zeichen mit dem Spalten im Ursprungsdokument voneinander getrennt werden. Bei csv-Dateien im deutschsprachigen Raum gilt häufig `sep=\";\"` im angelsäsischen Raum hingegen `sep=\",\"`. Der Default ist `sep=\",\"`."
      ],
      "metadata": {
        "id": "eDRJ4PCKa3fg"
      },
      "id": "eDRJ4PCKa3fg"
    },
    {
      "cell_type": "markdown",
      "source": [
        "Gelegentlich müssen wir auch definieren, wie Dezimalzahlen und Tausender im Ursprungsdokument dargestellt werden."
      ],
      "metadata": {
        "id": "3WouTjMPbnkc"
      },
      "id": "3WouTjMPbnkc"
    },
    {
      "cell_type": "code",
      "source": [
        "sales = pd.read_csv(f\"{FOLDER}/sales_short.csv\", sep=\";\", decimal=\".\", thousands=\",\")"
      ],
      "metadata": {
        "id": "00dJSXZ0bmwM"
      },
      "id": "00dJSXZ0bmwM",
      "execution_count": null,
      "outputs": []
    },
    {
      "cell_type": "markdown",
      "source": [
        "Über den Parameter `usecols` definieren Sie, welche Spalten gelesen werden sollen."
      ],
      "metadata": {
        "id": "k6ZEshPpc6LQ"
      },
      "id": "k6ZEshPpc6LQ"
    },
    {
      "cell_type": "code",
      "source": [
        "sales_customers = pd.read_csv(f\"{FOLDER}/sales_short.csv\", sep=\";\", usecols=[\"Sales\",\"Customers\",\"Date\"])"
      ],
      "metadata": {
        "id": "7iWEKRyVcUKa"
      },
      "id": "7iWEKRyVcUKa",
      "execution_count": null,
      "outputs": []
    },
    {
      "cell_type": "code",
      "source": [
        "sales_customers.head()"
      ],
      "metadata": {
        "id": "0mCiZZA_KJqT"
      },
      "id": "0mCiZZA_KJqT",
      "execution_count": null,
      "outputs": []
    },
    {
      "cell_type": "markdown",
      "source": [
        "Ebenfalls sehr wichtig ist der Parameter `dtype`. Über diesen steuern Sie den Datentyp, der für eine Spalte verwendet wird. Eine Übersicht zu den Datentypen finden Sie [hier](https://pbpython.com/pandas_dtypes.html)"
      ],
      "metadata": {
        "id": "dwwJAMihdZrp"
      },
      "id": "dwwJAMihdZrp"
    },
    {
      "cell_type": "code",
      "source": [
        "dtypes= {\n",
        "    \"Store\":\"str\",\n",
        "    \"DayOfWeek\":\"str\",\n",
        "    \"Open\":\"str\",\n",
        "    \"Promo\":\"str\",\n",
        "    \"StateHoliday\":\"str\",\n",
        "    \"SchoolHoliday\":\"str\",\n",
        "}"
      ],
      "metadata": {
        "id": "gOK-SUXkdpLF"
      },
      "id": "gOK-SUXkdpLF",
      "execution_count": null,
      "outputs": []
    },
    {
      "cell_type": "code",
      "source": [
        "sales = pd.read_csv(f\"{FOLDER}/sales_short.csv\", sep=\";\")"
      ],
      "metadata": {
        "id": "11nDCMJLK_nj"
      },
      "id": "11nDCMJLK_nj",
      "execution_count": null,
      "outputs": []
    },
    {
      "cell_type": "code",
      "source": [
        "sales.dtypes"
      ],
      "metadata": {
        "id": "zZ_Z1OAmLBRw"
      },
      "id": "zZ_Z1OAmLBRw",
      "execution_count": null,
      "outputs": []
    },
    {
      "cell_type": "code",
      "source": [
        "f\"{FOLDER}/sales_short.csv\""
      ],
      "metadata": {
        "id": "Phwzdzmbkv6g"
      },
      "id": "Phwzdzmbkv6g",
      "execution_count": null,
      "outputs": []
    },
    {
      "cell_type": "code",
      "source": [
        "sales = pd.read_csv(f\"{FOLDER}/sales_short.csv\", sep=\";\", dtype=dtypes)"
      ],
      "metadata": {
        "id": "cxWs4YHndjzm"
      },
      "id": "cxWs4YHndjzm",
      "execution_count": null,
      "outputs": []
    },
    {
      "cell_type": "code",
      "source": [
        "sales.dtypes"
      ],
      "metadata": {
        "id": "gormofkbdjdN"
      },
      "id": "gormofkbdjdN",
      "execution_count": null,
      "outputs": []
    },
    {
      "cell_type": "markdown",
      "source": [
        "Regelmäßig müssen Sie auch Spalten lesen, deren Eintragungen vom Datentyp Datum sind. Hierbei hilft Ihnen der Parameter `parse_dates` über den Sie in Form einer Liste die Spalten definieren, die Datumsangaben enthalten."
      ],
      "metadata": {
        "id": "9eJUg0Vdfr6n"
      },
      "id": "9eJUg0Vdfr6n"
    },
    {
      "cell_type": "code",
      "source": [
        "sales = pd.read_csv(f\"{FOLDER}/sales_short.csv\", sep=\";\", dtype=dtypes, parse_dates=[\"Date\"])"
      ],
      "metadata": {
        "id": "bqgXwIdWftjU"
      },
      "id": "bqgXwIdWftjU",
      "execution_count": null,
      "outputs": []
    },
    {
      "cell_type": "code",
      "source": [
        "sales.dtypes"
      ],
      "metadata": {
        "id": "-v5clBF7fzcf"
      },
      "id": "-v5clBF7fzcf",
      "execution_count": null,
      "outputs": []
    },
    {
      "cell_type": "code",
      "source": [
        "sales.head(2)"
      ],
      "metadata": {
        "id": "deCUWM6CgW6S"
      },
      "id": "deCUWM6CgW6S",
      "execution_count": null,
      "outputs": []
    },
    {
      "cell_type": "markdown",
      "id": "d4b3cb41-1670-4031-bfc7-3280c0c98c7d",
      "metadata": {
        "id": "d4b3cb41-1670-4031-bfc7-3280c0c98c7d"
      },
      "source": [
        "## 1.4 Sortieren <a class=\"anchor\" id=\"sortieren\"></a>\n",
        "Mit der Methode `sort_values` können Sie DataFrames nach Belieben sortieren."
      ]
    },
    {
      "cell_type": "code",
      "source": [
        "tabelle"
      ],
      "metadata": {
        "id": "QzlAGhD4VFVd"
      },
      "id": "QzlAGhD4VFVd",
      "execution_count": null,
      "outputs": []
    },
    {
      "cell_type": "code",
      "execution_count": null,
      "id": "6674386b-df6c-4778-8f7b-96630b334f8e",
      "metadata": {
        "id": "6674386b-df6c-4778-8f7b-96630b334f8e"
      },
      "outputs": [],
      "source": [
        "tabelle.sort_values(\"Tore_+\")"
      ]
    },
    {
      "cell_type": "markdown",
      "id": "84720ab7-cc0d-4c08-b4ba-e8491437b814",
      "metadata": {
        "id": "84720ab7-cc0d-4c08-b4ba-e8491437b814"
      },
      "source": [
        "**Frage**: Sie sehen, dass die Methode `sort_values` die Werte einer Spalte aufsteigend sortiert. Wie können Sie die Werte absteigend sortieren?"
      ]
    },
    {
      "cell_type": "code",
      "execution_count": null,
      "id": "a0b22a70-f58b-48dd-a0dc-d08136957169",
      "metadata": {
        "id": "a0b22a70-f58b-48dd-a0dc-d08136957169"
      },
      "outputs": [],
      "source": []
    },
    {
      "cell_type": "markdown",
      "id": "c3ea219f-b7d4-405c-8737-3b944d397d19",
      "metadata": {
        "id": "c3ea219f-b7d4-405c-8737-3b944d397d19"
      },
      "source": [
        "Mit der Funktion `sort_values` können Sie einen DataFrame auch nach mehreren Spalten sortieren. **Frage**: Bitte erläutern Sie nach welcher Systematik die Sortierung im unten gezeigten Beispiel erfolgt!"
      ]
    },
    {
      "cell_type": "code",
      "execution_count": null,
      "id": "3815bcea-b193-4703-a820-1a939511f021",
      "metadata": {
        "id": "3815bcea-b193-4703-a820-1a939511f021"
      },
      "outputs": [],
      "source": [
        "tabelle.sort_values([\"Unentschieden\",\"Tore_+\"])"
      ]
    },
    {
      "cell_type": "markdown",
      "id": "ac916dbb-0a0f-4e88-ad53-88d78a2fd518",
      "metadata": {
        "id": "ac916dbb-0a0f-4e88-ad53-88d78a2fd518"
      },
      "source": [
        "Für den Fall, dass die Sortierung nach mehreren Spalten erfolgen soll, kann ebenfalls individuell für jede Spalte eine Sortierungsvorschrift definiert werden."
      ]
    },
    {
      "cell_type": "code",
      "execution_count": null,
      "id": "6cf408b3-fadf-464d-8270-99d757b32ae0",
      "metadata": {
        "id": "6cf408b3-fadf-464d-8270-99d757b32ae0"
      },
      "outputs": [],
      "source": [
        "tabelle.sort_values([\"Unentschieden\",\"Tore_+\"], ascending=[True,False])"
      ]
    },
    {
      "cell_type": "markdown",
      "id": "2baa3286-0b09-44f0-9cb7-298d6e8787c6",
      "metadata": {
        "id": "2baa3286-0b09-44f0-9cb7-298d6e8787c6"
      },
      "source": [
        "## 1.5 Subsetting <a class=\"anchor\" id=\"subsetting\"></a>\n",
        "Mit \"Subsetting\" können Sie Teile eines DataFrames \"ausschneiden\"!"
      ]
    },
    {
      "cell_type": "markdown",
      "id": "81909c34-633a-4d09-bafd-45c49721f8eb",
      "metadata": {
        "id": "81909c34-633a-4d09-bafd-45c49721f8eb"
      },
      "source": [
        "### Subsetting von Spalten"
      ]
    },
    {
      "cell_type": "code",
      "execution_count": null,
      "id": "beb8e13f-838f-41cc-b541-9307bf8aba3a",
      "metadata": {
        "id": "beb8e13f-838f-41cc-b541-9307bf8aba3a"
      },
      "outputs": [],
      "source": [
        "# Einzelne Spalte - Variante 1\n",
        "tabelle[\"Mannschaft\"]"
      ]
    },
    {
      "cell_type": "code",
      "execution_count": null,
      "id": "afae845a-45a9-477c-9e9e-aea73107a1c8",
      "metadata": {
        "id": "afae845a-45a9-477c-9e9e-aea73107a1c8"
      },
      "outputs": [],
      "source": [
        "# Einzelne Spalte - Variante 2\n",
        "tabelle.Mannschaft"
      ]
    },
    {
      "cell_type": "markdown",
      "id": "e5f272ae-3b02-4062-9e5e-b902dcda9357",
      "metadata": {
        "id": "e5f272ae-3b02-4062-9e5e-b902dcda9357"
      },
      "source": [
        "**Frage:** Wie zeigen Sie nur die ersten drei Mannschaften an? Wie zeigen Sie nur die letzte Mannschaft an?"
      ]
    },
    {
      "cell_type": "code",
      "source": [],
      "metadata": {
        "id": "931oIruON-5H"
      },
      "id": "931oIruON-5H",
      "execution_count": null,
      "outputs": []
    },
    {
      "cell_type": "markdown",
      "id": "bbc700b4-5299-49ac-bfff-00343e0f81d1",
      "metadata": {
        "id": "bbc700b4-5299-49ac-bfff-00343e0f81d1"
      },
      "source": [
        "So wie zuvor können Sie erneut nach einzelnen Zeilen des DataFrames filtern. Wir werden uns nachfolgend und in einem späteren Kapitel noch intensiver damit befassen."
      ]
    },
    {
      "cell_type": "code",
      "source": [
        "spalten_namen"
      ],
      "metadata": {
        "id": "hDIuKvbbmQJW"
      },
      "id": "hDIuKvbbmQJW",
      "execution_count": null,
      "outputs": []
    },
    {
      "cell_type": "code",
      "source": [
        "spalten_namen = [\"Rang\",\"Mannschaft\", \"Tore_+\"]"
      ],
      "metadata": {
        "id": "f40-siUal7MP"
      },
      "id": "f40-siUal7MP",
      "execution_count": null,
      "outputs": []
    },
    {
      "cell_type": "code",
      "execution_count": null,
      "id": "a0666eec-678f-4175-ba9a-3a80cfe8a6f5",
      "metadata": {
        "id": "a0666eec-678f-4175-ba9a-3a80cfe8a6f5"
      },
      "outputs": [],
      "source": [
        "# Variante 1\n",
        "tabelle[spalten_namen][:3]"
      ]
    },
    {
      "cell_type": "code",
      "source": [
        "# Variante 2\n",
        "tabelle.loc[:2,spalten_namen]"
      ],
      "metadata": {
        "id": "tB2m92kOkK5Q"
      },
      "id": "tB2m92kOkK5Q",
      "execution_count": null,
      "outputs": []
    },
    {
      "cell_type": "code",
      "source": [
        "tabelle.head(3)"
      ],
      "metadata": {
        "id": "j1QKlnRFPw_2"
      },
      "id": "j1QKlnRFPw_2",
      "execution_count": null,
      "outputs": []
    },
    {
      "cell_type": "code",
      "source": [
        "tabelle.head(1)"
      ],
      "metadata": {
        "id": "J1W_1JuIn1T_"
      },
      "id": "J1W_1JuIn1T_",
      "execution_count": null,
      "outputs": []
    },
    {
      "cell_type": "code",
      "source": [
        "# Variante 3\n",
        "tabelle.iloc[:3,[0,5,6]]"
      ],
      "metadata": {
        "id": "CcVz0xKtka0C"
      },
      "id": "CcVz0xKtka0C",
      "execution_count": null,
      "outputs": []
    },
    {
      "cell_type": "markdown",
      "id": "5e3529f0-e0e3-4bb9-97f7-e06a178c1084",
      "metadata": {
        "id": "5e3529f0-e0e3-4bb9-97f7-e06a178c1084"
      },
      "source": [
        "### Subsetting von Zeilen"
      ]
    },
    {
      "cell_type": "markdown",
      "id": "a369d8de-4a36-400f-9894-25212e22c7f9",
      "metadata": {
        "id": "a369d8de-4a36-400f-9894-25212e22c7f9"
      },
      "source": [
        "Sie haben die Möglichkeit auf die Werte einer Spalte direkt logische Operationen anzuwenden. Im Ergebnis erhalten Sie nur die Zeilen des DataFrames, die die definierte Bedingung erfüllen. Mit der Anweisung `tabelle[\"Tore_+\"]>65` wird beispielweise für jeden Eintrag in der Spalte `Tore_+` geprüft, ob der entsprechende Wert größer `65` ist. Die Rückgabewerte dieser Prüfung sind zunächst boolsche Werte und geben an, ob die Bedingung wahr oder falsch ist."
      ]
    },
    {
      "cell_type": "code",
      "source": [
        "tabelle"
      ],
      "metadata": {
        "id": "ibWJSYCRSO14"
      },
      "id": "ibWJSYCRSO14",
      "execution_count": null,
      "outputs": []
    },
    {
      "cell_type": "code",
      "execution_count": null,
      "id": "80a87bcf-b764-4cda-a117-0cefe83ae375",
      "metadata": {
        "id": "80a87bcf-b764-4cda-a117-0cefe83ae375"
      },
      "outputs": [],
      "source": [
        "tabelle[\"Tore_+\"]>=50"
      ]
    },
    {
      "cell_type": "markdown",
      "id": "ab3f8036-5e49-4433-8f12-0c0f5b964ce4",
      "metadata": {
        "id": "ab3f8036-5e49-4433-8f12-0c0f5b964ce4"
      },
      "source": [
        "Das Ergebnis der obigen Prüfung können Sie nun zum Filtern des DataFrames wie folgt einsetzen:"
      ]
    },
    {
      "cell_type": "code",
      "execution_count": null,
      "id": "140b8907-9efe-42a5-bb44-3f0591210937",
      "metadata": {
        "id": "140b8907-9efe-42a5-bb44-3f0591210937"
      },
      "outputs": [],
      "source": [
        "# Variante 1\n",
        "tabelle[tabelle[\"Tore_+\"]>=50]"
      ]
    },
    {
      "cell_type": "code",
      "source": [
        "# Variante 2 mit Auswahl von Spalten\n",
        "tabelle.loc[tabelle[\"Tore_+\"]>=50,[\"Mannschaft\",\"Tore_+\"]]"
      ],
      "metadata": {
        "id": "XA-qlrXYooP1"
      },
      "id": "XA-qlrXYooP1",
      "execution_count": null,
      "outputs": []
    },
    {
      "cell_type": "markdown",
      "id": "c1f8c821-4695-4667-99c3-40bff873bbad",
      "metadata": {
        "id": "c1f8c821-4695-4667-99c3-40bff873bbad"
      },
      "source": [
        "**Frage:** Wie filtern Sie auf die Mannschaft `Dortmund`?"
      ]
    },
    {
      "cell_type": "code",
      "execution_count": null,
      "id": "03813aa6-fb2b-4b78-9400-ef454e6d6085",
      "metadata": {
        "id": "03813aa6-fb2b-4b78-9400-ef454e6d6085"
      },
      "outputs": [],
      "source": []
    },
    {
      "cell_type": "markdown",
      "id": "0652ded6-9325-47e7-bdff-44bcee195f62",
      "metadata": {
        "id": "0652ded6-9325-47e7-bdff-44bcee195f62"
      },
      "source": [
        "Sie haben zudem die Möglichkeit einen Dataframe nach mehreren Bedingungen zu filtern. Möchten Sie beispielsweise nur Mannschaften haben, die mehr oder genau 50 Tore geschossen und gleichzeitig nicht mehr als 4 Unentschieden haben, braucht es folgende Anweisung:"
      ]
    },
    {
      "cell_type": "code",
      "source": [
        "tabelle[tabelle[\"Tore_+\"]>=50]"
      ],
      "metadata": {
        "id": "ECf6KPPNsQ9S"
      },
      "id": "ECf6KPPNsQ9S",
      "execution_count": null,
      "outputs": []
    },
    {
      "cell_type": "code",
      "execution_count": null,
      "id": "63d7b4f8-0294-4c07-837c-ac36830f0d37",
      "metadata": {
        "id": "63d7b4f8-0294-4c07-837c-ac36830f0d37"
      },
      "outputs": [],
      "source": [
        "# \"&\" ist das logische \"UND\"\n",
        "tabelle[~(tabelle[\"Tore_+\"]>=50)]"
      ]
    },
    {
      "cell_type": "markdown",
      "id": "1e108b7f-bc70-4465-a421-186fa0d28f0e",
      "metadata": {
        "id": "1e108b7f-bc70-4465-a421-186fa0d28f0e"
      },
      "source": [
        "**Frage:** Was ist der Rückgabewert der folgenden Anweisung und welche Bedeutung hat das Zeichen `|`?"
      ]
    },
    {
      "cell_type": "markdown",
      "id": "e1da8e0b-2675-4340-ae59-0efecff03a3c",
      "metadata": {
        "id": "e1da8e0b-2675-4340-ae59-0efecff03a3c"
      },
      "source": [
        "```Python\n",
        "tabelle[(tabelle[\"Tore_+\"]>=50) | (tabelle[\"Tordifferenz\"]>=18)]\n",
        "```"
      ]
    },
    {
      "cell_type": "markdown",
      "id": "2c47df75-df10-42c6-844c-df689eda62cd",
      "metadata": {
        "id": "2c47df75-df10-42c6-844c-df689eda62cd"
      },
      "source": [
        "Eine weitere sehr nützliche Methode für das Subsetting ist `.isin([])`. Möchten Sie beispielsweise nach den Mannschaften `Dortmund` und `Leverkusen` filtern, gelingt dies wie folgt:"
      ]
    },
    {
      "cell_type": "code",
      "execution_count": null,
      "id": "c1720abb-378b-4b0f-9620-63ec8a6d23be",
      "metadata": {
        "id": "c1720abb-378b-4b0f-9620-63ec8a6d23be"
      },
      "outputs": [],
      "source": [
        "tabelle[tabelle[\"Mannschaft\"].isin([\"Dortmund\",\"Leverkusen\"])]"
      ]
    },
    {
      "cell_type": "markdown",
      "id": "763b59b2-42df-41a3-b01f-a056121666a4",
      "metadata": {
        "id": "763b59b2-42df-41a3-b01f-a056121666a4"
      },
      "source": [
        "### Aufgabe: Sortieren und Subsetting <a class=\"anchor\" id=\"subset_sort\"></a>"
      ]
    },
    {
      "cell_type": "markdown",
      "id": "cee5ce4b-57a6-42f4-b588-4a182e407f14",
      "metadata": {
        "id": "cee5ce4b-57a6-42f4-b588-4a182e407f14"
      },
      "source": [
        "Wir betrachten erneut den Rossmann Store Sales Datensatz - wir hatten diesen bereits zuvor geladen und unter der Variablen `sales` als DataFrame gespeichert. Bitte bearbeiten Sie die folgenden Aufgaben:\n",
        "1. Wählen Sie aus dem DataFrame die Spalten `\"Date\"`, `\"Sales\"` und `\"Customers\"` aus.\n",
        "1. Sortieren Sie die Sales absteigend. Welcher Store hatte den höchsten Umsatz an einem Tag? Was ist das entsprechende Datum?\n",
        "1. Filtern Sie den DataFrame auf Tagesumsätze zwischen 4.000\\$ und 8.000\\$.\n",
        "1. Wie viele Tage mit Tagesumsätzen zwischen 4.000\\$ und 8.000\\$ sind im Datensatz enthalten? Sie können dazu z.B. die Funktion `shape` oder `len` nutzen. --> Paare (Store-Datum)\n",
        "1. Filtern Sie den DataFrame auf die Stores `1`, `3` und `5`.\n",
        "1. Filtern Sie den DataFrame auf die Stores `1`, `3` und `5` und zeigen Sie nur solche Zeilen an, die einen Mindesttagesumsatz von 7.500\\$ aufweisen."
      ]
    },
    {
      "cell_type": "code",
      "execution_count": null,
      "id": "82bca8bf-3195-4e9c-8bfc-1660b6df0c65",
      "metadata": {
        "id": "82bca8bf-3195-4e9c-8bfc-1660b6df0c65"
      },
      "outputs": [],
      "source": []
    },
    {
      "cell_type": "markdown",
      "id": "0a7bfb2b-0d41-45ad-9ab4-265b9f8758a9",
      "metadata": {
        "id": "0a7bfb2b-0d41-45ad-9ab4-265b9f8758a9"
      },
      "source": [
        "## 1.6 Hinzufügen neuer Spalten <a class=\"anchor\" id=\"neue_spalte\"></a>"
      ]
    },
    {
      "cell_type": "markdown",
      "id": "0a4aa67e-1804-4f90-ae0e-4a19e2819da5",
      "metadata": {
        "id": "0a4aa67e-1804-4f90-ae0e-4a19e2819da5"
      },
      "source": [
        "**Neue Spalte mit Wert:** Wir erzeugen einen neuen DataFrame `df` und fügen eine neue Spalte ein, die in jeder Zeile immer den gleichen Wert hat:"
      ]
    },
    {
      "cell_type": "code",
      "execution_count": null,
      "id": "2f374017-4c2a-412b-bf23-f4fe3e5dca3f",
      "metadata": {
        "id": "2f374017-4c2a-412b-bf23-f4fe3e5dca3f"
      },
      "outputs": [],
      "source": [
        "df = pd.DataFrame([[1,1,1],[2,2,2],[3,3,3]], columns=[\"Spalte1\",\"Spalte2\",\"Spalte3\"])\n",
        "df"
      ]
    },
    {
      "cell_type": "code",
      "execution_count": null,
      "id": "88d2113f-f94e-49b2-a2e1-df18e8033f75",
      "metadata": {
        "id": "88d2113f-f94e-49b2-a2e1-df18e8033f75"
      },
      "outputs": [],
      "source": [
        "df[\"Spalte4\"]=4\n",
        "df"
      ]
    },
    {
      "cell_type": "markdown",
      "id": "70cc7ade-7df4-46fc-8483-356488a0d991",
      "metadata": {
        "id": "70cc7ade-7df4-46fc-8483-356488a0d991"
      },
      "source": [
        "**Neue Spalte mit berechneten Werten:** Wir können beliebige arithmetische Operationen auf Spalten (mit numerischen Werten) anwenden und daraus neue Spalten erzeugen."
      ]
    },
    {
      "cell_type": "code",
      "source": [
        "tabelle.head()"
      ],
      "metadata": {
        "id": "pGYDTOeWOTxQ"
      },
      "id": "pGYDTOeWOTxQ",
      "execution_count": null,
      "outputs": []
    },
    {
      "cell_type": "code",
      "source": [
        "tabelle[\"Neue_Spalte\"] = tabelle[\"Punkte\"]/2\n",
        "tabelle"
      ],
      "metadata": {
        "id": "9g-cbhr8XDAO"
      },
      "id": "9g-cbhr8XDAO",
      "execution_count": null,
      "outputs": []
    },
    {
      "cell_type": "code",
      "execution_count": null,
      "id": "be75416a-345a-463e-af21-e6e07a6a5daa",
      "metadata": {
        "id": "be75416a-345a-463e-af21-e6e07a6a5daa"
      },
      "outputs": [],
      "source": [
        "# Variante 1\n",
        "tabelle[\"Tore_pro_Spiel\"] = tabelle[\"Tore_+\"]/19\n",
        "\n",
        "# Variante 2 (besser)\n",
        "tabelle[\"Tore_pro_Spiel\"] = tabelle[\"Tore_+\"]/tabelle[\"Spiele\"]\n",
        "tabelle"
      ]
    },
    {
      "cell_type": "markdown",
      "id": "6342b087-6fe4-4294-b843-5aa1052f822e",
      "metadata": {
        "id": "6342b087-6fe4-4294-b843-5aa1052f822e"
      },
      "source": [
        "**Frage:** Wie fügen Sie eine neue Spalte ein, die für jede Mannschaft die Gegentore pro Spiel darstellt?"
      ]
    },
    {
      "cell_type": "code",
      "source": [],
      "metadata": {
        "id": "sRd_FPxq8XJg"
      },
      "id": "sRd_FPxq8XJg",
      "execution_count": null,
      "outputs": []
    },
    {
      "cell_type": "markdown",
      "id": "14f5ccf2-1b99-477d-a62b-99e2a076db1f",
      "metadata": {
        "id": "14f5ccf2-1b99-477d-a62b-99e2a076db1f"
      },
      "source": [
        "# 2. Aggregation von Daten <a class=\"anchor\" id=\"aggregation\"></a>"
      ]
    },
    {
      "cell_type": "markdown",
      "id": "f3079418-db95-4a3f-8c1f-3002178becf7",
      "metadata": {
        "id": "f3079418-db95-4a3f-8c1f-3002178becf7"
      },
      "source": [
        "## 2.1 Erste deskriptive Parameter & Summierung <a class=\"anchor\" id=\"parameter\"></a>"
      ]
    },
    {
      "cell_type": "code",
      "source": [
        "tabelle"
      ],
      "metadata": {
        "id": "NPFyG9yEvMXz"
      },
      "id": "NPFyG9yEvMXz",
      "execution_count": null,
      "outputs": []
    },
    {
      "cell_type": "code",
      "execution_count": null,
      "id": "8c158b53-1895-4d5a-887e-548b5b1dc399",
      "metadata": {
        "id": "8c158b53-1895-4d5a-887e-548b5b1dc399"
      },
      "outputs": [],
      "source": [
        "# Mittelwert\n",
        "tabelle[\"Tore_+\"].mean()"
      ]
    },
    {
      "cell_type": "code",
      "execution_count": null,
      "id": "d04e2644-409b-4519-aa68-6c22bf2ed25f",
      "metadata": {
        "id": "d04e2644-409b-4519-aa68-6c22bf2ed25f"
      },
      "outputs": [],
      "source": [
        "# Median\n",
        "tabelle[\"Tore_+\"].median()"
      ]
    },
    {
      "cell_type": "code",
      "execution_count": null,
      "id": "65d7cb0b-b8dd-48d0-a37e-455a7df70f1c",
      "metadata": {
        "id": "65d7cb0b-b8dd-48d0-a37e-455a7df70f1c"
      },
      "outputs": [],
      "source": [
        "# Standardsabweichung\n",
        "tabelle[\"Tore_+\"].std()"
      ]
    },
    {
      "cell_type": "markdown",
      "id": "b14e7c50-e960-4a75-adc1-8e7c051140fa",
      "metadata": {
        "id": "b14e7c50-e960-4a75-adc1-8e7c051140fa"
      },
      "source": [
        "Es besteht die Möglichkeit, dass Sie Methoden zur Berechnung von statistischen Parametern auf mehrere Spalten gleichzeitig anwenden:"
      ]
    },
    {
      "cell_type": "markdown",
      "id": "b5eebeb0-7b4b-4a9b-b132-03f2a5cf06d8",
      "metadata": {
        "id": "b5eebeb0-7b4b-4a9b-b132-03f2a5cf06d8"
      },
      "source": [
        "Berechnung des Mittelwertes für die beiden Spalten `Tore_+` und `Tore_-`:"
      ]
    },
    {
      "cell_type": "code",
      "execution_count": null,
      "id": "b22e7f41-aa78-4cc4-85ee-cbdaaa6a761a",
      "metadata": {
        "id": "b22e7f41-aa78-4cc4-85ee-cbdaaa6a761a"
      },
      "outputs": [],
      "source": [
        "tabelle[[\"Tore_+\",\"Tore_-\",\"Tordifferenz\",\"Punkte\"]].median()"
      ]
    },
    {
      "cell_type": "markdown",
      "id": "22c0ea69-58a6-413f-9d3e-5d78ff49462c",
      "metadata": {
        "id": "22c0ea69-58a6-413f-9d3e-5d78ff49462c"
      },
      "source": [
        "Die Anzahl aller geschossenen Tore berechnet Ihnen die Methode `sum()`:"
      ]
    },
    {
      "cell_type": "code",
      "execution_count": null,
      "id": "5f78fd3a-3957-4fc2-ad51-44e3099fa7e5",
      "metadata": {
        "id": "5f78fd3a-3957-4fc2-ad51-44e3099fa7e5"
      },
      "outputs": [],
      "source": [
        "tabelle[\"Tore_+\"].sum()"
      ]
    },
    {
      "cell_type": "markdown",
      "id": "d9a2af99-41a6-4ae5-b4ed-339169d3b71b",
      "metadata": {
        "id": "d9a2af99-41a6-4ae5-b4ed-339169d3b71b"
      },
      "source": [
        "**Frage:** Was macht die Funktion `cumsum`? Sehen Sie sich dazu die Ausgabe in der unteren Code-Zellen genauer an."
      ]
    },
    {
      "cell_type": "code",
      "execution_count": null,
      "id": "6e7d5d58-7df4-47ec-8689-d3221a0bc88c",
      "metadata": {
        "id": "6e7d5d58-7df4-47ec-8689-d3221a0bc88c"
      },
      "outputs": [],
      "source": [
        "tabelle[\"cumsum\"] = tabelle[\"Tore_+\"].cumsum()\n",
        "tabelle"
      ]
    },
    {
      "cell_type": "markdown",
      "id": "25d8dd8f-34a3-4c82-846d-d858fca706ca",
      "metadata": {
        "id": "25d8dd8f-34a3-4c82-846d-d858fca706ca"
      },
      "source": [
        "**Frage**: Wie lassen sich die kummulativen Häufigkeiten als Prozent darstellen? Denken Sie nochmals an den Abschnitt, in dem wir beliebige arithmetische Operationen für einzelne Spalten durchgeführt haben!"
      ]
    },
    {
      "cell_type": "code",
      "execution_count": null,
      "id": "fc6eecd6-d9df-41e4-8f1e-6e6dea05c8cf",
      "metadata": {
        "id": "fc6eecd6-d9df-41e4-8f1e-6e6dea05c8cf"
      },
      "outputs": [],
      "source": []
    },
    {
      "cell_type": "markdown",
      "id": "e324dbe8-c866-4f6e-ae28-2958f80f2c54",
      "metadata": {
        "id": "e324dbe8-c866-4f6e-ae28-2958f80f2c54"
      },
      "source": [
        "### Aufgabe: Parameter und Summen - Rossmann Store Sales <a class=\"anchor\" id=\"parameter_summen\"></a>"
      ]
    },
    {
      "cell_type": "markdown",
      "id": "bc95d137-308e-4229-a377-087cd6959426",
      "metadata": {
        "id": "bc95d137-308e-4229-a377-087cd6959426"
      },
      "source": [
        "Wir betrachten erneut die Daten von Rossmann:"
      ]
    },
    {
      "cell_type": "code",
      "execution_count": null,
      "id": "45e19eec-9416-4276-b390-d7b6173a2355",
      "metadata": {
        "id": "45e19eec-9416-4276-b390-d7b6173a2355"
      },
      "outputs": [],
      "source": [
        "sales.head()"
      ]
    },
    {
      "cell_type": "markdown",
      "id": "a136425c-dc46-4479-a865-8153220735af",
      "metadata": {
        "id": "a136425c-dc46-4479-a865-8153220735af"
      },
      "source": [
        "Bitte bearbeiten Sie die folgenden Aufgaben:\n",
        "1. Über welchen Zeitraum wurde die Salesdaten von Rossmann erhoben?\n",
        "1. Was ist der durchschnittliche Tagesumsatz eines Rossmann Stores?\n",
        "1. An welchen Tagen (`Date`) konnte die kleinsten und größten Tagesumsätze beobachtet werden? Nutzen Sie hierzu die `max()` und `min()` Methoden!\n",
        "1. Was ist der gesamte Umsatz von Rossmann über alle Stores im Beobachtungszeitraum? Nutzen Sie die `sum()` Methode!\n",
        "1. Fügen Sie eine neue Spalte ein, die den mittleren Tagesumsatz pro Kunde darstellt! Schauen Sie sich dazu nochmals das Kapitel zum Einfügen neuer Spalten an!\n",
        "1. An wie viel Tagen gab es Promotionen?\n",
        "1. Wie hoch liegt der mittlere Tageumsatz von Store `262`, wenn keine Promotionen laufen?\n",
        "1. Wie hoch liegt der mittlere Tageumsatz von Store `262`, wenn Promotionen laufen?\n"
      ]
    },
    {
      "cell_type": "code",
      "source": [],
      "metadata": {
        "id": "5sblyY3AAWix"
      },
      "id": "5sblyY3AAWix",
      "execution_count": null,
      "outputs": []
    },
    {
      "cell_type": "markdown",
      "id": "c39470f3-7d32-4ba5-8ea0-f517081d1f94",
      "metadata": {
        "id": "c39470f3-7d32-4ba5-8ea0-f517081d1f94"
      },
      "source": [
        "## 2.2 Zählen <a class=\"anchor\" id=\"zaehlen\"></a>\n",
        "Wir bleiben beim Rossmann Datensatz. Enthalten Spalten kategoriale Werte interessiert man sich z.B. dafür, wie häufig eine Kategorie auftritt. Pandas stellt dafür die Funktion `value_counts` bereit:"
      ]
    },
    {
      "cell_type": "code",
      "source": [
        "tabelle"
      ],
      "metadata": {
        "id": "FzKs-d7UYOFr"
      },
      "id": "FzKs-d7UYOFr",
      "execution_count": null,
      "outputs": []
    },
    {
      "cell_type": "code",
      "source": [
        "tabelle[\"Unentschieden\"].value_counts()"
      ],
      "metadata": {
        "id": "xDppAUTOYGa3"
      },
      "id": "xDppAUTOYGa3",
      "execution_count": null,
      "outputs": []
    },
    {
      "cell_type": "code",
      "execution_count": null,
      "id": "3e22e628-1a71-4d14-ae3d-2123fd03cbf5",
      "metadata": {
        "id": "3e22e628-1a71-4d14-ae3d-2123fd03cbf5"
      },
      "outputs": [],
      "source": [
        "sales[\"Store\"].value_counts()"
      ]
    },
    {
      "cell_type": "markdown",
      "id": "4c84a07c-e2ea-4e2d-8409-29fb273db13f",
      "metadata": {
        "id": "4c84a07c-e2ea-4e2d-8409-29fb273db13f"
      },
      "source": [
        "**Frage:** Was macht die Parameter `normalize` und `ascending` in der Funktion `value_counts`?"
      ]
    },
    {
      "cell_type": "code",
      "execution_count": null,
      "id": "4ef89140-5f52-44fb-b152-8a47958d8343",
      "metadata": {
        "id": "4ef89140-5f52-44fb-b152-8a47958d8343"
      },
      "outputs": [],
      "source": []
    },
    {
      "cell_type": "markdown",
      "id": "c7066e4f-4600-48b7-86b6-d4bfa39ea3ed",
      "metadata": {
        "id": "c7066e4f-4600-48b7-86b6-d4bfa39ea3ed"
      },
      "source": [
        "## 2.3 Gruppierungen und Aggregationen <a class=\"anchor\" id=\"gruppierung\"></a>"
      ]
    },
    {
      "cell_type": "markdown",
      "id": "302947a0-af37-4b26-8908-8d7326f5058f",
      "metadata": {
        "id": "302947a0-af37-4b26-8908-8d7326f5058f"
      },
      "source": [
        "Wenn wir uns in die Lage eines zentralen Controllings versetzen, so interessieren und natürlich die Umsätze eine jeden Stores. Zum Beispiel könnten wir fragen, wie die mittleren Tagesumsätze je Store ausfallen, um anschließend die einzelnen Filialen miteinander zu vergleichen. Mit den bisherigen Methoden können wir solche Rechnung machen:"
      ]
    },
    {
      "cell_type": "code",
      "execution_count": null,
      "id": "0d22db07-d217-4b77-ba9a-db467b52b5ff",
      "metadata": {
        "id": "0d22db07-d217-4b77-ba9a-db467b52b5ff"
      },
      "outputs": [],
      "source": [
        "sales_store1 = sales[sales.Store==\"1\"]\n",
        "sales_store262 = sales[sales.Store==\"262\"]\n",
        "sales_store159 = sales[sales.Store==\"159\"]\n"
      ]
    },
    {
      "cell_type": "code",
      "source": [
        "sales_store1.head()"
      ],
      "metadata": {
        "id": "bdLqOyRRP_YM"
      },
      "id": "bdLqOyRRP_YM",
      "execution_count": null,
      "outputs": []
    },
    {
      "cell_type": "code",
      "execution_count": null,
      "id": "e15a4d1a-c0ec-46a3-893f-3243b779ccbf",
      "metadata": {
        "id": "e15a4d1a-c0ec-46a3-893f-3243b779ccbf"
      },
      "outputs": [],
      "source": [
        "mean_sales_store1 = sales_store1.Sales.mean()\n",
        "mean_sales_store262 = sales_store262.Sales.mean()\n",
        "mean_sales_store159 = sales_store159.Sales.mean()\n",
        "mean_sales_store1, mean_sales_store262, mean_sales_store159"
      ]
    },
    {
      "cell_type": "code",
      "source": [
        "sales.Store.nunique()"
      ],
      "metadata": {
        "id": "McIbJtzqUzDY"
      },
      "id": "McIbJtzqUzDY",
      "execution_count": null,
      "outputs": []
    },
    {
      "cell_type": "markdown",
      "id": "97e77a23-3ba4-45ba-ac87-b7b510ee5866",
      "metadata": {
        "id": "97e77a23-3ba4-45ba-ac87-b7b510ee5866"
      },
      "source": [
        "Sie können unmittelbar erkennen, dass diese Art der Berechnung bei einer Vielzahl von Stores extrem mühsam ist. Pandas stellt glücklicherweise Methoden bereit, die Ihnen die Arbeit enorm erleichtern, insbesondere die `groupby` Funktion."
      ]
    },
    {
      "cell_type": "markdown",
      "id": "fde48418-0ee3-40ee-9a59-441f195071f8",
      "metadata": {
        "id": "fde48418-0ee3-40ee-9a59-441f195071f8"
      },
      "source": [
        "Wir können beispielsweise ganz leicht den mittleren Tagesumsatz je Store berechnen, wenn wir zunächst die Daten nach Stores gruppieren (`sales.groupby(\"Store\")`), anschließend die Spalte `Sales` auswählen (`sales.groupby(\"Store\")[\"Sales\"]`) und abschließend je Store den den mittleren Tagesumsatz berechnen:"
      ]
    },
    {
      "cell_type": "code",
      "source": [
        "sales[\"Store\"].value_counts()"
      ],
      "metadata": {
        "id": "bWOp_kSAYkLn"
      },
      "id": "bWOp_kSAYkLn",
      "execution_count": null,
      "outputs": []
    },
    {
      "cell_type": "code",
      "source": [
        "sales[sales.Store==1][\"Sales\"].mean()"
      ],
      "metadata": {
        "id": "SQOcaV5wZULj"
      },
      "id": "SQOcaV5wZULj",
      "execution_count": null,
      "outputs": []
    },
    {
      "cell_type": "code",
      "execution_count": null,
      "id": "e02def64-6db0-480b-a38c-096f2d9bef66",
      "metadata": {
        "id": "e02def64-6db0-480b-a38c-096f2d9bef66"
      },
      "outputs": [],
      "source": [
        "sales.groupby(\"Store\")[\"Sales\"].mean()"
      ]
    },
    {
      "cell_type": "code",
      "execution_count": null,
      "id": "2d5fefbb-7d7b-4863-999b-6d0df35782c4",
      "metadata": {
        "id": "2d5fefbb-7d7b-4863-999b-6d0df35782c4"
      },
      "outputs": [],
      "source": [
        "# Mit Sortierung\n",
        "sales.groupby(\"Store\")[\"Sales\"].mean().sort_values(ascending=False).head()"
      ]
    },
    {
      "cell_type": "markdown",
      "id": "e30c1434-14fc-45c9-ad19-6c14a2596750",
      "metadata": {
        "id": "e30c1434-14fc-45c9-ad19-6c14a2596750"
      },
      "source": [
        "Sie haben die Möglichkeit mit der Funktion `groupby` auch Gruppierungen auf mehrere Spalten durchzuführen. Zum Beispiel können wir für jeden Store und Wochentag den mittleren Tagesumsatz berechnen:"
      ]
    },
    {
      "cell_type": "code",
      "execution_count": null,
      "id": "d4296c36-7567-4d99-8fbd-9a8c6cc2ced4",
      "metadata": {
        "id": "d4296c36-7567-4d99-8fbd-9a8c6cc2ced4"
      },
      "outputs": [],
      "source": [
        "sales.groupby([\"Store\",\"DayOfWeek\"])[\"Sales\"].mean()"
      ]
    },
    {
      "cell_type": "markdown",
      "source": [
        "Mit dem Befehl `reset_index()` wird der Index des DataFrames wieder als Spalte gesetzt!"
      ],
      "metadata": {
        "id": "aKTae_cun93n"
      },
      "id": "aKTae_cun93n"
    },
    {
      "cell_type": "code",
      "source": [
        "sales.groupby([\"Store\",\"DayOfWeek\"])[\"Sales\"].mean().reset_index()"
      ],
      "metadata": {
        "id": "Qkqb_9qhn3Vm"
      },
      "id": "Qkqb_9qhn3Vm",
      "execution_count": null,
      "outputs": []
    },
    {
      "cell_type": "markdown",
      "id": "7fc57712-3930-4abb-8d30-2d2082b1e84a",
      "metadata": {
        "id": "7fc57712-3930-4abb-8d30-2d2082b1e84a"
      },
      "source": [
        "Mithilfe der Methode `agg` können Sie gleichzeitig mehrere Aggregationsfunktionen berechnen lassen. Dazu übergeben Sie an die Funktion `agg` eine Liste, die die relevanten Funktionen als String enthält:"
      ]
    },
    {
      "cell_type": "code",
      "execution_count": null,
      "id": "059967cc-449d-42c4-9b08-38c5084af007",
      "metadata": {
        "id": "059967cc-449d-42c4-9b08-38c5084af007"
      },
      "outputs": [],
      "source": [
        "sales.groupby([\"Store\",\"DayOfWeek\"])[\"Sales\"].agg([\"min\",\"mean\",\"max\",\"std\", \"median\"])"
      ]
    },
    {
      "cell_type": "markdown",
      "id": "53b4c001-b74e-468b-b3cd-094508e2d7bf",
      "metadata": {
        "id": "53b4c001-b74e-468b-b3cd-094508e2d7bf"
      },
      "source": [
        "## 2.4 Pivottabellen <a class=\"anchor\" id=\"pivot\"></a>\n",
        "Sie kennen vermutlich Pivottabellen aus Excel. Diese lassen sich auch sehr leicht in pandas erzeugen. Dazu verwenden wir die Methode `pivot_table`. Die Ergebnisse sind analog zu denen aus den vorherigen Abschnitten, wenn wir `groupby` mit entsprechenden Aggreagationsmethoden aufrufen. Die Darstellung unterscheidet sich allerdings ein wenig."
      ]
    },
    {
      "cell_type": "code",
      "execution_count": null,
      "id": "513e7fb9-f728-4f6c-bc88-7493692905a9",
      "metadata": {
        "id": "513e7fb9-f728-4f6c-bc88-7493692905a9"
      },
      "outputs": [],
      "source": [
        "# Mittelwert des Tagesumsatzes je Store\n",
        "sales.pivot_table(values=\"Sales\", index=\"Store\", aggfunc=\"mean\")\n",
        "# ist identisch mit\n",
        "#sales.groupby(\"Store\")[\"Sales\"].mean()"
      ]
    },
    {
      "cell_type": "code",
      "execution_count": null,
      "id": "65ac535c-b0c0-4210-8a3b-ee5d8723b70c",
      "metadata": {
        "id": "65ac535c-b0c0-4210-8a3b-ee5d8723b70c"
      },
      "outputs": [],
      "source": [
        "# Min, Max und Mittelwert des Tagesumsatzes je Store\n",
        "sales.pivot_table(values=\"Sales\", index=\"Store\", aggfunc=[\"min\",\"mean\",\"max\"])"
      ]
    },
    {
      "cell_type": "code",
      "execution_count": null,
      "id": "e599a0ce-1e55-4488-b21f-a5cd5d0eb40a",
      "metadata": {
        "id": "e599a0ce-1e55-4488-b21f-a5cd5d0eb40a"
      },
      "outputs": [],
      "source": [
        "# Min, Max und Mittelwert des mittleren Tagesumsatzes je Wochentag\n",
        "sales.pivot_table(values=\"Sales\",\n",
        "               index=\"Store\",\n",
        "               aggfunc=\"mean\",\n",
        "               columns=\"DayOfWeek\",\n",
        "               fill_value=\"-\",\n",
        "               margins=True\n",
        "              )"
      ]
    },
    {
      "cell_type": "markdown",
      "source": [
        "## 2.5 Die Funktion `transform` <a class=\"anchor\" id=\"transform\"></a>\n",
        "Sie haben gesehen, dass bei Verwendung der Funktion `groupby` ein neuer DataFrame entsteht, der so viele Zeilen hat wie es verschiedene Gruppen gibt. Es kommt regelmäßig vor, dass Sie Berechnungen auf gruppierten Daten machen möchten, das berechnete Ergebnis aber wieder dem urspünglichen DataFrame in Form einer neuen Spalte hinzufügen wollen.\n",
        "\n",
        "Beispielsweise interessiert Sie, ob der Tagesumsatz über dem durchschnittlichen Tagesumsatz eines Stores liegt. Sie müssen es also schaffen, für jeden Store den durchschnittlichen Tagesumsatz zu berechnen und diesen anschließend mit jedem der einzelnen Tagesumsätze vergleichen."
      ],
      "metadata": {
        "id": "9_5D58TJypu_"
      },
      "id": "9_5D58TJypu_"
    },
    {
      "cell_type": "code",
      "source": [
        "# Hier wird nur der mittlere Tagesumsatz je Store zurückgegeben\n",
        "sales.groupby(\"Store\",sort=False)[\"Sales\"].mean().head()"
      ],
      "metadata": {
        "id": "lrt_-Y_IyjRm"
      },
      "id": "lrt_-Y_IyjRm",
      "execution_count": null,
      "outputs": []
    },
    {
      "cell_type": "code",
      "source": [
        "# hier wird der mittlere Tagesumsatz je Store berechnet und\n",
        "# anschließend für jede Zeile des ursprünglichen DataFrames passend zurückgegeben\n",
        "sales.groupby(\"Store\")[\"Sales\"].transform(\"mean\")"
      ],
      "metadata": {
        "id": "XXAb-nNK1akD"
      },
      "id": "XXAb-nNK1akD",
      "execution_count": null,
      "outputs": []
    },
    {
      "cell_type": "code",
      "source": [
        "sales[\"MeanStoreSales\"] = sales.groupby(\"Store\")[\"Sales\"].transform(\"mean\")\n",
        "sales[sales.Store.isin([\"1\",\"2\"])].head()"
      ],
      "metadata": {
        "id": "2Pt-JaPL2qfK"
      },
      "id": "2Pt-JaPL2qfK",
      "execution_count": null,
      "outputs": []
    },
    {
      "cell_type": "code",
      "source": [
        "sales[\"SalesAboveMean\"] = sales[\"Sales\"] > sales[\"MeanStoreSales\"]\n",
        "sales.head()"
      ],
      "metadata": {
        "id": "9xmpQ62r2wmX"
      },
      "id": "9xmpQ62r2wmX",
      "execution_count": null,
      "outputs": []
    },
    {
      "cell_type": "markdown",
      "source": [
        "Eine Übersicht zu den diversen Funktionen mit denen Sie DataFrames manipulieren können, finden Sie [hier](https://pandas.pydata.org/Pandas_Cheat_Sheet.pdf)."
      ],
      "metadata": {
        "id": "nLw4BCn3291r"
      },
      "id": "nLw4BCn3291r"
    },
    {
      "cell_type": "markdown",
      "id": "18f316f8-6666-4e44-9a79-a0a749037193",
      "metadata": {
        "id": "18f316f8-6666-4e44-9a79-a0a749037193"
      },
      "source": [
        "### Aufgabe: Data Wrangling & Aggregation - Verkaufszahlen Walmart <a class=\"anchor\" id=\"walmart\"></a>"
      ]
    },
    {
      "cell_type": "markdown",
      "id": "c5b9669d-89fd-4d6c-829a-72c380f1f8a2",
      "metadata": {
        "id": "c5b9669d-89fd-4d6c-829a-72c380f1f8a2"
      },
      "source": [
        "Wir beschäftigen uns im folgenden mit einem Datensatz von Walmart. Dieser wurde 2020 von Walmart auf Kaggle veröffentlicht. Das Ziel des Wettbewerbs bestand darin, ML-Verfahren zu entwickeln, die bestmöglich die Verkäufe von einzelnen Produkten in Walmart-Filialen in den nächsten 28 Tagen vorhersagen. Nähere Informationen zum Wettbewerb finden Sie [hier](https://www.kaggle.com/competitions/m5-forecasting-accuracy/overview/description).\n",
        "\n",
        "Bevor wir zu den eigentlichen Aufgaben kommen, müssen zunächst zwei verschiedene Datensätze laden und geeignet aufbereiten und miteinander verbinden (joins)."
      ]
    },
    {
      "cell_type": "code",
      "source": [
        "FOLDER = \"Business_Intelligence/Daten/Walmart\""
      ],
      "metadata": {
        "id": "3OgC78uhhef-"
      },
      "id": "3OgC78uhhef-",
      "execution_count": null,
      "outputs": []
    },
    {
      "cell_type": "code",
      "execution_count": null,
      "id": "2bc51ae8-019f-4dc6-ba0e-8a4e57785bf9",
      "metadata": {
        "id": "2bc51ae8-019f-4dc6-ba0e-8a4e57785bf9"
      },
      "outputs": [],
      "source": [
        "sales = pd.read_csv(f\"{FOLDER}/sales.csv\", index_col=0)"
      ]
    },
    {
      "cell_type": "code",
      "source": [
        "sales.head()"
      ],
      "metadata": {
        "id": "nLC_dXYdCUOS"
      },
      "id": "nLC_dXYdCUOS",
      "execution_count": null,
      "outputs": []
    },
    {
      "cell_type": "markdown",
      "source": [
        "Die Salesdaten wie oben angezeigt, liegen im sogenannten Wide-Format vor. In den späteren Anwendungen des maschinellen Lernens werden wir regelmäßig mit dem sogenannten Long-Format arbeiten. Für eine Umwandlung in das Long-Format können wir die Funktion `melt` verwenden. Unter folgendem [Link](https://pandas.pydata.org/docs/user_guide/reshaping.html#reshaping-melt) finden Sie auch nochmal detailliertere Erklärungen zu dieser und anderen Funktionen."
      ],
      "metadata": {
        "id": "kX-7fTu4A9a_"
      },
      "id": "kX-7fTu4A9a_"
    },
    {
      "cell_type": "code",
      "source": [
        "sales = sales.melt(\n",
        "    id_vars=[\"id\",\"item_id\",\"dept_id\", \"cat_id\", \"store_id\", \"state_id\"],\n",
        "    var_name=\"day\",\n",
        "    value_name=\"demand\"\n",
        "    )"
      ],
      "metadata": {
        "id": "FcVAuy6N5K8Q"
      },
      "id": "FcVAuy6N5K8Q",
      "execution_count": null,
      "outputs": []
    },
    {
      "cell_type": "code",
      "source": [
        "sales.tail()"
      ],
      "metadata": {
        "id": "peN0Ps6y9UqU"
      },
      "id": "peN0Ps6y9UqU",
      "execution_count": null,
      "outputs": []
    },
    {
      "cell_type": "markdown",
      "source": [
        "In der Datei `calendar` finden Sie nähere Informationen zu den einzelnen Verkaufsdaten, d.h. Datum, Wochentag, Jahr, etc. Die beiden DataFrame lassen sich über die Spalte `day` (`sales`) und `d` (`calendar`) miteinander verknüpfen. Wir werden einen Left-Join verwenden, um beide Datensätze zu verbinden. Dies gelingt über die Funktion `merge` und der Definition entsprechender Parameter."
      ],
      "metadata": {
        "id": "8o65zPv_BsnU"
      },
      "id": "8o65zPv_BsnU"
    },
    {
      "cell_type": "code",
      "source": [
        "calendar = pd.read_csv(f\"{FOLDER}/calendar.csv\")\n",
        "calendar.head(10)"
      ],
      "metadata": {
        "id": "gv2D2PEB9JM-"
      },
      "id": "gv2D2PEB9JM-",
      "execution_count": null,
      "outputs": []
    },
    {
      "cell_type": "code",
      "source": [
        "# merge sales und calendar\n",
        "sales = pd.merge(sales, calendar, how=\"left\", left_on=\"day\", right_on=\"d\")\n",
        "sales.drop(columns=[\"d\"], inplace=True)\n",
        "sales.head()"
      ],
      "metadata": {
        "id": "EA_95Wg99J9R"
      },
      "id": "EA_95Wg99J9R",
      "execution_count": null,
      "outputs": []
    },
    {
      "cell_type": "markdown",
      "id": "eb2dc87c-b052-4895-ab01-400e00970a85",
      "metadata": {
        "id": "eb2dc87c-b052-4895-ab01-400e00970a85"
      },
      "source": [
        "Bitte berarbeiten Sie nun die folgenden Aufgaben:\n",
        "1. In welchem Zeitraum wurden die Daten erhoben?\n",
        "1. Wie viele verschiedene Stores gibt es im Datensatz?\n",
        "1. Berechnen Sie den durschnittlichen Tagesabsatz (in Stück) für jeden Artikel? Nutzen Sie die `groupby` und anschließend die `mean` Methode!\n",
        "1. Berechnen Sie für jeden Artikel den durchschnittlichen Tagesabsatz und fügen Sie diesen dem ursprünglichen DataFrame `sales` als neue Spalte hinzu. Nutzen Sie dazu die Funktion `transform`.\n",
        "1. Fügen Sie anschließend eine neue Spalte hinzu, die den Tagesabsatz ins Verhältnis zum durchschnittlichen Tagesabsatz setzt.\n",
        "1. **ENDGEGNERFRAGE:** Fügen Sie eine neue Spalte ein, die den Absatz des Vortages eines Artikels darstellt. Nutzen Sie die Funktionen `transform` & `shift` i.V.m. einer `lambda`-Funktion.\n",
        "1. **ENDGEGNERFRAGE**: Fügen Sie eine neue Spalte ein, die den mittleren Absatz der letzten 3 Tage eines Artikels darstellt. Nutzen Sie die Funktionen `transform` & `shift`, `rolling` i.V.m. einer `lambda`-Funktion."
      ]
    },
    {
      "cell_type": "code",
      "source": [],
      "metadata": {
        "id": "KI8f1aaUIUlh"
      },
      "id": "KI8f1aaUIUlh",
      "execution_count": null,
      "outputs": []
    },
    {
      "cell_type": "code",
      "source": [],
      "metadata": {
        "id": "s8_Gwj2JiohE"
      },
      "id": "s8_Gwj2JiohE",
      "execution_count": null,
      "outputs": []
    }
  ],
  "metadata": {
    "kernelspec": {
      "display_name": "Python 3 (ipykernel)",
      "language": "python",
      "name": "python3"
    },
    "language_info": {
      "codemirror_mode": {
        "name": "ipython",
        "version": 3
      },
      "file_extension": ".py",
      "mimetype": "text/x-python",
      "name": "python",
      "nbconvert_exporter": "python",
      "pygments_lexer": "ipython3",
      "version": "3.8.5"
    },
    "colab": {
      "provenance": [],
      "include_colab_link": true
    }
  },
  "nbformat": 4,
  "nbformat_minor": 5
}