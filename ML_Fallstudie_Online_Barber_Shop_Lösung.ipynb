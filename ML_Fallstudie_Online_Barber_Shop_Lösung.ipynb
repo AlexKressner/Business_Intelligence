{
  "cells": [
    {
      "cell_type": "markdown",
      "metadata": {
        "id": "view-in-github",
        "colab_type": "text"
      },
      "source": [
        "<a href=\"https://colab.research.google.com/github/AlexKressner/Business_Intelligence/blob/main/ML_Fallstudie_Online_Barber_Shop_L%C3%B6sung.ipynb\" target=\"_parent\"><img src=\"https://colab.research.google.com/assets/colab-badge.svg\" alt=\"Open In Colab\"/></a>"
      ]
    },
    {
      "cell_type": "markdown",
      "source": [
        "# Case Study \"Online Barber Shop\"\n",
        "Sie finden unter `./Daten/Barber/` den Ausschnitt eines Datensatzes einer **Direct-to-Consumer (D2C) Brand**, die über einen Onlineshop **Rasierer** und **Rasierzubehör** verkauft. Für das Unternehmen ist es enorm wichtig, dass es die voraussichtlichen **Absätze der nächsten 21 Tage** kennt, da es Waren im Voraus bei seinen Lieferanten bestellen muss. Je genauer die Absatzprognose, desto weniger Stockouts bzw. unnötige Bestände hat das Unternehmen und desto besser die Marge.\n",
        "\n",
        "Bisher ist es dem Unternehmen nicht gelungen, gute Prognosen zu erstellen. Um dies zu ändern, werden Sie nun beauftragt, eine Prognose mithilfe von ML-Algorithmen anzufertigen. Dazu stellt Ihnen das Unternehmen einen ersten Datensatz aus seinem Shopsystem zur Verfügung. In diesem sind **3 Produkte** enthalten (Alaunstein, Bartbalm und ein Rasierer) und Sie sollen für diese jeweils eine Absatzprogonse erstellen. Bitte orientieren Sie sich bei der Bearbeitung der Fallstudie an der in diesem Notebook vorgeschlagenen Struktur und greifen Sie auf die Notebooks zurück, die wir bereits in der Vorlesung gemeinsam bearbeitet haben.\n",
        "\n",
        "Die Struktur Ihres Notebooks sollte dabei wie folgt aussehen und u.a. die folgenden Fragen beantworten:\n",
        "\n",
        "1. **Daten laden & aufbereiten**. Wichtig: Nachdem Sie die Daten geladen haben, müssen Sie diese zunächst auf Tage und je Produkt aggregieren.\n",
        "2. **Datenexploration**, d.h. verschaffen Sie sich einen Überblick zum Datensatz. Sie sollten folgende Fragen beantworten:\n",
        "  - Wie viele Absätze wurden über welchen Zeitraum je Produkt dokumentiert?\n",
        "  - Was ist der Gesamtumsatz je Produkt?\n",
        "  - Wie sind die Produktverkäufe im Zeitverlauf? Visualisieren Sie beispielweise die monatlichen/wöchentlichen Verkaufsmengen. Dies ist wichtig, um Trends oder Saisonalität in Zeitreihen zu erkennen.\n",
        "  - Wie sind die durchschnittlichen Absätze pro Wochentag?\n",
        "3. **Feature Engineering**\n",
        "  - Entwickeln Sie basirend auf Ihrer Datenexploration nützliche Features für ein Vorhersagemodell.\n",
        "  - Stellen Sie sich die Frage, mit welchen Features Sie Saisonalitäten abbilden können. Gibt es Monate in den die Absätze deutlich höher sind? Falls ja, sollten Sie ein Features einführen, das den Monat (Jan, Feb, ..., Dez) abbildet!\n",
        "  - Bilden Sie autoregressive Features, z.B. könnte es Sinn ergeben zur Progonse des Absatzes an einem Tag (z.B. 15.03.) den Absatz des Vormonats zum gleichen Datum (15.02.) heranzuziehen.\n",
        "4. **Prognosemodell trainieren und bewerten**\n",
        "  - Trainieren Sie ein globales Prognosemodell auf allen Daten und bewerten Sie dieses.\n",
        "  - Trainieren Sie drei lokale Prognosemodelle (für Alaunstein, Bartbalm & Rasierer) und überprüfen Sie, ob die Prognosegüte verbessert wird.\n"
      ],
      "metadata": {
        "id": "TlEeS6BHfKV9"
      },
      "id": "TlEeS6BHfKV9"
    },
    {
      "cell_type": "markdown",
      "source": [
        "# 1 Daten laden und aufbereiten\n",
        "Bitte achten Sie hier darauf, dass die Datentypen für die Werte in den Spalten geeignet gewählt sind."
      ],
      "metadata": {
        "id": "fosefoRciSNO"
      },
      "id": "fosefoRciSNO"
    },
    {
      "cell_type": "code",
      "source": [
        "! git clone https://github.com/AlexKressner/Business_Intelligence"
      ],
      "metadata": {
        "id": "DHXgqEGijvJm"
      },
      "id": "DHXgqEGijvJm",
      "execution_count": null,
      "outputs": []
    },
    {
      "cell_type": "code",
      "source": [
        "import pandas as pd"
      ],
      "metadata": {
        "id": "VAGd8AVMrCWB"
      },
      "id": "VAGd8AVMrCWB",
      "execution_count": null,
      "outputs": []
    },
    {
      "cell_type": "code",
      "source": [
        "path = \"Business_Intelligence/Daten/Barber/\""
      ],
      "metadata": {
        "id": "ZyiA0qFRVtWA"
      },
      "id": "ZyiA0qFRVtWA",
      "execution_count": null,
      "outputs": []
    },
    {
      "cell_type": "code",
      "source": [
        "data = pd.read_csv(path+\"barber_shopify_data.csv\", sep=\";\", parse_dates=[\"Datum\"], decimal=\",\")"
      ],
      "metadata": {
        "id": "iKQgJTtTV1IK"
      },
      "id": "iKQgJTtTV1IK",
      "execution_count": null,
      "outputs": []
    },
    {
      "cell_type": "code",
      "source": [
        "data.dtypes"
      ],
      "metadata": {
        "id": "4WKOk5-XWEg-"
      },
      "id": "4WKOk5-XWEg-",
      "execution_count": null,
      "outputs": []
    },
    {
      "cell_type": "code",
      "source": [
        "data.head(10)"
      ],
      "metadata": {
        "id": "EJKg4AvfWqiJ"
      },
      "id": "EJKg4AvfWqiJ",
      "execution_count": null,
      "outputs": []
    },
    {
      "cell_type": "markdown",
      "source": [
        "#2 Datenaufbereitung\n",
        "Sie müssen die täglichen Absätze eines Produktes für die nächsten 21 Tage prognostizieren. Die Daten müssen Sie zu diesem Zweck erst aufbereiten. Denken Sie nochmals an das Kapitel, in dem wir Daten gruppiert haben. Die Gruppierung mussen bei dem vorliegenden Problem auf das Datum **und** Produkt erfolgen (tägliche Produktabsätze)."
      ],
      "metadata": {
        "id": "KkHlMAifQF9l"
      },
      "id": "KkHlMAifQF9l"
    },
    {
      "cell_type": "code",
      "source": [
        "# mit reset_index() sind Datum und Produkt wieder Spalten des DataFrames,\n",
        "# der nach der Gruppierung resultiert\n",
        "absatz_tag = data.groupby([\"Datum\",\"Produkt\"])[[\"Nettomenge\",\"Bruttoumsatz\"]].sum().reset_index()\n",
        "# absatz_tag = data.groupby([\"Datum\",\"Produkt\"])[[\"Nettomenge\",\"Bruttoumsatz\"]].sum().reset_index()"
      ],
      "metadata": {
        "id": "NUl-w6CbEooD"
      },
      "id": "NUl-w6CbEooD",
      "execution_count": null,
      "outputs": []
    },
    {
      "cell_type": "code",
      "source": [
        "absatz_tag.head()"
      ],
      "metadata": {
        "id": "l7Y2IBKFeKyN"
      },
      "id": "l7Y2IBKFeKyN",
      "execution_count": null,
      "outputs": []
    },
    {
      "cell_type": "markdown",
      "source": [
        "# 3 Datenexploration und -visualisierung\n",
        "Verschaffen Sie sich erst einmal einen Überblick zu den Absatzzahlen (für alle drei Produkte summiert oder je Produkt). Visualisieren Sie beispielsweise den Umsatz über den Zeitverlauf. Erkennen Sie Muster, die typisch für den e-Commerce sind? Wie sieht es mit den Produktpreisen aus? Wurden diese überhaupt variiert und haben diese einen Einfluss auf die Absätze? Achten Sie darauf, dass die Spalte \"Bruttoumsatz\" nicht gleich dem Produktpreis pro Stück ist!"
      ],
      "metadata": {
        "id": "F6l0bN2Di_at"
      },
      "id": "F6l0bN2Di_at"
    },
    {
      "cell_type": "markdown",
      "source": [
        "#### Anzahl Beobachtungen"
      ],
      "metadata": {
        "id": "VOnae2K8HMJ0"
      },
      "id": "VOnae2K8HMJ0"
    },
    {
      "cell_type": "code",
      "source": [
        "absatz_tag.groupby([\"Produkt\"])[\"Nettomenge\"].count()"
      ],
      "metadata": {
        "id": "4WAT5GCBHLu0"
      },
      "id": "4WAT5GCBHLu0",
      "execution_count": null,
      "outputs": []
    },
    {
      "cell_type": "markdown",
      "source": [
        "### Umsätze nach Produkt\n"
      ],
      "metadata": {
        "id": "dUSzRI5n5Tn9"
      },
      "id": "dUSzRI5n5Tn9"
    },
    {
      "cell_type": "code",
      "source": [
        "absatz_tag.groupby([\"Produkt\"])[\"Bruttoumsatz\"].sum()"
      ],
      "metadata": {
        "id": "O8e3d8s1lFsI"
      },
      "id": "O8e3d8s1lFsI",
      "execution_count": null,
      "outputs": []
    },
    {
      "cell_type": "markdown",
      "source": [
        "### Monatliche Nettomenge (Absatz) der Produkte"
      ],
      "metadata": {
        "id": "tewZZFj75bql"
      },
      "id": "tewZZFj75bql"
    },
    {
      "cell_type": "code",
      "source": [
        "# Bedarfe pro Woche über alle drei Produkte\n",
        "# 1. Schritt: Jahr-Monat aus Spalte Datum ableiten\n",
        "# \"M\" bedeutet Monat\n",
        "absatz_tag[\"Jahr-Monat\"] = absatz_tag[\"Datum\"].dt.to_period(\"M\")"
      ],
      "metadata": {
        "id": "SKeEo1LelCFr"
      },
      "id": "SKeEo1LelCFr",
      "execution_count": null,
      "outputs": []
    },
    {
      "cell_type": "code",
      "source": [
        "absatz_tag.tail()"
      ],
      "metadata": {
        "id": "H_TIsAqbChOg"
      },
      "id": "H_TIsAqbChOg",
      "execution_count": null,
      "outputs": []
    },
    {
      "cell_type": "code",
      "source": [
        "# 2. Schritt: Bruttoumsatz auf Monatsscheiben aggregieren\n",
        "monatsumsaetze = absatz_tag.groupby([\"Produkt\",\"Jahr-Monat\"])[\"Nettomenge\"].sum().reset_index()"
      ],
      "metadata": {
        "id": "-2aUu2VIh9qP"
      },
      "id": "-2aUu2VIh9qP",
      "execution_count": null,
      "outputs": []
    },
    {
      "cell_type": "code",
      "source": [
        "# 3. Schritt: Bruttoumsatz eines Produktes abbilden\n",
        "monatsumsaetze[monatsumsaetze.Produkt==\"Alaunstein\"].plot(kind=\"line\",\n",
        "                                                          x=\"Jahr-Monat\",\n",
        "                                                          y=\"Nettomenge\",\n",
        "                                                          figsize=(8,6),\n",
        "                                                          title=\"Bruttoumsatz Alaunstein\",\n",
        "                                                          ylabel=\"Nettomenge [Stk.]\")"
      ],
      "metadata": {
        "id": "fVHED7P0hhur"
      },
      "id": "fVHED7P0hhur",
      "execution_count": null,
      "outputs": []
    },
    {
      "cell_type": "code",
      "source": [
        "monatsumsaetze[monatsumsaetze.Produkt==\"Bartbalm Crusoe\"].plot(kind=\"line\", x=\"Jahr-Monat\", y=\"Nettomenge\", figsize=(8,6), title=\"Bartbalm Crusoe\")"
      ],
      "metadata": {
        "id": "rTvmrVp1mb8A"
      },
      "id": "rTvmrVp1mb8A",
      "execution_count": null,
      "outputs": []
    },
    {
      "cell_type": "markdown",
      "source": [
        "#### Darstellung der Nettomengen je Produkt in einer Abbildung"
      ],
      "metadata": {
        "id": "zVwdk34E5n_W"
      },
      "id": "zVwdk34E5n_W"
    },
    {
      "cell_type": "code",
      "source": [
        "import matplotlib.pyplot as plt\n",
        "# alle Bruttoumsätze in einer Abbildung\n",
        "# 1. Schritt: Spalte zum Index machen (x-Achse)\n",
        "monatsumsaetze.set_index(\"Jahr-Monat\", inplace=True)"
      ],
      "metadata": {
        "id": "uogwInn1ivBp"
      },
      "id": "uogwInn1ivBp",
      "execution_count": null,
      "outputs": []
    },
    {
      "cell_type": "code",
      "source": [
        "# 2. Schritt: Erzeugen des Abbildungsobjektes\n",
        "fig, ax = plt.subplots(figsize=(8,6))\n",
        "# 3. Schritt: Jeweiliges gruppieren auf Produkte und Übergabe des Abbildungsobjektes \"ax=ax\"\n",
        "for label, df in monatsumsaetze.groupby('Produkt'):\n",
        "    df[\"Nettomenge\"].plot(\n",
        "        kind=\"line\",\n",
        "        ax=ax,\n",
        "        label=label,\n",
        "        ylabel=\"Nettomenge [Stk]\"\n",
        "        )\n",
        "plt.legend()"
      ],
      "metadata": {
        "id": "jdIvcxCwlWrH"
      },
      "id": "jdIvcxCwlWrH",
      "execution_count": null,
      "outputs": []
    },
    {
      "cell_type": "markdown",
      "source": [
        "### Umsatz und Nettomenge"
      ],
      "metadata": {
        "id": "fdIXyWvt51Sa"
      },
      "id": "fdIXyWvt51Sa"
    },
    {
      "cell_type": "markdown",
      "source": [
        "#### Nach Monat"
      ],
      "metadata": {
        "id": "rH4OOm7h6nnZ"
      },
      "id": "rH4OOm7h6nnZ"
    },
    {
      "cell_type": "code",
      "source": [
        "absatz_tag[\"Monat\"] = absatz_tag.Datum.dt.month"
      ],
      "metadata": {
        "id": "mVTHGDfUhft9"
      },
      "id": "mVTHGDfUhft9",
      "execution_count": null,
      "outputs": []
    },
    {
      "cell_type": "code",
      "source": [
        "absatz_tag.groupby(\"Monat\")[\"Bruttoumsatz\"].mean().plot(kind = \"bar\")"
      ],
      "metadata": {
        "id": "5JeYAHmg5_mp"
      },
      "id": "5JeYAHmg5_mp",
      "execution_count": null,
      "outputs": []
    },
    {
      "cell_type": "code",
      "source": [
        "absatz_tag.groupby(\"Monat\")[\"Nettomenge\"].mean().plot(kind = \"bar\")"
      ],
      "metadata": {
        "id": "HcyGWHVB6Qx4"
      },
      "id": "HcyGWHVB6Qx4",
      "execution_count": null,
      "outputs": []
    },
    {
      "cell_type": "markdown",
      "source": [
        "#### Nach Woche"
      ],
      "metadata": {
        "id": "j2UMdC746rkF"
      },
      "id": "j2UMdC746rkF"
    },
    {
      "cell_type": "code",
      "source": [
        "absatz_tag[\"Woche\"] = absatz_tag.Datum.dt.isocalendar().week"
      ],
      "metadata": {
        "id": "2LYyMZxT6WOU"
      },
      "id": "2LYyMZxT6WOU",
      "execution_count": null,
      "outputs": []
    },
    {
      "cell_type": "code",
      "source": [
        "absatz_tag.groupby(\"Woche\")[\"Bruttoumsatz\"].mean().plot(kind = \"bar\", figsize=(12,6))"
      ],
      "metadata": {
        "id": "1ee2rQc76xut"
      },
      "id": "1ee2rQc76xut",
      "execution_count": null,
      "outputs": []
    },
    {
      "cell_type": "code",
      "source": [
        "absatz_tag.groupby(\"Woche\")[\"Nettomenge\"].mean().plot(kind = \"bar\", figsize=(12,6))"
      ],
      "metadata": {
        "id": "SGbG8d7966zk"
      },
      "id": "SGbG8d7966zk",
      "execution_count": null,
      "outputs": []
    },
    {
      "cell_type": "markdown",
      "source": [
        "#### Nach Wochentag"
      ],
      "metadata": {
        "id": "739daPoG9AYs"
      },
      "id": "739daPoG9AYs"
    },
    {
      "cell_type": "code",
      "source": [
        "absatz_tag[\"Wochentag\"] = absatz_tag.Datum.dt.weekday"
      ],
      "metadata": {
        "id": "G3BgIYEx9F39"
      },
      "id": "G3BgIYEx9F39",
      "execution_count": null,
      "outputs": []
    },
    {
      "cell_type": "code",
      "source": [
        "absatz_tag.groupby(\"Wochentag\")[\"Nettomenge\"].mean().plot(kind = \"bar\")"
      ],
      "metadata": {
        "id": "hcBraOYD9Ky_"
      },
      "id": "hcBraOYD9Ky_",
      "execution_count": null,
      "outputs": []
    },
    {
      "cell_type": "markdown",
      "source": [
        "### Stückpreis und Absatz nach Woche"
      ],
      "metadata": {
        "id": "6pZ1It8Y9hNB"
      },
      "id": "6pZ1It8Y9hNB"
    },
    {
      "cell_type": "code",
      "source": [
        "absatz_tag[\"Stueckpreis\"] = absatz_tag[\"Bruttoumsatz\"] / absatz_tag[\"Nettomenge\"]"
      ],
      "metadata": {
        "id": "oeU9gnth-Q4t"
      },
      "id": "oeU9gnth-Q4t",
      "execution_count": null,
      "outputs": []
    },
    {
      "cell_type": "code",
      "source": [
        "absatz_tag[\"Jahr-Woche\"] = absatz_tag[\"Datum\"].dt.to_period(\"W\")"
      ],
      "metadata": {
        "id": "Sj6Gmtes_ZPk"
      },
      "id": "Sj6Gmtes_ZPk",
      "execution_count": null,
      "outputs": []
    },
    {
      "cell_type": "code",
      "source": [
        "absatz_tag.Produkt.unique()"
      ],
      "metadata": {
        "id": "mNo_Wyx0_BMF"
      },
      "id": "mNo_Wyx0_BMF",
      "execution_count": null,
      "outputs": []
    },
    {
      "cell_type": "code",
      "source": [
        "produkt = \"Alaunstein\""
      ],
      "metadata": {
        "id": "CX21_JqD_APo"
      },
      "id": "CX21_JqD_APo",
      "execution_count": null,
      "outputs": []
    },
    {
      "cell_type": "code",
      "source": [
        "fig, ax = plt.subplots(figsize=(12,6))\n",
        "# Abbildung zum Preis\n",
        "absatz_tag[absatz_tag.Produkt==produkt].groupby(\"Jahr-Woche\")[\"Stueckpreis\"].mean().plot(kind=\"line\", ax=ax)\n",
        "# Abbildung zur Nettomenge\n",
        "absatz_tag[absatz_tag.Produkt==produkt].groupby(\"Jahr-Woche\")[\"Nettomenge\"].mean().plot(kind=\"line\", ax=ax, title=f\"Nettomenge {produkt}\", ylabel=\"Nettomenge [Stk.]\")\n",
        "plt.legend()"
      ],
      "metadata": {
        "id": "EivfDY6O9oMG"
      },
      "id": "EivfDY6O9oMG",
      "execution_count": null,
      "outputs": []
    },
    {
      "cell_type": "markdown",
      "source": [
        "# 4 Feature Engineering\n",
        "Beim Feature Engineering versucht man weitere Merkmale aus den gegebenen Grunddaten abzuleiten, die bei der Prognose hilfreich sein können. Im vorliegenden Fall bietet es sich beispielsweise an **zeitlichen** und **preislichen Features** abzuleiten.\n",
        "\n",
        "**Zeitliche Features**: Zum Beispiel können wir aus dem Datum die Woche oder den Monat entnehmen. Dies ergibt Sinn, wenn wir vermuten, dass der Monat/ die Woche einen Einfluss auf die Höhe der Absätze hat. Ebenso vorstellbar ist es, eine Trendvariable einzuführen, die das durchschnittlicher Absatzwachstum des Shops über die Zeit erfasst.\n",
        "\n",
        "**Preisliche Features**: Wir sollten vermutlich den Produktpreis als Feature verwenden. Außerdem könnte es interessant sein, den durchschnittlichen Produktpreis der letzten x-Wochen als Feature zu berücksichtigen, oder die individuellen Preise der letzten x-Wochen."
      ],
      "metadata": {
        "id": "HqFMMBgqvXnO"
      },
      "id": "HqFMMBgqvXnO"
    },
    {
      "cell_type": "code",
      "source": [
        "# Einfaches Feature Engineering\n",
        "data[\"Wochentag\"] = data[\"Datum\"].dt.dayofweek\n",
        "data[\"Monat\"] = data[\"Datum\"].dt.month\n",
        "data[\"Woche\"] = data[\"Datum\"].dt.isocalendar().week\n",
        "data[\"Stueckpreis\"] = data[\"Bruttoumsatz\"] / data[\"Nettomenge\"]\n",
        "data.tail()"
      ],
      "metadata": {
        "id": "JA17waoWybiY"
      },
      "id": "JA17waoWybiY",
      "execution_count": null,
      "outputs": []
    },
    {
      "cell_type": "code",
      "source": [
        "# Nicht-verfügbare Preise \"nach vorne\" auffüllen (forward-fill = ffill)\n",
        "data.sort_values(by=[\"Produkt\",\"Datum\"], inplace=True)\n",
        "data['Stueckpreis'] = data.groupby('Produkt')['Stueckpreis'].ffill()"
      ],
      "metadata": {
        "id": "tCgquOCgyht8"
      },
      "id": "tCgquOCgyht8",
      "execution_count": null,
      "outputs": []
    },
    {
      "cell_type": "code",
      "source": [
        "# Weitere preisliche Features (wir nehmen an, dass es eine Preisplanung gibt, wenn wir die Prognose machen)\n",
        "\n",
        "# Wie ist der aktuelle Preis im Vergleich zum Median-Preis\n",
        "absatz_tag[\"Preismomentum\"] = absatz_tag.groupby(\"Produkt\")[\"Stueckpreis\"].transform(lambda x: x.median() - x)\n",
        "\n",
        "# Haben die Preise der letzten Tage einen Einfluss auf die aktuelle Nachfrage?\n",
        "absatz_tag[\"Preis_shift_1\"] = absatz_tag.groupby(\"Produkt\")[\"Stueckpreis\"].transform(lambda x: x.shift(1))\n",
        "absatz_tag[\"Preis_shift_2\"] = absatz_tag.groupby(\"Produkt\")[\"Stueckpreis\"].transform(lambda x: x.shift(2))\n",
        "absatz_tag[\"Preis_shift_3\"] = absatz_tag.groupby(\"Produkt\")[\"Stueckpreis\"].transform(lambda x: x.shift(3))\n",
        "absatz_tag[\"Preis_shift_4\"] = absatz_tag.groupby(\"Produkt\")[\"Stueckpreis\"].transform(lambda x: x.shift(4))\n",
        "absatz_tag[\"Preis_shift_5\"] = absatz_tag.groupby(\"Produkt\")[\"Stueckpreis\"].transform(lambda x: x.shift(5))\n",
        "\n",
        "# es gäbe noch viele weitere Features"
      ],
      "metadata": {
        "id": "gQJl3WPSAxDz"
      },
      "id": "gQJl3WPSAxDz",
      "execution_count": null,
      "outputs": []
    },
    {
      "cell_type": "code",
      "source": [
        "absatz_tag[absatz_tag.Produkt==\"Alaunstein\"].tail()"
      ],
      "metadata": {
        "id": "I6I9w7zCCwq4"
      },
      "id": "I6I9w7zCCwq4",
      "execution_count": null,
      "outputs": []
    },
    {
      "cell_type": "code",
      "source": [
        "absatz_tag.dropna(inplace=True)"
      ],
      "metadata": {
        "id": "2qVnNuTihNPS"
      },
      "id": "2qVnNuTihNPS",
      "execution_count": null,
      "outputs": []
    },
    {
      "cell_type": "code",
      "source": [
        "absatz_tag.groupby(\"Produkt\")[\"Datum\"].count()"
      ],
      "metadata": {
        "id": "QZdaNi2oyKTu"
      },
      "id": "QZdaNi2oyKTu",
      "execution_count": null,
      "outputs": []
    },
    {
      "cell_type": "code",
      "source": [
        "absatz_tag.Produkt.unique()"
      ],
      "metadata": {
        "id": "qpjg8M5-q7pm"
      },
      "id": "qpjg8M5-q7pm",
      "execution_count": null,
      "outputs": []
    },
    {
      "cell_type": "code",
      "source": [
        "absatz_tag.columns"
      ],
      "metadata": {
        "id": "NLQhPHvRTsHH"
      },
      "id": "NLQhPHvRTsHH",
      "execution_count": null,
      "outputs": []
    },
    {
      "cell_type": "code",
      "source": [
        "FEATURES = [\n",
        "    \"Produkt\",\"Monat\",\"Woche\",\"Wochentag\", \"Stueckpreis\",\n",
        "    'Preismomentum', 'Preis_shift_1', 'Preis_shift_2', 'Preis_shift_3',\n",
        "    'Preis_shift_4', 'Preis_shift_5'\n",
        "    ]"
      ],
      "metadata": {
        "id": "bb-u4IP4Ts_T"
      },
      "id": "bb-u4IP4Ts_T",
      "execution_count": null,
      "outputs": []
    },
    {
      "cell_type": "code",
      "source": [
        "TARGET = \"Nettomenge\""
      ],
      "metadata": {
        "id": "GVeW8NG9UIjz"
      },
      "id": "GVeW8NG9UIjz",
      "execution_count": null,
      "outputs": []
    },
    {
      "cell_type": "markdown",
      "source": [
        "# 5 Prognosemodell trainieren und bewerten\n",
        "Versuchen Sie ein Modell auf die Daten zu trainieren. Testen Sie verschiedene Modellparameter mithilfe einer Grid Search und Cross-Validation."
      ],
      "metadata": {
        "id": "DPsP-biHvf30"
      },
      "id": "DPsP-biHvf30"
    },
    {
      "cell_type": "markdown",
      "source": [
        "### 5.1 Produkte als Feature (Ein Prognosemodell für alle Produkte)"
      ],
      "metadata": {
        "id": "M8XidCnLWBia"
      },
      "id": "M8XidCnLWBia"
    },
    {
      "cell_type": "code",
      "source": [
        "# Features und target\n",
        "X = absatz_tag.set_index(\"Produkt\", drop=False)[FEATURES]\n",
        "y = absatz_tag.set_index(\"Produkt\", drop=False)[TARGET]"
      ],
      "metadata": {
        "id": "ItBn1zGOvsJj"
      },
      "id": "ItBn1zGOvsJj",
      "execution_count": null,
      "outputs": []
    },
    {
      "cell_type": "code",
      "source": [
        "X = pd.get_dummies(X)"
      ],
      "metadata": {
        "id": "W545lqHzsNvj"
      },
      "id": "W545lqHzsNvj",
      "execution_count": null,
      "outputs": []
    },
    {
      "cell_type": "code",
      "source": [
        "X.tail()"
      ],
      "metadata": {
        "id": "QKjDn0C3sWl4"
      },
      "id": "QKjDn0C3sWl4",
      "execution_count": null,
      "outputs": []
    },
    {
      "cell_type": "code",
      "source": [
        "from sklearn.ensemble import RandomForestRegressor\n",
        "from sklearn.model_selection import train_test_split\n",
        "import sklearn.metrics\n",
        "from sklearn.model_selection import GridSearchCV"
      ],
      "metadata": {
        "id": "D5uIN8ZDxc_8"
      },
      "id": "D5uIN8ZDxc_8",
      "execution_count": null,
      "outputs": []
    },
    {
      "cell_type": "code",
      "source": [
        "# Grid definieren\n",
        "param_grid = {\n",
        "    \"n_estimators\": [50, 150, 250, 500] # Anzahl der Entscheidungsbäume\n",
        "}"
      ],
      "metadata": {
        "id": "Y6ocazcCydcf"
      },
      "id": "Y6ocazcCydcf",
      "execution_count": null,
      "outputs": []
    },
    {
      "cell_type": "code",
      "source": [
        "PRODUKTE = absatz_tag.Produkt.unique()\n",
        "PRODUKTE"
      ],
      "metadata": {
        "id": "8c5zR40Mo6EO"
      },
      "id": "8c5zR40Mo6EO",
      "execution_count": null,
      "outputs": []
    },
    {
      "cell_type": "code",
      "source": [
        "ergebnis = {}\n",
        "# Train Test Split\n",
        "X_train, X_test, y_train, y_test = train_test_split(X, y, test_size=0.2, random_state=3)\n",
        "# Modell auswählen und trainieren\n",
        "model = RandomForestRegressor()\n",
        "grid = GridSearchCV(\n",
        "    model, # verwendetes Modell\n",
        "    param_grid, # zu untersuchende Parameter\n",
        "    cv=10, # Anzahl der Folds\n",
        "    n_jobs=-1, # Parallelisierung der Ausführung\n",
        "    scoring=\"neg_mean_squared_error\", # Fehlermaß\n",
        ")\n",
        "grid.fit(X_train, y_train)\n",
        "best_model = grid.best_estimator_\n",
        "# Modell evaluieren\n",
        "for produkt in PRODUKTE:\n",
        "  # Prognosen machen (y_pred)\n",
        "  y_pred = best_model.predict(X_test.loc[produkt])\n",
        "  ergebnis[produkt] = sklearn.metrics.mean_absolute_error(y_test.loc[produkt], y_pred)\n",
        "print(ergebnis)"
      ],
      "metadata": {
        "id": "onn40HkjxVVr"
      },
      "id": "onn40HkjxVVr",
      "execution_count": null,
      "outputs": []
    },
    {
      "cell_type": "markdown",
      "source": [
        "### 5.2. Ein Modell je Produkt"
      ],
      "metadata": {
        "id": "flBiZq73WH0j"
      },
      "id": "flBiZq73WH0j"
    },
    {
      "cell_type": "code",
      "source": [
        "ergebnis = {}\n",
        "for produkt in PRODUKTE:\n",
        "  X = absatz_tag.loc[absatz_tag.Produkt==produkt, FEATURES].drop(columns=[\"Produkt\"])\n",
        "  y = absatz_tag.loc[absatz_tag.Produkt==produkt, TARGET]\n",
        "  X = pd.get_dummies(X)\n",
        "\n",
        "  # Train Test Split\n",
        "  X_train, X_test, y_train, y_test = train_test_split(X, y, test_size=0.2, random_state=3)\n",
        "  # Modell auswählen und trainieren\n",
        "  model = RandomForestRegressor()\n",
        "  grid = GridSearchCV(\n",
        "      model, # verwendetes Modell\n",
        "      param_grid, # zu untersuchende Parameter\n",
        "      cv=10, # Anzahl der Folds\n",
        "      n_jobs=-1, # Parallelisierung der Ausführung\n",
        "      scoring=\"neg_mean_squared_error\", # Fehlermaß\n",
        "  )\n",
        "  grid.fit(X_train, y_train)\n",
        "  best_model = grid.best_estimator_\n",
        "  # Prognosen machen (y_pred)\n",
        "  y_pred = best_model.predict(X_test)\n",
        "  # Modell evaluieren\n",
        "  ergebnis[produkt] = sklearn.metrics.mean_absolute_error(y_test, y_pred)"
      ],
      "metadata": {
        "id": "amAqTuU6WKMz"
      },
      "id": "amAqTuU6WKMz",
      "execution_count": null,
      "outputs": []
    },
    {
      "cell_type": "code",
      "source": [
        "ergebnis"
      ],
      "metadata": {
        "id": "DGNKDqfvXXcO"
      },
      "id": "DGNKDqfvXXcO",
      "execution_count": null,
      "outputs": []
    },
    {
      "cell_type": "markdown",
      "source": [
        "# 6 Prognosemodell unter Berücksichtigung der Zeitreiheneigenschaft (korrektes Vorgehen)"
      ],
      "metadata": {
        "id": "M3QUVe-hvs8Y"
      },
      "id": "M3QUVe-hvs8Y"
    },
    {
      "cell_type": "code",
      "source": [
        "absatz_tag.sort_values(by=\"Datum\", inplace=True)"
      ],
      "metadata": {
        "id": "LZtpODRMTwSK"
      },
      "id": "LZtpODRMTwSK",
      "execution_count": null,
      "outputs": []
    },
    {
      "cell_type": "code",
      "source": [
        "PROGNOSEHORIZONT = 21 # Prognose für die nächsten 21 Tage"
      ],
      "metadata": {
        "id": "GlAnTLkJSTMW"
      },
      "id": "GlAnTLkJSTMW",
      "execution_count": null,
      "outputs": []
    },
    {
      "cell_type": "code",
      "source": [
        "from sklearn.model_selection import TimeSeriesSplit"
      ],
      "metadata": {
        "id": "r7h16jsF2IKW"
      },
      "id": "r7h16jsF2IKW",
      "execution_count": null,
      "outputs": []
    },
    {
      "cell_type": "code",
      "source": [
        "import numpy as np"
      ],
      "metadata": {
        "id": "i-bSRErT3hbZ"
      },
      "id": "i-bSRErT3hbZ",
      "execution_count": null,
      "outputs": []
    },
    {
      "cell_type": "code",
      "source": [
        "# Veranschaulichung Train-Test-Split bei Zeitreihen\n",
        "X = absatz_tag[\"Nettomenge\"].head(300)\n",
        "\n",
        "# Define the number of splits for TimeSeriesSplit\n",
        "n_splits = 10\n",
        "tscv = TimeSeriesSplit(\n",
        "    n_splits=n_splits,\n",
        "    max_train_size = None,\n",
        "    test_size=None)\n",
        "\n",
        "plt.figure(figsize=(10, 6))\n",
        "\n",
        "for i, (train, test) in enumerate(tscv.split(X), start=1):\n",
        "    plt.plot(train, [i] * len(train), marker='_', linewidth=1.5, color=\"blue\", label = \"Train\" if i==n_splits else None)\n",
        "    plt.plot(test, [i] * len(test), marker='_', linewidth=1.5, color='red', label = \"Test\" if i==n_splits else None)\n",
        "\n",
        "plt.legend()\n",
        "plt.xlabel('Beobachtungen')\n",
        "plt.ylabel('CV Iteration')\n",
        "plt.title('Visualisierung Train-Test-Split bei Zeitreihen')\n",
        "plt.yticks(range(1, n_splits + 1))\n",
        "plt.show()"
      ],
      "metadata": {
        "id": "2n7V_K8n3LUe"
      },
      "id": "2n7V_K8n3LUe",
      "execution_count": null,
      "outputs": []
    },
    {
      "cell_type": "code",
      "source": [
        "ergebnis = {}\n",
        "for produkt in PRODUKTE:\n",
        "  # 1. Schritt: Daten auf Produkt filtern\n",
        "  X = absatz_tag.loc[absatz_tag.Produkt==produkt, FEATURES].drop(columns=\"Produkt\")\n",
        "  y = absatz_tag.loc[absatz_tag.Produkt==produkt, TARGET]\n",
        "\n",
        "  # 2. Schritt: Daten umwandeln\n",
        "  X = pd.get_dummies(X)\n",
        "\n",
        "  # 3. Schritt: Zeitlicher Split (Prognose für die nächsten 21 Tage)\n",
        "  X_train = X[:-PROGNOSEHORIZONT]\n",
        "  y_train = y[:-PROGNOSEHORIZONT]\n",
        "  X_test = X[-PROGNOSEHORIZONT:]\n",
        "  y_test = y[-PROGNOSEHORIZONT:]\n",
        "\n",
        "  # 4. Split für Cross-Validation\n",
        "  n_splits = 5\n",
        "  tscv = TimeSeriesSplit(\n",
        "      n_splits=n_splits,\n",
        "      #test_size=PROGNOSEHORIZONT\n",
        "      )\n",
        "\n",
        "  # Modell auswählen und trainieren\n",
        "  model = RandomForestRegressor()\n",
        "  grid = GridSearchCV(\n",
        "      model, # verwendetes Modell\n",
        "      param_grid, # zu untersuchende Parameter\n",
        "      cv=tscv, # Anzahl der Folds\n",
        "      n_jobs=-1, # Parallelisierung der Ausführung\n",
        "      scoring=\"neg_mean_squared_error\", # Fehlermaß\n",
        "  )\n",
        "  grid.fit(X_train, y_train)\n",
        "  best_model = grid.best_estimator_\n",
        "  # Prognosen machen (y_pred)\n",
        "  y_pred = best_model.predict(X_test)\n",
        "  # Ergebnisse für 21 Tage Nettomenge summiert\n",
        "  ergebnis[produkt] = sklearn.metrics.mean_absolute_error(y_test, y_pred)"
      ],
      "metadata": {
        "id": "uGQeTMf6ValO"
      },
      "id": "uGQeTMf6ValO",
      "execution_count": null,
      "outputs": []
    },
    {
      "cell_type": "code",
      "source": [
        "ergebnis"
      ],
      "metadata": {
        "id": "HikOwIkKYI7b"
      },
      "id": "HikOwIkKYI7b",
      "execution_count": null,
      "outputs": []
    },
    {
      "cell_type": "code",
      "source": [],
      "metadata": {
        "id": "YXUpAqIaZvJX"
      },
      "id": "YXUpAqIaZvJX",
      "execution_count": null,
      "outputs": []
    }
  ],
  "metadata": {
    "kernelspec": {
      "display_name": "Python 3 (ipykernel)",
      "language": "python",
      "name": "python3"
    },
    "language_info": {
      "codemirror_mode": {
        "name": "ipython",
        "version": 3
      },
      "file_extension": ".py",
      "mimetype": "text/x-python",
      "name": "python",
      "nbconvert_exporter": "python",
      "pygments_lexer": "ipython3",
      "version": "3.8.5"
    },
    "colab": {
      "provenance": [],
      "include_colab_link": true
    }
  },
  "nbformat": 4,
  "nbformat_minor": 5
}