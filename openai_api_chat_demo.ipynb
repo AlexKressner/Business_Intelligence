{
  "cells": [
    {
      "cell_type": "markdown",
      "metadata": {
        "id": "view-in-github",
        "colab_type": "text"
      },
      "source": [
        "<a href=\"https://colab.research.google.com/github/AlexKressner/Business_Intelligence/blob/main/openai_api_chat_demo.ipynb\" target=\"_parent\"><img src=\"https://colab.research.google.com/assets/colab-badge.svg\" alt=\"Open In Colab\"/></a>"
      ]
    },
    {
      "cell_type": "code",
      "source": [
        "# installation\n",
        "! pip install -q --upgrade cohere typing-extensions==4.5.0 openai tiktoken python-dotenv beautifulsoup4"
      ],
      "metadata": {
        "id": "07G1Nh6tEI6N"
      },
      "execution_count": null,
      "outputs": []
    },
    {
      "cell_type": "code",
      "execution_count": null,
      "metadata": {
        "id": "s-1Qa1OWD_Uf"
      },
      "outputs": [],
      "source": [
        "from openai import OpenAI\n",
        "import requests\n",
        "from bs4 import BeautifulSoup\n",
        "from dotenv import load_dotenv\n",
        "import os"
      ]
    },
    {
      "cell_type": "code",
      "source": [
        "# Lädt die Umgebungsvariablen aus der .env-Datei\n",
        "load_dotenv()\n",
        "\n",
        "# Zugriff auf die Umgebungsvariablen\n",
        "secret_key = os.getenv('OPENAI_API_KEY')"
      ],
      "metadata": {
        "id": "fQQNI3utBaTW"
      },
      "execution_count": null,
      "outputs": []
    },
    {
      "cell_type": "code",
      "execution_count": null,
      "metadata": {
        "id": "j6oTNBp-D_Ui"
      },
      "outputs": [],
      "source": [
        "client = OpenAI(api_key=secret_key)"
      ]
    },
    {
      "cell_type": "code",
      "execution_count": null,
      "metadata": {
        "id": "kXjzS9oGD_Uj"
      },
      "outputs": [],
      "source": [
        "def get_website_text(url: str):\n",
        "    response = requests.get(url)\n",
        "\n",
        "    # Überprüfen, ob die Anfrage erfolgreich war\n",
        "    if response.status_code == 200:\n",
        "        # Parsen des HTML-Inhalts der Seite\n",
        "        soup = BeautifulSoup(response.content, 'html.parser')\n",
        "\n",
        "        # Extrahieren sämtlichen Textes der Webseite\n",
        "        text = soup.get_text(separator=' ', strip=True)\n",
        "        return text\n",
        "    else:\n",
        "        # Zurückgeben einer Fehlermeldung mit dem HTTP-Statuscode\n",
        "        return f\"Fehler beim Abrufen der Webseite: HTTP-Statuscode {response.status_code}\""
      ]
    },
    {
      "cell_type": "code",
      "execution_count": null,
      "metadata": {
        "id": "242EL25pD_Uj"
      },
      "outputs": [],
      "source": [
        "def get_website_urls(url: str):\n",
        "    response = requests.get(url)\n",
        "\n",
        "    # Überprüfen, ob die Anfrage erfolgreich war\n",
        "    if response.status_code == 200:\n",
        "        # Parsen des HTML-Inhalts der Seite\n",
        "        soup = BeautifulSoup(response.content, 'html.parser')\n",
        "\n",
        "        # Extrahieren sämtlichen Textes der Webseite\n",
        "        hyperlinks = soup.find_all('a')\n",
        "        return [link.get('href') for link in hyperlinks if link.get('href')]\n",
        "    else:\n",
        "        # Zurückgeben einer Fehlermeldung mit dem HTTP-Statuscode\n",
        "        return f\"Fehler beim Abrufen der Webseite: HTTP-Statuscode {response.status_code}\""
      ]
    },
    {
      "cell_type": "code",
      "execution_count": null,
      "metadata": {
        "id": "rshV80kdD_Uk"
      },
      "outputs": [],
      "source": [
        "def get_link_by_substring(strings: [str], substrings: [str]):\n",
        "    # Konvertierung der Substrings in Kleinbuchstaben für case-insensitive Suche\n",
        "    substrings_lower = [substring.lower() for substring in substrings]\n",
        "\n",
        "    # Filtern der Liste durch Überprüfung, ob irgendein Substring in jedem Element enthalten ist\n",
        "    filtered_list = [s for s in strings if any(substring_lower in s.lower() for substring_lower in substrings_lower)]\n",
        "\n",
        "    return filtered_list"
      ]
    },
    {
      "cell_type": "code",
      "execution_count": null,
      "metadata": {
        "id": "p1fhsjs9D_Uk"
      },
      "outputs": [],
      "source": [
        "# Hilfsfunktion zur Interaktion mit der Chat-API\n",
        "def get_completion(messages: [str], model=\"gpt-3.5-turbo\"):\n",
        "    response = client.chat.completions.create(\n",
        "        model=model,\n",
        "        messages=messages,\n",
        "        temperature=0,\n",
        "    )\n",
        "    return response.choices[0].message.content"
      ]
    },
    {
      "cell_type": "code",
      "execution_count": null,
      "metadata": {
        "id": "Mg3pTxJ-D_Ul"
      },
      "outputs": [],
      "source": [
        "applicant_profile = \"\"\"\n",
        "Name des Bewerbers ist Max Mustermann; abgeschlossenes Abitur mit Note 1,7; Leistungskurse Mathematik und Physik;\n",
        "Interesse an digitalen Geschäftsmodellen im Handel; Erstes Praktikum in einem Startup, das über einen online-shop schmuck verkauft;\n",
        "Programmiererfahrung in Python, insbesondere Webprogrammierung; motiviert und zuverlässig\n",
        "\"\"\""
      ]
    },
    {
      "cell_type": "code",
      "execution_count": null,
      "metadata": {
        "id": "1jOjJ_JnD_Ul"
      },
      "outputs": [],
      "source": [
        "system_message = f\"\"\"\n",
        "Du bist ein Experte bei der Erstellung professioneller Anschreiben für Bewerbungen! Du erstellst ein Anschreiben für das in einfachen Anführungszeichen beschriebene\n",
        "Bewerberprofil.\n",
        "\n",
        "'{applicant_profile}'\n",
        "\"\"\""
      ]
    },
    {
      "cell_type": "code",
      "execution_count": null,
      "metadata": {
        "id": "RSsb5F_hD_Ul"
      },
      "outputs": [],
      "source": [
        "def add_job_description_to_prompt(job_description: str):\n",
        "    prompt = f\"\"\"\n",
        "    Du erhälst in einfachen Anführungszeichen einen Ausschreibungstext für ein duales Studium. Bitte verwende das Bewerberprofil, um ein Anschreiben für eine Bewerbung\n",
        "    auf die Stellenausschreibung zu erstellen. Das Anschreiben soll professionell geschrieben sein. Das Anschreiben soll spezifisch auf die Anforderungen in der\n",
        "    Ausschreibung eingehen und zeigen, dass der Bewerber diese bestmöglich erfüllt. Die Länge des Anschreibens soll eine DIN-A4 Seite sein.\n",
        "\n",
        "    '{job_description}'\n",
        "    \"\"\"\n",
        "    return prompt"
      ]
    },
    {
      "cell_type": "code",
      "execution_count": null,
      "metadata": {
        "id": "UZV6qVTQD_Ul"
      },
      "outputs": [],
      "source": [
        "links = get_website_urls(\"https://www.lappcareer.com/stellenangebote.html?\")"
      ]
    },
    {
      "cell_type": "code",
      "execution_count": null,
      "metadata": {
        "id": "RMzbyuIkD_Um"
      },
      "outputs": [],
      "source": [
        "relevant_links = get_link_by_substring(links,[\"duales studium\",\"duales-studium\", \"dual\", \"dhbw\"])\n",
        "print(f\"{len(relevant_links)} passende Stellenausschreibungen gefunden!\")"
      ]
    },
    {
      "cell_type": "code",
      "execution_count": null,
      "metadata": {
        "id": "1sOHw74QD_Um"
      },
      "outputs": [],
      "source": [
        "job_descriptions = []\n",
        "for link in relevant_links:\n",
        "    job_descriptions.append(get_website_text(link))"
      ]
    },
    {
      "cell_type": "code",
      "execution_count": null,
      "metadata": {
        "id": "i9a-4TnkD_Um"
      },
      "outputs": [],
      "source": [
        "cover_letter = []"
      ]
    },
    {
      "cell_type": "code",
      "execution_count": null,
      "metadata": {
        "id": "hU00Odt0D_Un"
      },
      "outputs": [],
      "source": [
        "for job in job_descriptions:\n",
        "    messages =  [\n",
        "    {'role':'system',\n",
        "    'content': system_message},\n",
        "    {'role':'user',\n",
        "    'content': add_job_description_to_prompt(job)},\n",
        "    ]\n",
        "    cover_letter.append(get_completion(messages))"
      ]
    },
    {
      "cell_type": "code",
      "source": [
        "print(cover_letter[0])"
      ],
      "metadata": {
        "id": "1tY4v9t_Fbq1"
      },
      "execution_count": null,
      "outputs": []
    }
  ],
  "metadata": {
    "kernelspec": {
      "display_name": "openai-api-zmtW_ZPs-py3.10",
      "language": "python",
      "name": "python3"
    },
    "language_info": {
      "codemirror_mode": {
        "name": "ipython",
        "version": 3
      },
      "file_extension": ".py",
      "mimetype": "text/x-python",
      "name": "python",
      "nbconvert_exporter": "python",
      "pygments_lexer": "ipython3",
      "version": "3.10.6"
    },
    "colab": {
      "provenance": [],
      "include_colab_link": true
    }
  },
  "nbformat": 4,
  "nbformat_minor": 0
}