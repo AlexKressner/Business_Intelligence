{
  "cells": [
    {
      "cell_type": "markdown",
      "metadata": {
        "id": "view-in-github",
        "colab_type": "text"
      },
      "source": [
        "<a href=\"https://colab.research.google.com/github/AlexKressner/Business_Intelligence/blob/main/ML_Klassifikation.ipynb\" target=\"_parent\"><img src=\"https://colab.research.google.com/assets/colab-badge.svg\" alt=\"Open In Colab\"/></a>"
      ]
    },
    {
      "cell_type": "markdown",
      "source": [
        "# Machine Learning: Klassifikation, Beispiel Diabetes\n",
        "Im nachfolgenden Beispiel werden wir ein ML-Verfahren einsetzen, um anhand von Untersuchungsergebnissen vorherzusagen, ob ein Patient Diabetes hat. Es handelt sich dabei um eine Klassifikationsproblem (Diabetes/ keine Diabetes). Wir verwenden einen Datensatz mit folgenden Informationen:\n",
        "1. Anzahl Schwangerschaften\n",
        "1. Glukosekonzentration nach Glukosetoleranztest\n",
        "1. Blutdruck (mm Hg)\n",
        "1. Dicke der Trizepshautfalte (mm)\n",
        "1. Insulinwert (mu U/ml)\n",
        "1. Body mass index\n",
        "1. Diabetesvorbelastungsfunktion\n",
        "1. Alter (Jahre)\n",
        "1. Diabetes (0/1)"
      ],
      "metadata": {
        "id": "TlEeS6BHfKV9"
      },
      "id": "TlEeS6BHfKV9"
    },
    {
      "cell_type": "markdown",
      "source": [
        "## 1 Daten laden"
      ],
      "metadata": {
        "id": "fosefoRciSNO"
      },
      "id": "fosefoRciSNO"
    },
    {
      "cell_type": "code",
      "source": [
        "import pandas as pd"
      ],
      "metadata": {
        "id": "LGrl_jqcfXzd"
      },
      "id": "LGrl_jqcfXzd",
      "execution_count": null,
      "outputs": []
    },
    {
      "cell_type": "code",
      "source": [
        "! git clone https://github.com/AlexKressner/Business_Intelligence"
      ],
      "metadata": {
        "id": "I-5QslQG1kr3"
      },
      "id": "I-5QslQG1kr3",
      "execution_count": null,
      "outputs": []
    },
    {
      "cell_type": "code",
      "source": [
        "path = \"Business_Intelligence/Daten/ML_Klassifikation/\""
      ],
      "metadata": {
        "id": "oL-HwWpZeg-J"
      },
      "id": "oL-HwWpZeg-J",
      "execution_count": null,
      "outputs": []
    },
    {
      "cell_type": "code",
      "source": [
        "# Daten laden\n",
        "data = pd.read_csv(f\"{path}diabetes.txt\")"
      ],
      "metadata": {
        "id": "RgxArxyKgSSu"
      },
      "id": "RgxArxyKgSSu",
      "execution_count": null,
      "outputs": []
    },
    {
      "cell_type": "code",
      "source": [
        "data.dtypes"
      ],
      "metadata": {
        "id": "xxYFISLOgbiP"
      },
      "id": "xxYFISLOgbiP",
      "execution_count": null,
      "outputs": []
    },
    {
      "cell_type": "code",
      "source": [
        "data.describe()"
      ],
      "metadata": {
        "id": "MWvb2yXnAyr9"
      },
      "id": "MWvb2yXnAyr9",
      "execution_count": null,
      "outputs": []
    },
    {
      "cell_type": "markdown",
      "metadata": {
        "id": "HsigSaVPCMeT"
      },
      "source": [
        "## 2 Datensatz in Features und Target teilen\n",
        "\n",
        "Wie bereits zuvor müssen wir unterscheiden, was vorhergesagt werden soll (**Target**) und welche Merkmale dazu genutzt werden sollen (**Features**)."
      ],
      "id": "HsigSaVPCMeT"
    },
    {
      "cell_type": "code",
      "execution_count": null,
      "metadata": {
        "id": "z-uyIdD-d-eB"
      },
      "outputs": [],
      "source": [
        "# Features, d.h. womit lässt sich Diabetes prognostizeren!\n",
        "X = data.drop(columns=\"diabetes\")\n",
        "X.head()"
      ],
      "id": "z-uyIdD-d-eB"
    },
    {
      "cell_type": "code",
      "execution_count": null,
      "metadata": {
        "id": "vmpeKoYICZUE"
      },
      "outputs": [],
      "source": [
        "# Target, d.h. was soll prognostiziert werden!\n",
        "y = data[\"diabetes\"]\n",
        "y.head()"
      ],
      "id": "vmpeKoYICZUE"
    },
    {
      "cell_type": "markdown",
      "metadata": {
        "id": "l2eJRG5ICjbo"
      },
      "source": [
        "## 2.2 Datensatz in Trainings- und Testmenge aufteilen\n",
        "Erneut müssen wir die Daten aufteilen. Da wir ausschließlich mit numerischen Daten arbeiten, müssen wir keine Datenaufbereitung über `pd.get_dummies` vornehmen."
      ],
      "id": "l2eJRG5ICjbo"
    },
    {
      "cell_type": "code",
      "execution_count": null,
      "metadata": {
        "id": "DkUWgtB8DKCI"
      },
      "outputs": [],
      "source": [
        "from sklearn.model_selection import train_test_split"
      ],
      "id": "DkUWgtB8DKCI"
    },
    {
      "cell_type": "code",
      "execution_count": null,
      "metadata": {
        "id": "QVKROgWUCeP_"
      },
      "outputs": [],
      "source": [
        "# X und y werden in Trainings- und Testmenge aufgeteilt, so dass die Testmenge 20% der vorhandenen Daten hat\n",
        "X_train, X_test, y_train, y_test = train_test_split(X, y, test_size=0.2, random_state=3)"
      ],
      "id": "QVKROgWUCeP_"
    },
    {
      "cell_type": "code",
      "execution_count": null,
      "metadata": {
        "id": "ajWtX075CxNn"
      },
      "outputs": [],
      "source": [
        "y_train.head()"
      ],
      "id": "ajWtX075CxNn"
    },
    {
      "cell_type": "code",
      "execution_count": null,
      "metadata": {
        "id": "SApJDY4jDZJW"
      },
      "outputs": [],
      "source": [
        "X_train.head()"
      ],
      "id": "SApJDY4jDZJW"
    },
    {
      "cell_type": "markdown",
      "metadata": {
        "id": "DZH4B74CDepm"
      },
      "source": [
        "## 2.3 Modell auswählen\n",
        "\n",
        "Erneut verwenden wir das Verfahren `Random Forest`. Sie müssen allerdings darauf achten, dass Sie einen Random Forest zur Klassifikation importieren. Aus diesem Grund verwenden wir das Verfahren `RandomForestClassifier`. Für die Regressionaufgabe hatten wir das Verfahren `RandomForestRegressor` genutzt. Achten Sie auf diesen wichtigen Unterschied!"
      ],
      "id": "DZH4B74CDepm"
    },
    {
      "cell_type": "code",
      "execution_count": null,
      "metadata": {
        "id": "hRJ3fQsFDXL_"
      },
      "outputs": [],
      "source": [
        "from sklearn.ensemble import RandomForestClassifier"
      ],
      "id": "hRJ3fQsFDXL_"
    },
    {
      "cell_type": "code",
      "execution_count": null,
      "metadata": {
        "id": "cKGnyxJRDqIY"
      },
      "outputs": [],
      "source": [
        "model = RandomForestClassifier()"
      ],
      "id": "cKGnyxJRDqIY"
    },
    {
      "cell_type": "markdown",
      "metadata": {
        "id": "LatzmZt2Dxj6"
      },
      "source": [
        "## 2.4 Modell trainieren\n",
        "\n",
        "Das Random Forest Verfahren versucht nun einen Zusammenhang zwischen den Features und dem Target zu lernen und minimiert dabei ein Fehlermaß. Letzteres misst den Grad der Fehlklassifikation. Beispiel für Fehlklassifikation: Das Modell prognostiziert Diabetes für einen Patienten, in der Realität liegt die Erkrankung aber nicht vor."
      ],
      "id": "LatzmZt2Dxj6"
    },
    {
      "cell_type": "code",
      "execution_count": null,
      "metadata": {
        "id": "ioXqSKqaDslO"
      },
      "outputs": [],
      "source": [
        "model.fit(X_train, y_train)"
      ],
      "id": "ioXqSKqaDslO"
    },
    {
      "cell_type": "markdown",
      "metadata": {
        "id": "SnHwdqNWESSV"
      },
      "source": [
        "## 2.5 Modell anwenden\n",
        "\n",
        "Das ML-Verfahren erhält die Daten `X_test`, d.h. die Untersuchungsergebnisse mit den relevanten Merkmalen und wendet die gelernten Zusammenhänge zur Prognose des Targets an, d.h. dem Vorhandensein von Diabetes (0/1)!"
      ],
      "id": "SnHwdqNWESSV"
    },
    {
      "cell_type": "code",
      "execution_count": null,
      "metadata": {
        "id": "wrwvLvagNqWn"
      },
      "outputs": [],
      "source": [
        "X_test.head()"
      ],
      "id": "wrwvLvagNqWn"
    },
    {
      "cell_type": "code",
      "execution_count": null,
      "metadata": {
        "id": "Lw2VrYolEL1G"
      },
      "outputs": [],
      "source": [
        "y_pred = model.predict(X_test)"
      ],
      "id": "Lw2VrYolEL1G"
    },
    {
      "cell_type": "code",
      "execution_count": null,
      "metadata": {
        "id": "OWgwM9eXG5F-"
      },
      "outputs": [],
      "source": [
        "y_pred"
      ],
      "id": "OWgwM9eXG5F-"
    },
    {
      "cell_type": "code",
      "execution_count": null,
      "metadata": {
        "id": "7D5AcDlVHgba"
      },
      "outputs": [],
      "source": [
        "y_test.values"
      ],
      "id": "7D5AcDlVHgba"
    },
    {
      "cell_type": "code",
      "execution_count": null,
      "metadata": {
        "id": "c-W-DIk7F-Ag"
      },
      "outputs": [],
      "source": [
        "pd.DataFrame({\"Vorhersage\":pd.Series(y_pred), \"Beobachtung\":pd.Series(y_test.values)},).head(10)"
      ],
      "id": "c-W-DIk7F-Ag"
    },
    {
      "cell_type": "markdown",
      "metadata": {
        "id": "2LtmLpD4EkIp"
      },
      "source": [
        "## 2.6 Modell evaluieren\n",
        "\n",
        "Die Modellbewertung erfolgt bei der Klassifikation regelmäßg nach dem Kriterium der \"Accuracy\" (andere kommen aber auch zum Einsatz). Die Accuracy setzt die Anzahl der korrekten Klassifikation in das Verhältnis zur Anzahl aller Beobachtungen. Dementsprechend stellt sie den Anteil der korrekten Klassifikationen dar."
      ],
      "id": "2LtmLpD4EkIp"
    },
    {
      "cell_type": "code",
      "source": [
        "from sklearn import metrics\n",
        "import matplotlib.pyplot as plt"
      ],
      "metadata": {
        "id": "fym0CYnXkyHo"
      },
      "id": "fym0CYnXkyHo",
      "execution_count": null,
      "outputs": []
    },
    {
      "cell_type": "code",
      "execution_count": null,
      "metadata": {
        "id": "QFRaMmh7Ef47"
      },
      "outputs": [],
      "source": [
        "metrics.accuracy_score(y_test, y_pred) * 100"
      ],
      "id": "QFRaMmh7Ef47"
    },
    {
      "cell_type": "code",
      "execution_count": null,
      "metadata": {
        "id": "g_2GU6ppEvOP"
      },
      "outputs": [],
      "source": [
        "conf_matrix = metrics.confusion_matrix(y_test, y_pred, labels=model.classes_)\n",
        "disp = metrics.ConfusionMatrixDisplay(conf_matrix, display_labels=model.classes_)\n",
        "disp.plot()\n",
        "plt.show()"
      ],
      "id": "g_2GU6ppEvOP"
    },
    {
      "cell_type": "code",
      "source": [
        "from sklearn.inspection import permutation_importance\n",
        "import numpy as np"
      ],
      "metadata": {
        "id": "8xVHDrsUDgDW"
      },
      "id": "8xVHDrsUDgDW",
      "execution_count": null,
      "outputs": []
    },
    {
      "cell_type": "code",
      "source": [
        "results = permutation_importance(model, X_test, y_test, n_repeats=10, random_state=42)\n",
        "\n",
        "# Get the mean importance of each feature\n",
        "importances = results.importances_mean\n",
        "\n",
        "# Sort the feature importances in descending order\n",
        "indices = np.argsort(importances)[::-1]\n",
        "\n",
        "# Plot the feature importances\n",
        "plt.figure(figsize=(10, 6))\n",
        "plt.title(\"Feature importances using Permutation Importance\")\n",
        "plt.bar(range(X.shape[1]), importances[indices], align=\"center\")\n",
        "plt.xticks(range(X.shape[1]), X.columns, rotation=45)\n",
        "plt.xlim([-1, X.shape[1]])\n",
        "plt.tight_layout()\n",
        "plt.show()"
      ],
      "metadata": {
        "id": "mxa0_lZHDeg0"
      },
      "id": "mxa0_lZHDeg0",
      "execution_count": null,
      "outputs": []
    },
    {
      "cell_type": "markdown",
      "source": [
        "# Übungsaufgabe\n",
        "Das Versinken der Titanic ist eines der berüchtigtsten Schiffsunglücke in der Geschichte.\n",
        "\n",
        "Am 15. April 1912, während ihrer Jungfernfahrt, sank die weithin als „unsinkbar“ betrachtete RMS Titanic, nachdem sie mit einem Eisberg kollidiert war. Leider gab es nicht genügend Rettungsboote für alle an Bord, was zum Tod von 1502 der 2224 Passagiere und Besatzungsmitglieder führte.\n",
        "\n",
        "Obwohl beim Überleben auch ein Element des Glücks eine Rolle spielte, scheint es, dass einige Gruppen von Menschen eine höhere Überlebenschance hatten als andere.\n",
        "\n",
        "Erstellen Sie bitte ein Vorhersagemodell, das die Frage beantwortet: „Welche Art von Personen hatten eine höhere Überlebenschance?“ unter Verwendung von Passagierdaten (z.B. Name, Alter, Geschlecht, sozioökonomische Klasse usw.).\n",
        "\n",
        "Die Daten finden Sie in der Datei `titanic.csv`."
      ],
      "metadata": {
        "id": "2cyFGiBeFTmH"
      },
      "id": "2cyFGiBeFTmH"
    },
    {
      "cell_type": "code",
      "source": [
        "# 1. Daten laden\n",
        "data = pd.read_csv(f\"{path}titanic.csv\")"
      ],
      "metadata": {
        "id": "L1KtuWnbnYaG"
      },
      "id": "L1KtuWnbnYaG",
      "execution_count": null,
      "outputs": []
    },
    {
      "cell_type": "code",
      "source": [
        "data.drop(columns=[\"Age\",\"Cabin\",\"Embarked\",\"PassengerId\", \"Name\", \"Ticket\"], inplace=True)"
      ],
      "metadata": {
        "id": "5gMv-Hm-Eb3I"
      },
      "id": "5gMv-Hm-Eb3I",
      "execution_count": null,
      "outputs": []
    },
    {
      "cell_type": "code",
      "source": [
        "data.head()"
      ],
      "metadata": {
        "id": "SrCywZ3pJPWY"
      },
      "id": "SrCywZ3pJPWY",
      "execution_count": null,
      "outputs": []
    }
  ],
  "metadata": {
    "kernelspec": {
      "display_name": "Python 3 (ipykernel)",
      "language": "python",
      "name": "python3"
    },
    "language_info": {
      "codemirror_mode": {
        "name": "ipython",
        "version": 3
      },
      "file_extension": ".py",
      "mimetype": "text/x-python",
      "name": "python",
      "nbconvert_exporter": "python",
      "pygments_lexer": "ipython3",
      "version": "3.8.5"
    },
    "colab": {
      "provenance": [],
      "include_colab_link": true
    }
  },
  "nbformat": 4,
  "nbformat_minor": 5
}