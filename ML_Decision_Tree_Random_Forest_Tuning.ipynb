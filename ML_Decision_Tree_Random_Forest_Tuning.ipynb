{
  "cells": [
    {
      "cell_type": "markdown",
      "metadata": {
        "id": "view-in-github",
        "colab_type": "text"
      },
      "source": [
        "<a href=\"https://colab.research.google.com/github/AlexKressner/Business_Intelligence/blob/main/ML_Decision_Tree_Random_Forest_Tuning.ipynb\" target=\"_parent\"><img src=\"https://colab.research.google.com/assets/colab-badge.svg\" alt=\"Open In Colab\"/></a>"
      ]
    },
    {
      "cell_type": "markdown",
      "source": [
        "# Regression Tree, Beispiel Immobilienpreise"
      ],
      "metadata": {
        "id": "Hf6uNv2Q05Gz"
      },
      "id": "Hf6uNv2Q05Gz"
    },
    {
      "cell_type": "code",
      "execution_count": null,
      "metadata": {
        "id": "8Pq0ugh61B-d"
      },
      "outputs": [],
      "source": [
        "import pandas as pd"
      ],
      "id": "8Pq0ugh61B-d"
    },
    {
      "cell_type": "code",
      "source": [
        "data = [\n",
        "    [60000, 80000, 10000],\n",
        "    [30000, 70000, 120000],\n",
        "    [25000, 50000, 40000],\n",
        "    [85000, 120000, 20000],\n",
        "    [30000, 65000, 80000]\n",
        "    ]"
      ],
      "metadata": {
        "id": "cb8ez8DEzB4U"
      },
      "execution_count": null,
      "outputs": [],
      "id": "cb8ez8DEzB4U"
    },
    {
      "cell_type": "code",
      "source": [
        "df = pd.DataFrame(data, columns=[\"Verkaufspreis\", \"Neupreis\", \"Kilometerstand\"])"
      ],
      "metadata": {
        "id": "2wZQZPhszBsp"
      },
      "execution_count": null,
      "outputs": [],
      "id": "2wZQZPhszBsp"
    },
    {
      "cell_type": "code",
      "source": [
        "df.head()"
      ],
      "metadata": {
        "id": "vojjy5XGzBaX"
      },
      "execution_count": null,
      "outputs": [],
      "id": "vojjy5XGzBaX"
    },
    {
      "cell_type": "code",
      "source": [
        "X = df.drop(columns=\"Verkaufspreis\")\n",
        "y = df[\"Verkaufspreis\"]"
      ],
      "metadata": {
        "id": "A0qdY_j4zuBj"
      },
      "execution_count": null,
      "outputs": [],
      "id": "A0qdY_j4zuBj"
    },
    {
      "cell_type": "code",
      "execution_count": null,
      "metadata": {
        "id": "tHey8sjg1B-i"
      },
      "outputs": [],
      "source": [
        "from sklearn.tree import DecisionTreeRegressor\n",
        "from sklearn.metrics import mean_squared_error"
      ],
      "id": "tHey8sjg1B-i"
    },
    {
      "cell_type": "code",
      "execution_count": null,
      "metadata": {
        "id": "0l1lBKcO1B-i"
      },
      "outputs": [],
      "source": [
        "decision_tree = DecisionTreeRegressor()"
      ],
      "id": "0l1lBKcO1B-i"
    },
    {
      "cell_type": "code",
      "execution_count": null,
      "metadata": {
        "id": "duluU5on1B-i"
      },
      "outputs": [],
      "source": [
        "decision_tree.fit(X, y)"
      ],
      "id": "duluU5on1B-i"
    },
    {
      "cell_type": "code",
      "execution_count": null,
      "metadata": {
        "id": "NH-q05DA1B-k"
      },
      "outputs": [],
      "source": [
        "from sklearn.tree import export_graphviz\n",
        "from IPython.display import Image"
      ],
      "id": "NH-q05DA1B-k"
    },
    {
      "cell_type": "code",
      "execution_count": null,
      "metadata": {
        "id": "kY4eRsMs1B-k"
      },
      "outputs": [],
      "source": [
        "# Hilfsfunktion zur Darstellung des Entscheidungsbaums\n",
        "def plot_decision_tree(decision_tree:DecisionTreeRegressor, name:str=\"tree\"):\n",
        "  # Exportieren des Entscheidungsbaums in eine .dot Datei\n",
        "  export_graphviz(\n",
        "      decision_tree,\n",
        "      out_file=f\"./{name}.dot\",\n",
        "      feature_names=decision_tree.feature_names_in_,\n",
        "      rounded=True,\n",
        "      filled=True\n",
        "  )\n",
        "\n",
        "  #Umwandeln der .dot in eine .png Datei\n",
        "  ! dot -Tpng ./tree.dot -o ./tree.png\n",
        "\n",
        "  # Visualisierung\n",
        "  return Image(filename=f\"./{name}.png\")"
      ],
      "id": "kY4eRsMs1B-k"
    },
    {
      "cell_type": "code",
      "execution_count": null,
      "metadata": {
        "id": "TtjlU5u_1B-k"
      },
      "outputs": [],
      "source": [
        "plot_decision_tree(decision_tree)"
      ],
      "id": "TtjlU5u_1B-k"
    },
    {
      "cell_type": "markdown",
      "metadata": {
        "id": "TlEeS6BHfKV9"
      },
      "source": [
        "# Regression Tree, Beispiel Immobilienpreise\n",
        "\n"
      ],
      "id": "TlEeS6BHfKV9"
    },
    {
      "cell_type": "markdown",
      "metadata": {
        "id": "fosefoRciSNO"
      },
      "source": [
        "## 1 Daten laden"
      ],
      "id": "fosefoRciSNO"
    },
    {
      "cell_type": "code",
      "execution_count": null,
      "metadata": {
        "id": "tJFwRdMHn8q7"
      },
      "outputs": [],
      "source": [
        "! git clone https://github.com/AlexKressner/Business_Intelligence"
      ],
      "id": "tJFwRdMHn8q7"
    },
    {
      "cell_type": "code",
      "execution_count": null,
      "metadata": {
        "id": "oL-HwWpZeg-J"
      },
      "outputs": [],
      "source": [
        "path = \"Business_Intelligence/Daten/ML_Regression/\""
      ],
      "id": "oL-HwWpZeg-J"
    },
    {
      "cell_type": "code",
      "execution_count": null,
      "metadata": {
        "id": "si2UIYtXgBSB"
      },
      "outputs": [],
      "source": [
        "# Datentypen für das Laden der Daten definieren\n",
        "# Beispiel: Zwar handelt es sich beim Baujahr um eine Zahl, allerdings interessiert uns\n",
        "# hier nur, ob eine Immobilie in einem Jahr gebaut wurde oder eben nicht.\n",
        "dtypes = {\n",
        "    \"Verkaufsmonat\": \"str\",\n",
        "    \"Baujahr\": \"str\",\n",
        "}"
      ],
      "id": "si2UIYtXgBSB"
    },
    {
      "cell_type": "code",
      "execution_count": null,
      "metadata": {
        "id": "l_1OmbXGhhsB"
      },
      "outputs": [],
      "source": [
        "# Relevante Spalten definiere\n",
        "cols = [\n",
        "    \"Verkaufspreis\",\"Verkaufsmonat\",\"Wohnraum_qm\",\n",
        "    \"Keller_qm\", \"Grundstueck_qm\",\"Baujahr\"\n",
        "    ]"
      ],
      "id": "l_1OmbXGhhsB"
    },
    {
      "cell_type": "code",
      "execution_count": null,
      "metadata": {
        "id": "RgxArxyKgSSu"
      },
      "outputs": [],
      "source": [
        "# Daten laden\n",
        "data = pd.read_csv(f\"{path}house_price.txt\", dtype=dtypes, usecols=cols)"
      ],
      "id": "RgxArxyKgSSu"
    },
    {
      "cell_type": "markdown",
      "metadata": {
        "id": "KkHlMAifQF9l"
      },
      "source": [
        "## 2 Erster Überblick zum Datensatz"
      ],
      "id": "KkHlMAifQF9l"
    },
    {
      "cell_type": "code",
      "execution_count": null,
      "metadata": {
        "id": "j6mUMYZ1hVXC"
      },
      "outputs": [],
      "source": [
        "# Kopfzeile der Daten\n",
        "data.head()"
      ],
      "id": "j6mUMYZ1hVXC"
    },
    {
      "cell_type": "code",
      "execution_count": null,
      "metadata": {
        "id": "qofiApAiQEuA"
      },
      "outputs": [],
      "source": [
        "# Größe des Datensatzes\n",
        "data.shape"
      ],
      "id": "qofiApAiQEuA"
    },
    {
      "cell_type": "markdown",
      "metadata": {
        "id": "F6l0bN2Di_at"
      },
      "source": [
        "## 3 Prognose mit einem Entscheidungsbaum"
      ],
      "id": "F6l0bN2Di_at"
    },
    {
      "cell_type": "markdown",
      "metadata": {
        "id": "z31grNzGpKZI"
      },
      "source": [
        "### 3.1 Daten aufbereiten"
      ],
      "id": "z31grNzGpKZI"
    },
    {
      "cell_type": "code",
      "execution_count": null,
      "metadata": {
        "id": "jw9nsecciIA0"
      },
      "outputs": [],
      "source": [
        "# Features, d.h. womit lässt sich der Immobilienpreis vorhersagen!\n",
        "X = data.drop(columns=\"Verkaufspreis\")"
      ],
      "id": "jw9nsecciIA0"
    },
    {
      "cell_type": "code",
      "execution_count": null,
      "metadata": {
        "id": "-R0p_tMFjN-f"
      },
      "outputs": [],
      "source": [
        "# Target, d.h. was soll prognostiziert werden!\n",
        "y = data[\"Verkaufspreis\"]"
      ],
      "id": "-R0p_tMFjN-f"
    },
    {
      "cell_type": "code",
      "execution_count": null,
      "metadata": {
        "id": "faK9AhsNldxt"
      },
      "outputs": [],
      "source": [
        "# Kategoriale Features umcodieren\n",
        "X = pd.get_dummies(X)"
      ],
      "id": "faK9AhsNldxt"
    },
    {
      "cell_type": "code",
      "execution_count": null,
      "metadata": {
        "id": "DGvezYTQpix3"
      },
      "outputs": [],
      "source": [
        "from sklearn.model_selection import train_test_split"
      ],
      "id": "DGvezYTQpix3"
    },
    {
      "cell_type": "code",
      "execution_count": null,
      "metadata": {
        "id": "wRR4swbcjkRI"
      },
      "outputs": [],
      "source": [
        "# Training Algorithmus: X_train (Features), y_train (Target)\n",
        "# Test des Algorithmus (Bewertung): X_test, y_test\n",
        "#     1) Algorithmus bekommt Daten (X_test), die er noch nicht kennt & macht Prognose\n",
        "#     2) Vergleich Prognose mit tatsächlichen Werte (y_test) --> Bewertung\n",
        "\n",
        "X_train, X_test, y_train, y_test = train_test_split(X, y, test_size=0.2, random_state=3)"
      ],
      "id": "wRR4swbcjkRI"
    },
    {
      "cell_type": "markdown",
      "metadata": {
        "id": "x4Gs4pG8pPPL"
      },
      "source": [
        "### 3.2 Entscheidungsbaum zur Regression\n",
        "#### 3.2.1 Default Parameter"
      ],
      "id": "x4Gs4pG8pPPL"
    },
    {
      "cell_type": "code",
      "execution_count": null,
      "metadata": {
        "id": "1GKdd-yxj73L"
      },
      "outputs": [],
      "source": [
        "decision_tree = DecisionTreeRegressor()"
      ],
      "id": "1GKdd-yxj73L"
    },
    {
      "cell_type": "code",
      "execution_count": null,
      "metadata": {
        "id": "lkvL69unCopG"
      },
      "outputs": [],
      "source": [
        "decision_tree.fit(X_train, y_train)"
      ],
      "id": "lkvL69unCopG"
    },
    {
      "cell_type": "code",
      "execution_count": null,
      "metadata": {
        "id": "_xyKF1Di4cCg"
      },
      "outputs": [],
      "source": [
        "from sklearn.metrics import mean_absolute_percentage_error"
      ],
      "id": "_xyKF1Di4cCg"
    },
    {
      "cell_type": "code",
      "execution_count": null,
      "metadata": {
        "id": "xWEafhPi4084"
      },
      "outputs": [],
      "source": [
        "# Fehler auf den Trainingsdaten\n",
        "mean_absolute_percentage_error(y_train, decision_tree.predict(X_train)) * 100"
      ],
      "id": "xWEafhPi4084"
    },
    {
      "cell_type": "code",
      "execution_count": null,
      "metadata": {
        "id": "stwNS8yF4jJW"
      },
      "outputs": [],
      "source": [
        "# Fehler auf den Testdaten\n",
        "mean_absolute_percentage_error(y_test, decision_tree.predict(X_test)) * 100"
      ],
      "id": "stwNS8yF4jJW"
    },
    {
      "cell_type": "code",
      "execution_count": null,
      "metadata": {
        "id": "_AQ59IXr7phg"
      },
      "outputs": [],
      "source": [
        "plot_decision_tree(decision_tree)"
      ],
      "id": "_AQ59IXr7phg"
    },
    {
      "cell_type": "markdown",
      "source": [
        "#### 3.2.2 Minimale Anzahl von Beobachtungen in Blattknoten\n",
        "Die Mindestanzahl von Datensätzen, die für ein Blattknoten erforderlich sind. Ein Blattknoten ist ein Endknoten um Entscheidungsbaum, dem keine weiteren Verzweigungen folgen. Ein Teilungspunkt auf beliebiger Tiefe wird nur dann in Betracht gezogen, wenn er mindestens `min_samples_leaf` Beobachtungen in jedem der linken und rechten Zweige hinterlässt."
      ],
      "metadata": {
        "id": "8rZJ_vZI81jC"
      },
      "id": "8rZJ_vZI81jC"
    },
    {
      "cell_type": "code",
      "source": [
        "decision_tree = DecisionTreeRegressor(min_samples_leaf=10)"
      ],
      "metadata": {
        "id": "n9AhV60CApYu"
      },
      "id": "n9AhV60CApYu",
      "execution_count": null,
      "outputs": []
    },
    {
      "cell_type": "code",
      "source": [
        "decision_tree.fit(X_train, y_train)"
      ],
      "metadata": {
        "id": "xWbXRT4p8uu7"
      },
      "id": "xWbXRT4p8uu7",
      "execution_count": null,
      "outputs": []
    },
    {
      "cell_type": "code",
      "source": [
        "# Fehler auf den Trainingsdaten\n",
        "mean_absolute_percentage_error(y_train, decision_tree.predict(X_train)) * 100"
      ],
      "metadata": {
        "id": "MMcRsV1xAuoh"
      },
      "id": "MMcRsV1xAuoh",
      "execution_count": null,
      "outputs": []
    },
    {
      "cell_type": "code",
      "source": [
        "# Fehler auf den Testdaten\n",
        "mean_absolute_percentage_error(y_test, decision_tree.predict(X_test)) * 100"
      ],
      "metadata": {
        "id": "GpTNGT0PA5AP"
      },
      "id": "GpTNGT0PA5AP",
      "execution_count": null,
      "outputs": []
    },
    {
      "cell_type": "code",
      "source": [
        "plot_decision_tree(decision_tree)"
      ],
      "metadata": {
        "id": "ae9xv2K7BBFW"
      },
      "id": "ae9xv2K7BBFW",
      "execution_count": null,
      "outputs": []
    },
    {
      "cell_type": "markdown",
      "source": [
        "#### 3.2.3 Minimale Anzahl von Beobachtungen für einen Split"
      ],
      "metadata": {
        "id": "1-JaDVQnDC1a"
      },
      "id": "1-JaDVQnDC1a"
    },
    {
      "cell_type": "code",
      "source": [
        "decision_tree = DecisionTreeRegressor(min_samples_split=40)"
      ],
      "metadata": {
        "id": "jfGmpLhuDJEk"
      },
      "id": "jfGmpLhuDJEk",
      "execution_count": null,
      "outputs": []
    },
    {
      "cell_type": "code",
      "source": [
        "decision_tree.fit(X_train, y_train)"
      ],
      "metadata": {
        "id": "K4qVrVi8DPKo"
      },
      "id": "K4qVrVi8DPKo",
      "execution_count": null,
      "outputs": []
    },
    {
      "cell_type": "code",
      "source": [
        "# Fehler auf den Trainingsdaten\n",
        "mean_absolute_percentage_error(y_train, decision_tree.predict(X_train)) * 100"
      ],
      "metadata": {
        "id": "w5tN_HsDDPVG"
      },
      "id": "w5tN_HsDDPVG",
      "execution_count": null,
      "outputs": []
    },
    {
      "cell_type": "code",
      "source": [
        "# Fehler auf den Testdaten\n",
        "mean_absolute_percentage_error(y_test, decision_tree.predict(X_test)) * 100"
      ],
      "metadata": {
        "id": "9vEA_Y7HDPbT"
      },
      "id": "9vEA_Y7HDPbT",
      "execution_count": null,
      "outputs": []
    },
    {
      "cell_type": "code",
      "source": [
        "plot_decision_tree(decision_tree)"
      ],
      "metadata": {
        "id": "2NlFRdlJDPlb"
      },
      "id": "2NlFRdlJDPlb",
      "execution_count": null,
      "outputs": []
    },
    {
      "cell_type": "markdown",
      "source": [
        "#### 3.2.4 Maximale Tiefe des Entscheidungsbaums"
      ],
      "metadata": {
        "id": "ME60dzxaBS6Y"
      },
      "id": "ME60dzxaBS6Y"
    },
    {
      "cell_type": "code",
      "source": [
        "print(f\"Aktuelle Tiefe des Entscheidungsbaums: {decision_tree.get_depth()}\")"
      ],
      "metadata": {
        "id": "ZAaRDH3NBcoJ"
      },
      "id": "ZAaRDH3NBcoJ",
      "execution_count": null,
      "outputs": []
    },
    {
      "cell_type": "code",
      "source": [
        "decision_tree = DecisionTreeRegressor(max_depth=7, min_samples_leaf=10)"
      ],
      "metadata": {
        "id": "lWccjsfyBkfl"
      },
      "id": "lWccjsfyBkfl",
      "execution_count": null,
      "outputs": []
    },
    {
      "cell_type": "code",
      "source": [
        "decision_tree.fit(X_train, y_train)"
      ],
      "metadata": {
        "id": "dXOBnlpMBqzS"
      },
      "id": "dXOBnlpMBqzS",
      "execution_count": null,
      "outputs": []
    },
    {
      "cell_type": "code",
      "source": [
        "# Fehler auf den Trainingsdaten\n",
        "mean_absolute_percentage_error(y_train, decision_tree.predict(X_train)) * 100"
      ],
      "metadata": {
        "id": "hr9pMSMmBq-t"
      },
      "id": "hr9pMSMmBq-t",
      "execution_count": null,
      "outputs": []
    },
    {
      "cell_type": "code",
      "source": [
        "# Fehler auf den Testdaten\n",
        "mean_absolute_percentage_error(y_test, decision_tree.predict(X_test)) * 100"
      ],
      "metadata": {
        "id": "C_v0vVC4BrHx"
      },
      "id": "C_v0vVC4BrHx",
      "execution_count": null,
      "outputs": []
    },
    {
      "cell_type": "code",
      "source": [
        "plot_decision_tree(decision_tree)"
      ],
      "metadata": {
        "id": "h073WRxoB5nV"
      },
      "id": "h073WRxoB5nV",
      "execution_count": null,
      "outputs": []
    },
    {
      "cell_type": "markdown",
      "metadata": {
        "id": "dSmJd8-fADv9"
      },
      "source": [
        "## 4 Bestimmung optimaler Parameter für den Entscheidungsbaum"
      ],
      "id": "dSmJd8-fADv9"
    },
    {
      "cell_type": "code",
      "execution_count": null,
      "metadata": {
        "id": "T2RSg9oJ7wtp"
      },
      "outputs": [],
      "source": [
        "from sklearn.model_selection import GridSearchCV"
      ],
      "id": "T2RSg9oJ7wtp"
    },
    {
      "cell_type": "code",
      "execution_count": null,
      "metadata": {
        "id": "izD6cdcVAIPO"
      },
      "outputs": [],
      "source": [
        "# Grid definieren\n",
        "param_grid = {\n",
        "    \"max_depth\": [3, 4, 5, 6, 7, 8, 9],\n",
        "    \"min_samples_leaf\": [5, 10, 15, 20, 25, 30],\n",
        "    \"min_samples_split\": [10, 15, 20, 25, 30, 35, 40, 45, 50, 55]\n",
        "}"
      ],
      "id": "izD6cdcVAIPO"
    },
    {
      "cell_type": "code",
      "execution_count": null,
      "metadata": {
        "id": "soZs36A1JTQN"
      },
      "outputs": [],
      "source": [
        "decision_tree = DecisionTreeRegressor()"
      ],
      "id": "soZs36A1JTQN"
    },
    {
      "cell_type": "code",
      "execution_count": null,
      "metadata": {
        "id": "Lv3Dp990AsnN"
      },
      "outputs": [],
      "source": [
        "grid = GridSearchCV(\n",
        "    decision_tree, # verwendetes Modell\n",
        "    param_grid, # zu untersuchende Parameter\n",
        "    cv=5, # Anzahl der Folds\n",
        "    n_jobs=-1, # Parallelisierung der Ausführung\n",
        "    scoring=\"neg_mean_squared_error\", # Fehlermaß\n",
        ")"
      ],
      "id": "Lv3Dp990AsnN"
    },
    {
      "cell_type": "code",
      "execution_count": null,
      "metadata": {
        "id": "DL3C60nBAumQ"
      },
      "outputs": [],
      "source": [
        "grid.fit(X_train, y_train)"
      ],
      "id": "DL3C60nBAumQ"
    },
    {
      "cell_type": "code",
      "execution_count": null,
      "metadata": {
        "id": "3Q3QeAd0BDSa"
      },
      "outputs": [],
      "source": [
        "grid_search_results = pd.DataFrame(grid.cv_results_)[\n",
        "    [\"mean_test_score\", \"std_test_score\", \"params\"]\n",
        "]\n",
        "grid_search_results.head()"
      ],
      "id": "3Q3QeAd0BDSa"
    },
    {
      "cell_type": "code",
      "source": [
        "grid.best_estimator_"
      ],
      "metadata": {
        "id": "75A7tuLY1GcO"
      },
      "id": "75A7tuLY1GcO",
      "execution_count": null,
      "outputs": []
    },
    {
      "cell_type": "code",
      "execution_count": null,
      "metadata": {
        "id": "zVwt1Ba_BH7M"
      },
      "outputs": [],
      "source": [
        "# Auswahl des besten Modells\n",
        "best_model = grid.best_estimator_"
      ],
      "id": "zVwt1Ba_BH7M"
    },
    {
      "cell_type": "code",
      "execution_count": null,
      "metadata": {
        "id": "l524forQBVYe"
      },
      "outputs": [],
      "source": [
        "best_model.get_params()"
      ],
      "id": "l524forQBVYe"
    },
    {
      "cell_type": "code",
      "execution_count": null,
      "metadata": {
        "id": "930lPmB6BjQ1"
      },
      "outputs": [],
      "source": [
        "# Fehler auf den Trainingsdaten\n",
        "mean_absolute_percentage_error(y_train, best_model.predict(X_train)) * 100"
      ],
      "id": "930lPmB6BjQ1"
    },
    {
      "cell_type": "code",
      "execution_count": null,
      "metadata": {
        "id": "K4oemA87BtIt"
      },
      "outputs": [],
      "source": [
        "# Fehler auf den Testdaten\n",
        "mean_absolute_percentage_error(y_test, best_model.predict(X_test)) * 100"
      ],
      "id": "K4oemA87BtIt"
    },
    {
      "cell_type": "code",
      "source": [
        "plot_decision_tree(best_model)"
      ],
      "metadata": {
        "id": "Ark9vUY6ED1b"
      },
      "id": "Ark9vUY6ED1b",
      "execution_count": null,
      "outputs": []
    },
    {
      "cell_type": "markdown",
      "metadata": {
        "id": "i3bO2EgES_CA"
      },
      "source": [
        "# Random Forest Regressor, Beispiel Immobilienpreise"
      ],
      "id": "i3bO2EgES_CA"
    },
    {
      "cell_type": "code",
      "execution_count": null,
      "metadata": {
        "id": "klZSTCJPTY1J"
      },
      "outputs": [],
      "source": [
        "from sklearn.ensemble import RandomForestRegressor"
      ],
      "id": "klZSTCJPTY1J"
    },
    {
      "cell_type": "markdown",
      "source": [
        "## Random Forest Regressor mit Default-Parametern"
      ],
      "metadata": {
        "id": "G6pzShyMFdmc"
      },
      "id": "G6pzShyMFdmc"
    },
    {
      "cell_type": "code",
      "execution_count": null,
      "metadata": {
        "id": "vLhgyIzxTdb4"
      },
      "outputs": [],
      "source": [
        "forest = RandomForestRegressor()"
      ],
      "id": "vLhgyIzxTdb4"
    },
    {
      "cell_type": "code",
      "source": [
        "forest.fit(X_train, y_train)"
      ],
      "metadata": {
        "id": "GRclYFofFQjr"
      },
      "id": "GRclYFofFQjr",
      "execution_count": null,
      "outputs": []
    },
    {
      "cell_type": "code",
      "source": [
        "# Fehler auf den Trainingsdaten\n",
        "mean_absolute_percentage_error(y_train, forest.predict(X_train)) * 100"
      ],
      "metadata": {
        "id": "EH3fEMzQFWZ7"
      },
      "id": "EH3fEMzQFWZ7",
      "execution_count": null,
      "outputs": []
    },
    {
      "cell_type": "code",
      "source": [
        "# Fehler auf den Testdaten\n",
        "mean_absolute_percentage_error(y_test, forest.predict(X_test)) * 100"
      ],
      "metadata": {
        "id": "coFrbGkqFZwv"
      },
      "id": "coFrbGkqFZwv",
      "execution_count": null,
      "outputs": []
    },
    {
      "cell_type": "markdown",
      "source": [
        "## Random Forest Regressor mit optimierten Parametern"
      ],
      "metadata": {
        "id": "8NINqAl_FnIO"
      },
      "id": "8NINqAl_FnIO"
    },
    {
      "cell_type": "code",
      "execution_count": null,
      "metadata": {
        "id": "el6BPjPfDINj"
      },
      "outputs": [],
      "source": [
        "# Grid definieren\n",
        "param_grid = {\n",
        "    \"max_depth\": [4, 6, 8, 10, 12, 14, 16],\n",
        "    \"n_estimators\": [50, 100, 150, 200]\n",
        "}"
      ],
      "id": "el6BPjPfDINj"
    },
    {
      "cell_type": "code",
      "execution_count": null,
      "metadata": {
        "id": "5zcGkGSdTX6_"
      },
      "outputs": [],
      "source": [
        "grid = GridSearchCV(\n",
        "    forest, # verwendetes Modell\n",
        "    param_grid, # zu untersuchende Parameter\n",
        "    cv=5, # Anzahl der Folds\n",
        "    n_jobs=-1, # Parallelisierung der Ausführung\n",
        "    scoring=\"neg_mean_squared_error\", # Fehlermaß\n",
        ")"
      ],
      "id": "5zcGkGSdTX6_"
    },
    {
      "cell_type": "code",
      "execution_count": null,
      "metadata": {
        "id": "nxcDKORTTjc-"
      },
      "outputs": [],
      "source": [
        "grid.fit(X_train, y_train)"
      ],
      "id": "nxcDKORTTjc-"
    },
    {
      "cell_type": "code",
      "execution_count": null,
      "metadata": {
        "id": "g-SWEO8pTmb-"
      },
      "outputs": [],
      "source": [
        "best_model = grid.best_estimator_\n",
        "best_model.get_params()"
      ],
      "id": "g-SWEO8pTmb-"
    },
    {
      "cell_type": "code",
      "execution_count": null,
      "metadata": {
        "id": "ojgsDgL0TqFl"
      },
      "outputs": [],
      "source": [
        "# Fehler auf den Trainingsdaten\n",
        "mean_absolute_percentage_error(y_train, best_model.predict(X_train)) * 100"
      ],
      "id": "ojgsDgL0TqFl"
    },
    {
      "cell_type": "code",
      "execution_count": null,
      "metadata": {
        "id": "l_fDx328TreI"
      },
      "outputs": [],
      "source": [
        "# Fehler auf den Testdaten\n",
        "mean_absolute_percentage_error(y_test, best_model.predict(X_test)) * 100"
      ],
      "id": "l_fDx328TreI"
    },
    {
      "cell_type": "markdown",
      "source": [
        "# Hinweis: Cross-Validation für Zeitreihen"
      ],
      "metadata": {
        "id": "gvngFIIvxoy-"
      },
      "id": "gvngFIIvxoy-"
    },
    {
      "cell_type": "markdown",
      "source": [
        "## Klassische Cross-Validation\n",
        "\n",
        "<img src=\"https://scikit-learn.org/stable/_images/grid_search_cross_validation.png\" width=700 height=400 >"
      ],
      "metadata": {
        "id": "ANf32cebxuOY"
      },
      "id": "ANf32cebxuOY"
    },
    {
      "cell_type": "markdown",
      "source": [
        "## Cross-Validation unter Beachtung der Zeitreiheneigenschaft\n",
        "\n",
        "<img src=\"https://quantile.app/images/blog_posts/cross_validation/holdout_cv.webp\" width=700 height=400 >"
      ],
      "metadata": {
        "id": "RbkXSLc13wVs"
      },
      "id": "RbkXSLc13wVs"
    }
  ],
  "metadata": {
    "colab": {
      "provenance": [],
      "include_colab_link": true
    },
    "kernelspec": {
      "display_name": "Python 3 (ipykernel)",
      "language": "python",
      "name": "python3"
    },
    "language_info": {
      "codemirror_mode": {
        "name": "ipython",
        "version": 3
      },
      "file_extension": ".py",
      "mimetype": "text/x-python",
      "name": "python",
      "nbconvert_exporter": "python",
      "pygments_lexer": "ipython3",
      "version": "3.8.5"
    }
  },
  "nbformat": 4,
  "nbformat_minor": 5
}