{
  "nbformat": 4,
  "nbformat_minor": 0,
  "metadata": {
    "colab": {
      "provenance": [],
      "authorship_tag": "ABX9TyMKkrr/a6yTbpm0XkzD5viO",
      "include_colab_link": true
    },
    "kernelspec": {
      "name": "python3",
      "display_name": "Python 3"
    },
    "language_info": {
      "name": "python"
    }
  },
  "cells": [
    {
      "cell_type": "markdown",
      "metadata": {
        "id": "view-in-github",
        "colab_type": "text"
      },
      "source": [
        "<a href=\"https://colab.research.google.com/github/AlexKressner/Business_Intelligence/blob/main/ML_Fallstudie_Obesity.ipynb\" target=\"_parent\"><img src=\"https://colab.research.google.com/assets/colab-badge.svg\" alt=\"Open In Colab\"/></a>"
      ]
    },
    {
      "cell_type": "markdown",
      "source": [
        "# ML Fallstudie Obesity\n",
        "Sie finden in unserem [Repo](https://github.com/AlexKressner/Business_Intelligence) unter `Daten/Obesity/` Daten zur Schätzung der Adipositaslevel von Personen aus den Ländern Mexiko, Peru und Kolumbien, im Alter zwischen 14 und 61 Jahren, mit unterschiedlichen Essgewohnheiten und körperlicher Verfassung. Die Daten wurden mit Hilfe einer Webplattform gesammelt, auf der anonyme Nutzer jede Frage eines Fragebogens beantworteten. Anschließend wurden die Informationen verarbeitet, wobei 17 Attribute und 2111 Datensätze erhalten wurden.\n",
        "\n",
        "Die mit den Essgewohnheiten verbundenen Attribute sind: Häufiger Konsum von hochkalorischen Lebensmitteln (FAVC), Häufigkeit des täglichen Gemüsekonsums (FCVC), Anzahl der Hauptmahlzeiten pro Tag (NCP), Konsum von Nahrungsmitteln zwischen den Mahlzeiten (CAEC), täglicher Wasserkonsum (CH20) und Alkoholkonsum (CALC).\n",
        "\n",
        "Die mit der körperlichen Verfassung verbundenen Attribute sind: Überwachung des Kalorienverbrauchs (SCC), Häufigkeit körperlicher Aktivitäten (FAF), Zeit, die mit Technologiegeräten verbracht wird (TUE), genutztes Verkehrsmittel (MTRANS) und die erhaltenen Variablen: Geschlecht, Alter, Größe und Gewicht.\n",
        "\n",
        "Die verschiedenen Adipositatswerte (in der Spalte `ObesityLevel`) sind:\n",
        "\n",
        "- Untergewicht\n",
        "- Normalgewicht\n",
        "- Übergewicht_I\n",
        "- Übergewicht_II\n",
        "- Adipositas_I\n",
        "- Adipositas_II\n",
        "- Adipositas_III\n",
        "\n",
        "Die Daten stammen von [Kaggle](https://www.kaggle.com/datasets/aravindpcoder/obesity-or-cvd-risk-classifyregressorcluster). Ihre Aufgabe besteht darin, ein geeignetes Modell zur Vorhersage des Adipositatlevels basierend auf den gegebenen Features zu erstellen. Beantworten Sie dafür die folgenden Fragestellungen bzw. gehen Sie wie folgt vor:\n",
        "\n",
        "1. **Vorüberlegung**: Wenn Sie das Adipositaslevel einer Person vorhersagen, handelt es sich um eine Regression oder Klassifikation?\n",
        "\n",
        "2. **Datenexploration**:\n",
        "- Wie viele Features gibt es?\n",
        "- Gibt es fehlende Werte bei den Features?\n",
        "- Wie sind die numerischen Features verteilt, d.h. berechnen Sie Kenngrößen wie den Mittelwert, Median, Quartile, etc.? Hinweis: Dafür gibt es eine Funktion!\n",
        "- Wie ist die Korrelation zwischen dem Target und den Features? Hinweis: Dafür gibt es eine Funktion!\n",
        "\n",
        "3. **Feature Engineering**:\n",
        "- Achte Sie auf die Datentypen beim Erstellen von Features!\n",
        "- Gibt es aus Ihrer Sicht weitere interessante Features, die Sie aus den Daten ableiten können?\n",
        "\n",
        "4. **Modell trainieren und bewerten**:\n",
        "- Entwickeln Sie ein Modell, mit dem Sie das Adipositaslevel einer Person basierend auf den zur Verfügung stehenden Features schätzen können.\n",
        "- Optimieren Sie die Hyperparamter Ihres Modells.\n",
        "- Können Sie Prognosegüte erhöhen, wenn Sie zwei Modelle trainieren? Ein Modell schätzt das Adipositaslevels für Männer, das andere für Frauen.\n",
        "\n",
        "5. **Prognose**: Schätzen Sie das Adipositaslevel einer beliebigen Person."
      ],
      "metadata": {
        "id": "lMu3pCvOTOaC"
      }
    },
    {
      "cell_type": "code",
      "source": [],
      "metadata": {
        "id": "4AvEq0CdjGOZ"
      },
      "execution_count": null,
      "outputs": []
    }
  ]
}