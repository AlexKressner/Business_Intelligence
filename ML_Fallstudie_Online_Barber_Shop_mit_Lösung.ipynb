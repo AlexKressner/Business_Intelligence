{
  "cells": [
    {
      "cell_type": "markdown",
      "metadata": {
        "id": "view-in-github",
        "colab_type": "text"
      },
      "source": [
        "<a href=\"https://colab.research.google.com/github/AlexKressner/Business_Intelligence/blob/main/ML_Fallstudie_Online_Barber_Shop_mit_L%C3%B6sung.ipynb\" target=\"_parent\"><img src=\"https://colab.research.google.com/assets/colab-badge.svg\" alt=\"Open In Colab\"/></a>"
      ]
    },
    {
      "cell_type": "markdown",
      "source": [
        "# Case Study \"Online Barber Shop\"\n",
        "Sie finden unter `./Daten/Barber/` den Ausschnitt eines Datensatzes einer **Direct-to-Consumer (D2C) Brand**, die über einen Onlineshop **Rasierer** und **Rasierzubehör** verkauft. Für das Unternehmen ist es enorm wichtig, dass es die voraussichtlichen **Absätze der nächsten 21 Tage** kennt, da es Waren im Voraus bei seinen Lieferanten bestellen muss. Je genauer die Absatzprognose, desto weniger Stockouts bzw. unnötige Bestände hat das Unternehmen und desto besser die Marge.\n",
        "\n",
        "Bisher ist es dem Unternehmen nicht gelungen, gute Prognosen zu erstellen. Um dies zu ändern, werden Sie nun beauftragt, eine Prognose mithilfe von ML-Algorithmen anzufertigen. Dazu stellt Ihnen das Unternehmen einen ersten Datensatz aus seinem Shopsystem zur Verfügung. In diesem sind **3 Produkte** enthalten (Alaunstein, Bartbalm und ein Rasierer) und Sie sollen für diese jeweils eine Absatzprogonse erstellen. Bitte orientieren Sie sich bei der Bearbeitung der Fallstudie an der in diesem Notebook vorgeschlagenen Struktur und greifen Sie auf die Notebooks zurück, die wir bereits in der Vorlesung gemeinsam bearbeitet haben.\n",
        "\n",
        "Die Struktur Ihres Notebooks sollte dabei wie folgt aussehen und u.a. die folgenden Fragen beantworten:\n",
        "\n",
        "1. **Daten laden & aufbereiten**. Wichtig: Nachdem Sie die Daten geladen haben, müssen Sie diese zunächst auf Tage und je Produkt aggregieren.\n",
        "2. **Datenexploration**, d.h. verschaffen Sie sich einen Überblick zum Datensatz. Sie sollten folgende Fragen beantworten:\n",
        "  - Wie viele Absätze wurden über welchen Zeitraum je Produkt dokumentiert?\n",
        "  - Was ist der Gesamtumsatz je Produkt?\n",
        "  - Wie sind die Produktverkäufe im Zeitverlauf? Visualisieren Sie beispielweise die monatlichen/wöchentlichen Verkaufsmengen. Dies ist wichtig, um Trends oder Saisonalität in Zeitreihen zu erkennen.\n",
        "  - Wie sind die durchschnittlichen Absätze pro Wochentag?\n",
        "3. **Feature Engineering**\n",
        "  - Entwickeln Sie basirend auf Ihrer Datenexploration nützliche Features für ein Vorhersagemodell.\n",
        "  - Stellen Sie sich die Frage, mit welchen Features Sie Saisonalitäten abbilden können. Gibt es Monate in den die Absätze deutlich höher sind? Falls ja, sollten Sie ein Features einführen, das den Monat (Jan, Feb, ..., Dez) abbildet!\n",
        "  - Bilden Sie autoregressive Features, z.B. könnte es Sinn ergeben zur Progonse des Absatzes an einem Tag (z.B. 15.03.) den Absatz des Vormonats zum gleichen Datum (15.02.) heranzuziehen.\n",
        "4. **Prognosemodell trainieren und bewerten**\n",
        "  - Trainieren Sie ein globales Prognosemodell auf allen Daten und bewerten Sie dieses.\n",
        "  - Trainieren Sie drei lokale Prognosemodelle (für Alaunstein, Bartbalm & Rasierer) und überprüfen Sie, ob die Prognosegüte verbessert wird.\n"
      ],
      "metadata": {
        "id": "TlEeS6BHfKV9"
      },
      "id": "TlEeS6BHfKV9"
    },
    {
      "cell_type": "markdown",
      "source": [
        "# 1 Daten laden und aufbereiten\n",
        "Bitte achten Sie hier darauf, dass die Datentypen für die Werte in den Spalten geeignet gewählt sind."
      ],
      "metadata": {
        "id": "fosefoRciSNO"
      },
      "id": "fosefoRciSNO"
    },
    {
      "cell_type": "code",
      "source": [
        "! git clone https://github.com/AlexKressner/Business_Intelligence"
      ],
      "metadata": {
        "id": "DHXgqEGijvJm",
        "colab": {
          "base_uri": "https://localhost:8080/"
        },
        "outputId": "98eb9c4e-54d3-49f7-c0b9-825bf51b4d29"
      },
      "id": "DHXgqEGijvJm",
      "execution_count": 1,
      "outputs": [
        {
          "output_type": "stream",
          "name": "stdout",
          "text": [
            "Cloning into 'Business_Intelligence'...\n",
            "remote: Enumerating objects: 298, done.\u001b[K\n",
            "remote: Counting objects: 100% (218/218), done.\u001b[K\n",
            "remote: Compressing objects: 100% (168/168), done.\u001b[K\n",
            "remote: Total 298 (delta 98), reused 101 (delta 47), pack-reused 80 (from 1)\u001b[K\n",
            "Receiving objects: 100% (298/298), 15.59 MiB | 5.38 MiB/s, done.\n",
            "Resolving deltas: 100% (113/113), done.\n"
          ]
        }
      ]
    },
    {
      "cell_type": "code",
      "source": [
        "import pandas as pd"
      ],
      "metadata": {
        "id": "VAGd8AVMrCWB"
      },
      "id": "VAGd8AVMrCWB",
      "execution_count": 2,
      "outputs": []
    },
    {
      "cell_type": "code",
      "source": [
        "path = \"Business_Intelligence/Daten/Barber/\""
      ],
      "metadata": {
        "id": "ZyiA0qFRVtWA"
      },
      "id": "ZyiA0qFRVtWA",
      "execution_count": 3,
      "outputs": []
    },
    {
      "cell_type": "code",
      "source": [
        "data = pd.read_csv(path+\"barber_shopify_data.csv\", sep=\";\", parse_dates=[\"Datum\"], decimal=\",\")"
      ],
      "metadata": {
        "id": "iKQgJTtTV1IK"
      },
      "id": "iKQgJTtTV1IK",
      "execution_count": 4,
      "outputs": []
    },
    {
      "cell_type": "code",
      "source": [
        "data.dtypes"
      ],
      "metadata": {
        "id": "4WKOk5-XWEg-",
        "colab": {
          "base_uri": "https://localhost:8080/",
          "height": 238
        },
        "outputId": "2fed4a56-f47e-4352-c000-16a3dce6ea15"
      },
      "id": "4WKOk5-XWEg-",
      "execution_count": 5,
      "outputs": [
        {
          "output_type": "execute_result",
          "data": {
            "text/plain": [
              "Datum                 datetime64[ns]\n",
              "Produkt                       object\n",
              "Nettomenge                     int64\n",
              "Stueckpreis_brutto           float64\n",
              "Bruttoumsatz                 float64\n",
              "dtype: object"
            ],
            "text/html": [
              "<div>\n",
              "<style scoped>\n",
              "    .dataframe tbody tr th:only-of-type {\n",
              "        vertical-align: middle;\n",
              "    }\n",
              "\n",
              "    .dataframe tbody tr th {\n",
              "        vertical-align: top;\n",
              "    }\n",
              "\n",
              "    .dataframe thead th {\n",
              "        text-align: right;\n",
              "    }\n",
              "</style>\n",
              "<table border=\"1\" class=\"dataframe\">\n",
              "  <thead>\n",
              "    <tr style=\"text-align: right;\">\n",
              "      <th></th>\n",
              "      <th>0</th>\n",
              "    </tr>\n",
              "  </thead>\n",
              "  <tbody>\n",
              "    <tr>\n",
              "      <th>Datum</th>\n",
              "      <td>datetime64[ns]</td>\n",
              "    </tr>\n",
              "    <tr>\n",
              "      <th>Produkt</th>\n",
              "      <td>object</td>\n",
              "    </tr>\n",
              "    <tr>\n",
              "      <th>Nettomenge</th>\n",
              "      <td>int64</td>\n",
              "    </tr>\n",
              "    <tr>\n",
              "      <th>Stueckpreis_brutto</th>\n",
              "      <td>float64</td>\n",
              "    </tr>\n",
              "    <tr>\n",
              "      <th>Bruttoumsatz</th>\n",
              "      <td>float64</td>\n",
              "    </tr>\n",
              "  </tbody>\n",
              "</table>\n",
              "</div><br><label><b>dtype:</b> object</label>"
            ]
          },
          "metadata": {},
          "execution_count": 5
        }
      ]
    },
    {
      "cell_type": "code",
      "source": [
        "data.head(10)"
      ],
      "metadata": {
        "id": "EJKg4AvfWqiJ",
        "colab": {
          "base_uri": "https://localhost:8080/",
          "height": 359
        },
        "outputId": "39f41b04-dbfe-4597-e9f9-380e60cafb3d"
      },
      "id": "EJKg4AvfWqiJ",
      "execution_count": 6,
      "outputs": [
        {
          "output_type": "execute_result",
          "data": {
            "text/plain": [
              "       Datum     Produkt  Nettomenge  Stueckpreis_brutto  Bruttoumsatz\n",
              "0 2020-05-01  Alaunstein           5                8.99     44.949997\n",
              "1 2020-05-02  Alaunstein           1                8.99      8.990000\n",
              "2 2020-05-03  Alaunstein           0                8.99      0.000000\n",
              "3 2020-05-04  Alaunstein           1                9.99      9.990000\n",
              "4 2020-05-05  Alaunstein           1                9.98      9.980000\n",
              "5 2020-05-06  Alaunstein           0                9.98      0.000000\n",
              "6 2020-05-07  Alaunstein           1                9.99      9.990000\n",
              "7 2020-05-08  Alaunstein           1                9.99      9.990000\n",
              "8 2020-05-09  Alaunstein           1                9.99      9.990000\n",
              "9 2020-05-10  Alaunstein           0                9.99      0.000000"
            ],
            "text/html": [
              "\n",
              "  <div id=\"df-37322749-0cae-4b98-b82d-b3f447d5b957\" class=\"colab-df-container\">\n",
              "    <div>\n",
              "<style scoped>\n",
              "    .dataframe tbody tr th:only-of-type {\n",
              "        vertical-align: middle;\n",
              "    }\n",
              "\n",
              "    .dataframe tbody tr th {\n",
              "        vertical-align: top;\n",
              "    }\n",
              "\n",
              "    .dataframe thead th {\n",
              "        text-align: right;\n",
              "    }\n",
              "</style>\n",
              "<table border=\"1\" class=\"dataframe\">\n",
              "  <thead>\n",
              "    <tr style=\"text-align: right;\">\n",
              "      <th></th>\n",
              "      <th>Datum</th>\n",
              "      <th>Produkt</th>\n",
              "      <th>Nettomenge</th>\n",
              "      <th>Stueckpreis_brutto</th>\n",
              "      <th>Bruttoumsatz</th>\n",
              "    </tr>\n",
              "  </thead>\n",
              "  <tbody>\n",
              "    <tr>\n",
              "      <th>0</th>\n",
              "      <td>2020-05-01</td>\n",
              "      <td>Alaunstein</td>\n",
              "      <td>5</td>\n",
              "      <td>8.99</td>\n",
              "      <td>44.949997</td>\n",
              "    </tr>\n",
              "    <tr>\n",
              "      <th>1</th>\n",
              "      <td>2020-05-02</td>\n",
              "      <td>Alaunstein</td>\n",
              "      <td>1</td>\n",
              "      <td>8.99</td>\n",
              "      <td>8.990000</td>\n",
              "    </tr>\n",
              "    <tr>\n",
              "      <th>2</th>\n",
              "      <td>2020-05-03</td>\n",
              "      <td>Alaunstein</td>\n",
              "      <td>0</td>\n",
              "      <td>8.99</td>\n",
              "      <td>0.000000</td>\n",
              "    </tr>\n",
              "    <tr>\n",
              "      <th>3</th>\n",
              "      <td>2020-05-04</td>\n",
              "      <td>Alaunstein</td>\n",
              "      <td>1</td>\n",
              "      <td>9.99</td>\n",
              "      <td>9.990000</td>\n",
              "    </tr>\n",
              "    <tr>\n",
              "      <th>4</th>\n",
              "      <td>2020-05-05</td>\n",
              "      <td>Alaunstein</td>\n",
              "      <td>1</td>\n",
              "      <td>9.98</td>\n",
              "      <td>9.980000</td>\n",
              "    </tr>\n",
              "    <tr>\n",
              "      <th>5</th>\n",
              "      <td>2020-05-06</td>\n",
              "      <td>Alaunstein</td>\n",
              "      <td>0</td>\n",
              "      <td>9.98</td>\n",
              "      <td>0.000000</td>\n",
              "    </tr>\n",
              "    <tr>\n",
              "      <th>6</th>\n",
              "      <td>2020-05-07</td>\n",
              "      <td>Alaunstein</td>\n",
              "      <td>1</td>\n",
              "      <td>9.99</td>\n",
              "      <td>9.990000</td>\n",
              "    </tr>\n",
              "    <tr>\n",
              "      <th>7</th>\n",
              "      <td>2020-05-08</td>\n",
              "      <td>Alaunstein</td>\n",
              "      <td>1</td>\n",
              "      <td>9.99</td>\n",
              "      <td>9.990000</td>\n",
              "    </tr>\n",
              "    <tr>\n",
              "      <th>8</th>\n",
              "      <td>2020-05-09</td>\n",
              "      <td>Alaunstein</td>\n",
              "      <td>1</td>\n",
              "      <td>9.99</td>\n",
              "      <td>9.990000</td>\n",
              "    </tr>\n",
              "    <tr>\n",
              "      <th>9</th>\n",
              "      <td>2020-05-10</td>\n",
              "      <td>Alaunstein</td>\n",
              "      <td>0</td>\n",
              "      <td>9.99</td>\n",
              "      <td>0.000000</td>\n",
              "    </tr>\n",
              "  </tbody>\n",
              "</table>\n",
              "</div>\n",
              "    <div class=\"colab-df-buttons\">\n",
              "\n",
              "  <div class=\"colab-df-container\">\n",
              "    <button class=\"colab-df-convert\" onclick=\"convertToInteractive('df-37322749-0cae-4b98-b82d-b3f447d5b957')\"\n",
              "            title=\"Convert this dataframe to an interactive table.\"\n",
              "            style=\"display:none;\">\n",
              "\n",
              "  <svg xmlns=\"http://www.w3.org/2000/svg\" height=\"24px\" viewBox=\"0 -960 960 960\">\n",
              "    <path d=\"M120-120v-720h720v720H120Zm60-500h600v-160H180v160Zm220 220h160v-160H400v160Zm0 220h160v-160H400v160ZM180-400h160v-160H180v160Zm440 0h160v-160H620v160ZM180-180h160v-160H180v160Zm440 0h160v-160H620v160Z\"/>\n",
              "  </svg>\n",
              "    </button>\n",
              "\n",
              "  <style>\n",
              "    .colab-df-container {\n",
              "      display:flex;\n",
              "      gap: 12px;\n",
              "    }\n",
              "\n",
              "    .colab-df-convert {\n",
              "      background-color: #E8F0FE;\n",
              "      border: none;\n",
              "      border-radius: 50%;\n",
              "      cursor: pointer;\n",
              "      display: none;\n",
              "      fill: #1967D2;\n",
              "      height: 32px;\n",
              "      padding: 0 0 0 0;\n",
              "      width: 32px;\n",
              "    }\n",
              "\n",
              "    .colab-df-convert:hover {\n",
              "      background-color: #E2EBFA;\n",
              "      box-shadow: 0px 1px 2px rgba(60, 64, 67, 0.3), 0px 1px 3px 1px rgba(60, 64, 67, 0.15);\n",
              "      fill: #174EA6;\n",
              "    }\n",
              "\n",
              "    .colab-df-buttons div {\n",
              "      margin-bottom: 4px;\n",
              "    }\n",
              "\n",
              "    [theme=dark] .colab-df-convert {\n",
              "      background-color: #3B4455;\n",
              "      fill: #D2E3FC;\n",
              "    }\n",
              "\n",
              "    [theme=dark] .colab-df-convert:hover {\n",
              "      background-color: #434B5C;\n",
              "      box-shadow: 0px 1px 3px 1px rgba(0, 0, 0, 0.15);\n",
              "      filter: drop-shadow(0px 1px 2px rgba(0, 0, 0, 0.3));\n",
              "      fill: #FFFFFF;\n",
              "    }\n",
              "  </style>\n",
              "\n",
              "    <script>\n",
              "      const buttonEl =\n",
              "        document.querySelector('#df-37322749-0cae-4b98-b82d-b3f447d5b957 button.colab-df-convert');\n",
              "      buttonEl.style.display =\n",
              "        google.colab.kernel.accessAllowed ? 'block' : 'none';\n",
              "\n",
              "      async function convertToInteractive(key) {\n",
              "        const element = document.querySelector('#df-37322749-0cae-4b98-b82d-b3f447d5b957');\n",
              "        const dataTable =\n",
              "          await google.colab.kernel.invokeFunction('convertToInteractive',\n",
              "                                                    [key], {});\n",
              "        if (!dataTable) return;\n",
              "\n",
              "        const docLinkHtml = 'Like what you see? Visit the ' +\n",
              "          '<a target=\"_blank\" href=https://colab.research.google.com/notebooks/data_table.ipynb>data table notebook</a>'\n",
              "          + ' to learn more about interactive tables.';\n",
              "        element.innerHTML = '';\n",
              "        dataTable['output_type'] = 'display_data';\n",
              "        await google.colab.output.renderOutput(dataTable, element);\n",
              "        const docLink = document.createElement('div');\n",
              "        docLink.innerHTML = docLinkHtml;\n",
              "        element.appendChild(docLink);\n",
              "      }\n",
              "    </script>\n",
              "  </div>\n",
              "\n",
              "\n",
              "<div id=\"df-c80a288c-c734-4856-85a4-9c0fd8bb7040\">\n",
              "  <button class=\"colab-df-quickchart\" onclick=\"quickchart('df-c80a288c-c734-4856-85a4-9c0fd8bb7040')\"\n",
              "            title=\"Suggest charts\"\n",
              "            style=\"display:none;\">\n",
              "\n",
              "<svg xmlns=\"http://www.w3.org/2000/svg\" height=\"24px\"viewBox=\"0 0 24 24\"\n",
              "     width=\"24px\">\n",
              "    <g>\n",
              "        <path d=\"M19 3H5c-1.1 0-2 .9-2 2v14c0 1.1.9 2 2 2h14c1.1 0 2-.9 2-2V5c0-1.1-.9-2-2-2zM9 17H7v-7h2v7zm4 0h-2V7h2v10zm4 0h-2v-4h2v4z\"/>\n",
              "    </g>\n",
              "</svg>\n",
              "  </button>\n",
              "\n",
              "<style>\n",
              "  .colab-df-quickchart {\n",
              "      --bg-color: #E8F0FE;\n",
              "      --fill-color: #1967D2;\n",
              "      --hover-bg-color: #E2EBFA;\n",
              "      --hover-fill-color: #174EA6;\n",
              "      --disabled-fill-color: #AAA;\n",
              "      --disabled-bg-color: #DDD;\n",
              "  }\n",
              "\n",
              "  [theme=dark] .colab-df-quickchart {\n",
              "      --bg-color: #3B4455;\n",
              "      --fill-color: #D2E3FC;\n",
              "      --hover-bg-color: #434B5C;\n",
              "      --hover-fill-color: #FFFFFF;\n",
              "      --disabled-bg-color: #3B4455;\n",
              "      --disabled-fill-color: #666;\n",
              "  }\n",
              "\n",
              "  .colab-df-quickchart {\n",
              "    background-color: var(--bg-color);\n",
              "    border: none;\n",
              "    border-radius: 50%;\n",
              "    cursor: pointer;\n",
              "    display: none;\n",
              "    fill: var(--fill-color);\n",
              "    height: 32px;\n",
              "    padding: 0;\n",
              "    width: 32px;\n",
              "  }\n",
              "\n",
              "  .colab-df-quickchart:hover {\n",
              "    background-color: var(--hover-bg-color);\n",
              "    box-shadow: 0 1px 2px rgba(60, 64, 67, 0.3), 0 1px 3px 1px rgba(60, 64, 67, 0.15);\n",
              "    fill: var(--button-hover-fill-color);\n",
              "  }\n",
              "\n",
              "  .colab-df-quickchart-complete:disabled,\n",
              "  .colab-df-quickchart-complete:disabled:hover {\n",
              "    background-color: var(--disabled-bg-color);\n",
              "    fill: var(--disabled-fill-color);\n",
              "    box-shadow: none;\n",
              "  }\n",
              "\n",
              "  .colab-df-spinner {\n",
              "    border: 2px solid var(--fill-color);\n",
              "    border-color: transparent;\n",
              "    border-bottom-color: var(--fill-color);\n",
              "    animation:\n",
              "      spin 1s steps(1) infinite;\n",
              "  }\n",
              "\n",
              "  @keyframes spin {\n",
              "    0% {\n",
              "      border-color: transparent;\n",
              "      border-bottom-color: var(--fill-color);\n",
              "      border-left-color: var(--fill-color);\n",
              "    }\n",
              "    20% {\n",
              "      border-color: transparent;\n",
              "      border-left-color: var(--fill-color);\n",
              "      border-top-color: var(--fill-color);\n",
              "    }\n",
              "    30% {\n",
              "      border-color: transparent;\n",
              "      border-left-color: var(--fill-color);\n",
              "      border-top-color: var(--fill-color);\n",
              "      border-right-color: var(--fill-color);\n",
              "    }\n",
              "    40% {\n",
              "      border-color: transparent;\n",
              "      border-right-color: var(--fill-color);\n",
              "      border-top-color: var(--fill-color);\n",
              "    }\n",
              "    60% {\n",
              "      border-color: transparent;\n",
              "      border-right-color: var(--fill-color);\n",
              "    }\n",
              "    80% {\n",
              "      border-color: transparent;\n",
              "      border-right-color: var(--fill-color);\n",
              "      border-bottom-color: var(--fill-color);\n",
              "    }\n",
              "    90% {\n",
              "      border-color: transparent;\n",
              "      border-bottom-color: var(--fill-color);\n",
              "    }\n",
              "  }\n",
              "</style>\n",
              "\n",
              "  <script>\n",
              "    async function quickchart(key) {\n",
              "      const quickchartButtonEl =\n",
              "        document.querySelector('#' + key + ' button');\n",
              "      quickchartButtonEl.disabled = true;  // To prevent multiple clicks.\n",
              "      quickchartButtonEl.classList.add('colab-df-spinner');\n",
              "      try {\n",
              "        const charts = await google.colab.kernel.invokeFunction(\n",
              "            'suggestCharts', [key], {});\n",
              "      } catch (error) {\n",
              "        console.error('Error during call to suggestCharts:', error);\n",
              "      }\n",
              "      quickchartButtonEl.classList.remove('colab-df-spinner');\n",
              "      quickchartButtonEl.classList.add('colab-df-quickchart-complete');\n",
              "    }\n",
              "    (() => {\n",
              "      let quickchartButtonEl =\n",
              "        document.querySelector('#df-c80a288c-c734-4856-85a4-9c0fd8bb7040 button');\n",
              "      quickchartButtonEl.style.display =\n",
              "        google.colab.kernel.accessAllowed ? 'block' : 'none';\n",
              "    })();\n",
              "  </script>\n",
              "</div>\n",
              "\n",
              "    </div>\n",
              "  </div>\n"
            ],
            "application/vnd.google.colaboratory.intrinsic+json": {
              "type": "dataframe",
              "variable_name": "data",
              "summary": "{\n  \"name\": \"data\",\n  \"rows\": 2518,\n  \"fields\": [\n    {\n      \"column\": \"Datum\",\n      \"properties\": {\n        \"dtype\": \"date\",\n        \"min\": \"2020-05-01 00:00:00\",\n        \"max\": \"2022-10-20 00:00:00\",\n        \"num_unique_values\": 903,\n        \"samples\": [\n          \"2020-07-10 00:00:00\",\n          \"2021-08-01 00:00:00\",\n          \"2020-12-05 00:00:00\"\n        ],\n        \"semantic_type\": \"\",\n        \"description\": \"\"\n      }\n    },\n    {\n      \"column\": \"Produkt\",\n      \"properties\": {\n        \"dtype\": \"category\",\n        \"num_unique_values\": 3,\n        \"samples\": [\n          \"Alaunstein\",\n          \"Rasierer\",\n          \"Bartbalm Crusoe\"\n        ],\n        \"semantic_type\": \"\",\n        \"description\": \"\"\n      }\n    },\n    {\n      \"column\": \"Nettomenge\",\n      \"properties\": {\n        \"dtype\": \"number\",\n        \"std\": 7,\n        \"min\": 0,\n        \"max\": 170,\n        \"num_unique_values\": 47,\n        \"samples\": [\n          17,\n          29,\n          28\n        ],\n        \"semantic_type\": \"\",\n        \"description\": \"\"\n      }\n    },\n    {\n      \"column\": \"Stueckpreis_brutto\",\n      \"properties\": {\n        \"dtype\": \"number\",\n        \"std\": 9.465958012727723,\n        \"min\": 5.9919996,\n        \"max\": 34.99,\n        \"num_unique_values\": 123,\n        \"samples\": [\n          9.983334,\n          9.989231,\n          9.989091\n        ],\n        \"semantic_type\": \"\",\n        \"description\": \"\"\n      }\n    },\n    {\n      \"column\": \"Bruttoumsatz\",\n      \"properties\": {\n        \"dtype\": \"number\",\n        \"std\": 209.8302004889983,\n        \"min\": 0.0,\n        \"max\": 4460.7896,\n        \"num_unique_values\": 268,\n        \"samples\": [\n          99.88888,\n          881.66,\n          67.409996\n        ],\n        \"semantic_type\": \"\",\n        \"description\": \"\"\n      }\n    }\n  ]\n}"
            }
          },
          "metadata": {},
          "execution_count": 6
        }
      ]
    },
    {
      "cell_type": "markdown",
      "source": [
        "#2 Datenaufbereitung\n",
        "Sie müssen die täglichen Absätze eines Produktes für die nächsten 21 Tage prognostizieren. Die Daten müssen Sie zu diesem Zweck erst aufbereiten. Denken Sie nochmals an das Kapitel, in dem wir Daten gruppiert haben. Die Gruppierung mussen bei dem vorliegenden Problem auf das Datum **und** Produkt erfolgen (tägliche Produktabsätze)."
      ],
      "metadata": {
        "id": "KkHlMAifQF9l"
      },
      "id": "KkHlMAifQF9l"
    },
    {
      "cell_type": "code",
      "source": [
        "# mit reset_index() sind Datum und Produkt wieder Spalten des DataFrames,\n",
        "# der nach der Gruppierung resultiert\n",
        "absatz_tag = data.groupby([\"Datum\",\"Produkt\"])[[\"Nettomenge\",\"Bruttoumsatz\"]].sum().reset_index()\n",
        "# absatz_tag = data.groupby([\"Datum\",\"Produkt\"])[[\"Nettomenge\",\"Bruttoumsatz\"]].sum().reset_index()"
      ],
      "metadata": {
        "id": "NUl-w6CbEooD"
      },
      "id": "NUl-w6CbEooD",
      "execution_count": 7,
      "outputs": []
    },
    {
      "cell_type": "code",
      "source": [
        "absatz_tag.head()"
      ],
      "metadata": {
        "id": "l7Y2IBKFeKyN",
        "colab": {
          "base_uri": "https://localhost:8080/",
          "height": 204
        },
        "outputId": "b9b02fc3-1c7c-4642-bcdd-c3ab48177767"
      },
      "id": "l7Y2IBKFeKyN",
      "execution_count": 8,
      "outputs": [
        {
          "output_type": "execute_result",
          "data": {
            "text/plain": [
              "       Datum     Produkt  Nettomenge  Bruttoumsatz\n",
              "0 2020-05-01  Alaunstein           5     44.949997\n",
              "1 2020-05-02  Alaunstein           1      8.990000\n",
              "2 2020-05-03  Alaunstein           0      0.000000\n",
              "3 2020-05-04  Alaunstein           1      9.990000\n",
              "4 2020-05-05  Alaunstein           1      9.980000"
            ],
            "text/html": [
              "\n",
              "  <div id=\"df-c2120b93-439f-4196-8db8-1974c21e77de\" class=\"colab-df-container\">\n",
              "    <div>\n",
              "<style scoped>\n",
              "    .dataframe tbody tr th:only-of-type {\n",
              "        vertical-align: middle;\n",
              "    }\n",
              "\n",
              "    .dataframe tbody tr th {\n",
              "        vertical-align: top;\n",
              "    }\n",
              "\n",
              "    .dataframe thead th {\n",
              "        text-align: right;\n",
              "    }\n",
              "</style>\n",
              "<table border=\"1\" class=\"dataframe\">\n",
              "  <thead>\n",
              "    <tr style=\"text-align: right;\">\n",
              "      <th></th>\n",
              "      <th>Datum</th>\n",
              "      <th>Produkt</th>\n",
              "      <th>Nettomenge</th>\n",
              "      <th>Bruttoumsatz</th>\n",
              "    </tr>\n",
              "  </thead>\n",
              "  <tbody>\n",
              "    <tr>\n",
              "      <th>0</th>\n",
              "      <td>2020-05-01</td>\n",
              "      <td>Alaunstein</td>\n",
              "      <td>5</td>\n",
              "      <td>44.949997</td>\n",
              "    </tr>\n",
              "    <tr>\n",
              "      <th>1</th>\n",
              "      <td>2020-05-02</td>\n",
              "      <td>Alaunstein</td>\n",
              "      <td>1</td>\n",
              "      <td>8.990000</td>\n",
              "    </tr>\n",
              "    <tr>\n",
              "      <th>2</th>\n",
              "      <td>2020-05-03</td>\n",
              "      <td>Alaunstein</td>\n",
              "      <td>0</td>\n",
              "      <td>0.000000</td>\n",
              "    </tr>\n",
              "    <tr>\n",
              "      <th>3</th>\n",
              "      <td>2020-05-04</td>\n",
              "      <td>Alaunstein</td>\n",
              "      <td>1</td>\n",
              "      <td>9.990000</td>\n",
              "    </tr>\n",
              "    <tr>\n",
              "      <th>4</th>\n",
              "      <td>2020-05-05</td>\n",
              "      <td>Alaunstein</td>\n",
              "      <td>1</td>\n",
              "      <td>9.980000</td>\n",
              "    </tr>\n",
              "  </tbody>\n",
              "</table>\n",
              "</div>\n",
              "    <div class=\"colab-df-buttons\">\n",
              "\n",
              "  <div class=\"colab-df-container\">\n",
              "    <button class=\"colab-df-convert\" onclick=\"convertToInteractive('df-c2120b93-439f-4196-8db8-1974c21e77de')\"\n",
              "            title=\"Convert this dataframe to an interactive table.\"\n",
              "            style=\"display:none;\">\n",
              "\n",
              "  <svg xmlns=\"http://www.w3.org/2000/svg\" height=\"24px\" viewBox=\"0 -960 960 960\">\n",
              "    <path d=\"M120-120v-720h720v720H120Zm60-500h600v-160H180v160Zm220 220h160v-160H400v160Zm0 220h160v-160H400v160ZM180-400h160v-160H180v160Zm440 0h160v-160H620v160ZM180-180h160v-160H180v160Zm440 0h160v-160H620v160Z\"/>\n",
              "  </svg>\n",
              "    </button>\n",
              "\n",
              "  <style>\n",
              "    .colab-df-container {\n",
              "      display:flex;\n",
              "      gap: 12px;\n",
              "    }\n",
              "\n",
              "    .colab-df-convert {\n",
              "      background-color: #E8F0FE;\n",
              "      border: none;\n",
              "      border-radius: 50%;\n",
              "      cursor: pointer;\n",
              "      display: none;\n",
              "      fill: #1967D2;\n",
              "      height: 32px;\n",
              "      padding: 0 0 0 0;\n",
              "      width: 32px;\n",
              "    }\n",
              "\n",
              "    .colab-df-convert:hover {\n",
              "      background-color: #E2EBFA;\n",
              "      box-shadow: 0px 1px 2px rgba(60, 64, 67, 0.3), 0px 1px 3px 1px rgba(60, 64, 67, 0.15);\n",
              "      fill: #174EA6;\n",
              "    }\n",
              "\n",
              "    .colab-df-buttons div {\n",
              "      margin-bottom: 4px;\n",
              "    }\n",
              "\n",
              "    [theme=dark] .colab-df-convert {\n",
              "      background-color: #3B4455;\n",
              "      fill: #D2E3FC;\n",
              "    }\n",
              "\n",
              "    [theme=dark] .colab-df-convert:hover {\n",
              "      background-color: #434B5C;\n",
              "      box-shadow: 0px 1px 3px 1px rgba(0, 0, 0, 0.15);\n",
              "      filter: drop-shadow(0px 1px 2px rgba(0, 0, 0, 0.3));\n",
              "      fill: #FFFFFF;\n",
              "    }\n",
              "  </style>\n",
              "\n",
              "    <script>\n",
              "      const buttonEl =\n",
              "        document.querySelector('#df-c2120b93-439f-4196-8db8-1974c21e77de button.colab-df-convert');\n",
              "      buttonEl.style.display =\n",
              "        google.colab.kernel.accessAllowed ? 'block' : 'none';\n",
              "\n",
              "      async function convertToInteractive(key) {\n",
              "        const element = document.querySelector('#df-c2120b93-439f-4196-8db8-1974c21e77de');\n",
              "        const dataTable =\n",
              "          await google.colab.kernel.invokeFunction('convertToInteractive',\n",
              "                                                    [key], {});\n",
              "        if (!dataTable) return;\n",
              "\n",
              "        const docLinkHtml = 'Like what you see? Visit the ' +\n",
              "          '<a target=\"_blank\" href=https://colab.research.google.com/notebooks/data_table.ipynb>data table notebook</a>'\n",
              "          + ' to learn more about interactive tables.';\n",
              "        element.innerHTML = '';\n",
              "        dataTable['output_type'] = 'display_data';\n",
              "        await google.colab.output.renderOutput(dataTable, element);\n",
              "        const docLink = document.createElement('div');\n",
              "        docLink.innerHTML = docLinkHtml;\n",
              "        element.appendChild(docLink);\n",
              "      }\n",
              "    </script>\n",
              "  </div>\n",
              "\n",
              "\n",
              "<div id=\"df-e1c3f42e-9f1f-48d2-8be7-3370109b6052\">\n",
              "  <button class=\"colab-df-quickchart\" onclick=\"quickchart('df-e1c3f42e-9f1f-48d2-8be7-3370109b6052')\"\n",
              "            title=\"Suggest charts\"\n",
              "            style=\"display:none;\">\n",
              "\n",
              "<svg xmlns=\"http://www.w3.org/2000/svg\" height=\"24px\"viewBox=\"0 0 24 24\"\n",
              "     width=\"24px\">\n",
              "    <g>\n",
              "        <path d=\"M19 3H5c-1.1 0-2 .9-2 2v14c0 1.1.9 2 2 2h14c1.1 0 2-.9 2-2V5c0-1.1-.9-2-2-2zM9 17H7v-7h2v7zm4 0h-2V7h2v10zm4 0h-2v-4h2v4z\"/>\n",
              "    </g>\n",
              "</svg>\n",
              "  </button>\n",
              "\n",
              "<style>\n",
              "  .colab-df-quickchart {\n",
              "      --bg-color: #E8F0FE;\n",
              "      --fill-color: #1967D2;\n",
              "      --hover-bg-color: #E2EBFA;\n",
              "      --hover-fill-color: #174EA6;\n",
              "      --disabled-fill-color: #AAA;\n",
              "      --disabled-bg-color: #DDD;\n",
              "  }\n",
              "\n",
              "  [theme=dark] .colab-df-quickchart {\n",
              "      --bg-color: #3B4455;\n",
              "      --fill-color: #D2E3FC;\n",
              "      --hover-bg-color: #434B5C;\n",
              "      --hover-fill-color: #FFFFFF;\n",
              "      --disabled-bg-color: #3B4455;\n",
              "      --disabled-fill-color: #666;\n",
              "  }\n",
              "\n",
              "  .colab-df-quickchart {\n",
              "    background-color: var(--bg-color);\n",
              "    border: none;\n",
              "    border-radius: 50%;\n",
              "    cursor: pointer;\n",
              "    display: none;\n",
              "    fill: var(--fill-color);\n",
              "    height: 32px;\n",
              "    padding: 0;\n",
              "    width: 32px;\n",
              "  }\n",
              "\n",
              "  .colab-df-quickchart:hover {\n",
              "    background-color: var(--hover-bg-color);\n",
              "    box-shadow: 0 1px 2px rgba(60, 64, 67, 0.3), 0 1px 3px 1px rgba(60, 64, 67, 0.15);\n",
              "    fill: var(--button-hover-fill-color);\n",
              "  }\n",
              "\n",
              "  .colab-df-quickchart-complete:disabled,\n",
              "  .colab-df-quickchart-complete:disabled:hover {\n",
              "    background-color: var(--disabled-bg-color);\n",
              "    fill: var(--disabled-fill-color);\n",
              "    box-shadow: none;\n",
              "  }\n",
              "\n",
              "  .colab-df-spinner {\n",
              "    border: 2px solid var(--fill-color);\n",
              "    border-color: transparent;\n",
              "    border-bottom-color: var(--fill-color);\n",
              "    animation:\n",
              "      spin 1s steps(1) infinite;\n",
              "  }\n",
              "\n",
              "  @keyframes spin {\n",
              "    0% {\n",
              "      border-color: transparent;\n",
              "      border-bottom-color: var(--fill-color);\n",
              "      border-left-color: var(--fill-color);\n",
              "    }\n",
              "    20% {\n",
              "      border-color: transparent;\n",
              "      border-left-color: var(--fill-color);\n",
              "      border-top-color: var(--fill-color);\n",
              "    }\n",
              "    30% {\n",
              "      border-color: transparent;\n",
              "      border-left-color: var(--fill-color);\n",
              "      border-top-color: var(--fill-color);\n",
              "      border-right-color: var(--fill-color);\n",
              "    }\n",
              "    40% {\n",
              "      border-color: transparent;\n",
              "      border-right-color: var(--fill-color);\n",
              "      border-top-color: var(--fill-color);\n",
              "    }\n",
              "    60% {\n",
              "      border-color: transparent;\n",
              "      border-right-color: var(--fill-color);\n",
              "    }\n",
              "    80% {\n",
              "      border-color: transparent;\n",
              "      border-right-color: var(--fill-color);\n",
              "      border-bottom-color: var(--fill-color);\n",
              "    }\n",
              "    90% {\n",
              "      border-color: transparent;\n",
              "      border-bottom-color: var(--fill-color);\n",
              "    }\n",
              "  }\n",
              "</style>\n",
              "\n",
              "  <script>\n",
              "    async function quickchart(key) {\n",
              "      const quickchartButtonEl =\n",
              "        document.querySelector('#' + key + ' button');\n",
              "      quickchartButtonEl.disabled = true;  // To prevent multiple clicks.\n",
              "      quickchartButtonEl.classList.add('colab-df-spinner');\n",
              "      try {\n",
              "        const charts = await google.colab.kernel.invokeFunction(\n",
              "            'suggestCharts', [key], {});\n",
              "      } catch (error) {\n",
              "        console.error('Error during call to suggestCharts:', error);\n",
              "      }\n",
              "      quickchartButtonEl.classList.remove('colab-df-spinner');\n",
              "      quickchartButtonEl.classList.add('colab-df-quickchart-complete');\n",
              "    }\n",
              "    (() => {\n",
              "      let quickchartButtonEl =\n",
              "        document.querySelector('#df-e1c3f42e-9f1f-48d2-8be7-3370109b6052 button');\n",
              "      quickchartButtonEl.style.display =\n",
              "        google.colab.kernel.accessAllowed ? 'block' : 'none';\n",
              "    })();\n",
              "  </script>\n",
              "</div>\n",
              "\n",
              "    </div>\n",
              "  </div>\n"
            ],
            "application/vnd.google.colaboratory.intrinsic+json": {
              "type": "dataframe",
              "variable_name": "absatz_tag",
              "summary": "{\n  \"name\": \"absatz_tag\",\n  \"rows\": 2518,\n  \"fields\": [\n    {\n      \"column\": \"Datum\",\n      \"properties\": {\n        \"dtype\": \"date\",\n        \"min\": \"2020-05-01 00:00:00\",\n        \"max\": \"2022-10-20 00:00:00\",\n        \"num_unique_values\": 903,\n        \"samples\": [\n          \"2020-07-10 00:00:00\",\n          \"2021-08-01 00:00:00\",\n          \"2020-12-05 00:00:00\"\n        ],\n        \"semantic_type\": \"\",\n        \"description\": \"\"\n      }\n    },\n    {\n      \"column\": \"Produkt\",\n      \"properties\": {\n        \"dtype\": \"category\",\n        \"num_unique_values\": 3,\n        \"samples\": [\n          \"Alaunstein\",\n          \"Rasierer\",\n          \"Bartbalm Crusoe\"\n        ],\n        \"semantic_type\": \"\",\n        \"description\": \"\"\n      }\n    },\n    {\n      \"column\": \"Nettomenge\",\n      \"properties\": {\n        \"dtype\": \"number\",\n        \"std\": 7,\n        \"min\": 0,\n        \"max\": 170,\n        \"num_unique_values\": 47,\n        \"samples\": [\n          25,\n          29,\n          24\n        ],\n        \"semantic_type\": \"\",\n        \"description\": \"\"\n      }\n    },\n    {\n      \"column\": \"Bruttoumsatz\",\n      \"properties\": {\n        \"dtype\": \"number\",\n        \"std\": 209.8302004889978,\n        \"min\": 0.0,\n        \"max\": 4460.7896,\n        \"num_unique_values\": 268,\n        \"samples\": [\n          929.69,\n          119.86665,\n          209.9\n        ],\n        \"semantic_type\": \"\",\n        \"description\": \"\"\n      }\n    }\n  ]\n}"
            }
          },
          "metadata": {},
          "execution_count": 8
        }
      ]
    },
    {
      "cell_type": "markdown",
      "source": [
        "# 3 Datenexploration und -visualisierung\n",
        "Verschaffen Sie sich erst einmal einen Überblick zu den Absatzzahlen (für alle drei Produkte summiert oder je Produkt). Visualisieren Sie beispielsweise den Umsatz über den Zeitverlauf. Erkennen Sie Muster, die typisch für den e-Commerce sind? Wie sieht es mit den Produktpreisen aus? Wurden diese überhaupt variiert und haben diese einen Einfluss auf die Absätze? Achten Sie darauf, dass die Spalte \"Bruttoumsatz\" nicht gleich dem Produktpreis pro Stück ist!"
      ],
      "metadata": {
        "id": "F6l0bN2Di_at"
      },
      "id": "F6l0bN2Di_at"
    },
    {
      "cell_type": "markdown",
      "source": [
        "#### Anzahl Beobachtungen"
      ],
      "metadata": {
        "id": "VOnae2K8HMJ0"
      },
      "id": "VOnae2K8HMJ0"
    },
    {
      "cell_type": "code",
      "source": [
        "absatz_tag.groupby([\"Produkt\"])[\"Nettomenge\"].count()"
      ],
      "metadata": {
        "id": "4WAT5GCBHLu0",
        "colab": {
          "base_uri": "https://localhost:8080/",
          "height": 207
        },
        "outputId": "ecf745b8-7a57-4f1e-890f-d93309c68ce8"
      },
      "id": "4WAT5GCBHLu0",
      "execution_count": 9,
      "outputs": [
        {
          "output_type": "execute_result",
          "data": {
            "text/plain": [
              "Produkt\n",
              "Alaunstein         903\n",
              "Bartbalm Crusoe    720\n",
              "Rasierer           895\n",
              "Name: Nettomenge, dtype: int64"
            ],
            "text/html": [
              "<div>\n",
              "<style scoped>\n",
              "    .dataframe tbody tr th:only-of-type {\n",
              "        vertical-align: middle;\n",
              "    }\n",
              "\n",
              "    .dataframe tbody tr th {\n",
              "        vertical-align: top;\n",
              "    }\n",
              "\n",
              "    .dataframe thead th {\n",
              "        text-align: right;\n",
              "    }\n",
              "</style>\n",
              "<table border=\"1\" class=\"dataframe\">\n",
              "  <thead>\n",
              "    <tr style=\"text-align: right;\">\n",
              "      <th></th>\n",
              "      <th>Nettomenge</th>\n",
              "    </tr>\n",
              "    <tr>\n",
              "      <th>Produkt</th>\n",
              "      <th></th>\n",
              "    </tr>\n",
              "  </thead>\n",
              "  <tbody>\n",
              "    <tr>\n",
              "      <th>Alaunstein</th>\n",
              "      <td>903</td>\n",
              "    </tr>\n",
              "    <tr>\n",
              "      <th>Bartbalm Crusoe</th>\n",
              "      <td>720</td>\n",
              "    </tr>\n",
              "    <tr>\n",
              "      <th>Rasierer</th>\n",
              "      <td>895</td>\n",
              "    </tr>\n",
              "  </tbody>\n",
              "</table>\n",
              "</div><br><label><b>dtype:</b> int64</label>"
            ]
          },
          "metadata": {},
          "execution_count": 9
        }
      ]
    },
    {
      "cell_type": "markdown",
      "source": [
        "### Umsätze nach Produkt\n"
      ],
      "metadata": {
        "id": "dUSzRI5n5Tn9"
      },
      "id": "dUSzRI5n5Tn9"
    },
    {
      "cell_type": "code",
      "source": [
        "absatz_tag.groupby([\"Produkt\"])[\"Bruttoumsatz\"].sum()"
      ],
      "metadata": {
        "id": "O8e3d8s1lFsI",
        "colab": {
          "base_uri": "https://localhost:8080/",
          "height": 207
        },
        "outputId": "fc756ba8-26fb-40b4-d821-714538eff736"
      },
      "id": "O8e3d8s1lFsI",
      "execution_count": 10,
      "outputs": [
        {
          "output_type": "execute_result",
          "data": {
            "text/plain": [
              "Produkt\n",
              "Alaunstein          38070.136078\n",
              "Bartbalm Crusoe     14646.310010\n",
              "Rasierer           217750.595160\n",
              "Name: Bruttoumsatz, dtype: float64"
            ],
            "text/html": [
              "<div>\n",
              "<style scoped>\n",
              "    .dataframe tbody tr th:only-of-type {\n",
              "        vertical-align: middle;\n",
              "    }\n",
              "\n",
              "    .dataframe tbody tr th {\n",
              "        vertical-align: top;\n",
              "    }\n",
              "\n",
              "    .dataframe thead th {\n",
              "        text-align: right;\n",
              "    }\n",
              "</style>\n",
              "<table border=\"1\" class=\"dataframe\">\n",
              "  <thead>\n",
              "    <tr style=\"text-align: right;\">\n",
              "      <th></th>\n",
              "      <th>Bruttoumsatz</th>\n",
              "    </tr>\n",
              "    <tr>\n",
              "      <th>Produkt</th>\n",
              "      <th></th>\n",
              "    </tr>\n",
              "  </thead>\n",
              "  <tbody>\n",
              "    <tr>\n",
              "      <th>Alaunstein</th>\n",
              "      <td>38070.136078</td>\n",
              "    </tr>\n",
              "    <tr>\n",
              "      <th>Bartbalm Crusoe</th>\n",
              "      <td>14646.310010</td>\n",
              "    </tr>\n",
              "    <tr>\n",
              "      <th>Rasierer</th>\n",
              "      <td>217750.595160</td>\n",
              "    </tr>\n",
              "  </tbody>\n",
              "</table>\n",
              "</div><br><label><b>dtype:</b> float64</label>"
            ]
          },
          "metadata": {},
          "execution_count": 10
        }
      ]
    },
    {
      "cell_type": "markdown",
      "source": [
        "### Monatliche Nettomenge (Absatz) der Produkte"
      ],
      "metadata": {
        "id": "tewZZFj75bql"
      },
      "id": "tewZZFj75bql"
    },
    {
      "cell_type": "code",
      "source": [
        "# Bedarfe pro Woche über alle drei Produkte\n",
        "# 1. Schritt: Jahr-Monat aus Spalte Datum ableiten\n",
        "# \"M\" bedeutet Monat\n",
        "absatz_tag[\"Jahr-Monat\"] = absatz_tag[\"Datum\"].dt.to_period(\"M\")"
      ],
      "metadata": {
        "id": "SKeEo1LelCFr"
      },
      "id": "SKeEo1LelCFr",
      "execution_count": 11,
      "outputs": []
    },
    {
      "cell_type": "code",
      "source": [
        "absatz_tag.tail()"
      ],
      "metadata": {
        "id": "H_TIsAqbChOg",
        "colab": {
          "base_uri": "https://localhost:8080/",
          "height": 204
        },
        "outputId": "e0e7530c-d4ce-4a8e-ad3d-db77ce3331bf"
      },
      "id": "H_TIsAqbChOg",
      "execution_count": 12,
      "outputs": [
        {
          "output_type": "execute_result",
          "data": {
            "text/plain": [
              "          Datum          Produkt  Nettomenge  Bruttoumsatz Jahr-Monat\n",
              "2513 2022-10-19  Bartbalm Crusoe           1     19.990000    2022-10\n",
              "2514 2022-10-19         Rasierer           7    244.930010    2022-10\n",
              "2515 2022-10-20       Alaunstein           5     49.949997    2022-10\n",
              "2516 2022-10-20  Bartbalm Crusoe           1     19.990000    2022-10\n",
              "2517 2022-10-20         Rasierer           3    104.960010    2022-10"
            ],
            "text/html": [
              "\n",
              "  <div id=\"df-489220df-cbf8-40cc-a5fd-77a6ab50e042\" class=\"colab-df-container\">\n",
              "    <div>\n",
              "<style scoped>\n",
              "    .dataframe tbody tr th:only-of-type {\n",
              "        vertical-align: middle;\n",
              "    }\n",
              "\n",
              "    .dataframe tbody tr th {\n",
              "        vertical-align: top;\n",
              "    }\n",
              "\n",
              "    .dataframe thead th {\n",
              "        text-align: right;\n",
              "    }\n",
              "</style>\n",
              "<table border=\"1\" class=\"dataframe\">\n",
              "  <thead>\n",
              "    <tr style=\"text-align: right;\">\n",
              "      <th></th>\n",
              "      <th>Datum</th>\n",
              "      <th>Produkt</th>\n",
              "      <th>Nettomenge</th>\n",
              "      <th>Bruttoumsatz</th>\n",
              "      <th>Jahr-Monat</th>\n",
              "    </tr>\n",
              "  </thead>\n",
              "  <tbody>\n",
              "    <tr>\n",
              "      <th>2513</th>\n",
              "      <td>2022-10-19</td>\n",
              "      <td>Bartbalm Crusoe</td>\n",
              "      <td>1</td>\n",
              "      <td>19.990000</td>\n",
              "      <td>2022-10</td>\n",
              "    </tr>\n",
              "    <tr>\n",
              "      <th>2514</th>\n",
              "      <td>2022-10-19</td>\n",
              "      <td>Rasierer</td>\n",
              "      <td>7</td>\n",
              "      <td>244.930010</td>\n",
              "      <td>2022-10</td>\n",
              "    </tr>\n",
              "    <tr>\n",
              "      <th>2515</th>\n",
              "      <td>2022-10-20</td>\n",
              "      <td>Alaunstein</td>\n",
              "      <td>5</td>\n",
              "      <td>49.949997</td>\n",
              "      <td>2022-10</td>\n",
              "    </tr>\n",
              "    <tr>\n",
              "      <th>2516</th>\n",
              "      <td>2022-10-20</td>\n",
              "      <td>Bartbalm Crusoe</td>\n",
              "      <td>1</td>\n",
              "      <td>19.990000</td>\n",
              "      <td>2022-10</td>\n",
              "    </tr>\n",
              "    <tr>\n",
              "      <th>2517</th>\n",
              "      <td>2022-10-20</td>\n",
              "      <td>Rasierer</td>\n",
              "      <td>3</td>\n",
              "      <td>104.960010</td>\n",
              "      <td>2022-10</td>\n",
              "    </tr>\n",
              "  </tbody>\n",
              "</table>\n",
              "</div>\n",
              "    <div class=\"colab-df-buttons\">\n",
              "\n",
              "  <div class=\"colab-df-container\">\n",
              "    <button class=\"colab-df-convert\" onclick=\"convertToInteractive('df-489220df-cbf8-40cc-a5fd-77a6ab50e042')\"\n",
              "            title=\"Convert this dataframe to an interactive table.\"\n",
              "            style=\"display:none;\">\n",
              "\n",
              "  <svg xmlns=\"http://www.w3.org/2000/svg\" height=\"24px\" viewBox=\"0 -960 960 960\">\n",
              "    <path d=\"M120-120v-720h720v720H120Zm60-500h600v-160H180v160Zm220 220h160v-160H400v160Zm0 220h160v-160H400v160ZM180-400h160v-160H180v160Zm440 0h160v-160H620v160ZM180-180h160v-160H180v160Zm440 0h160v-160H620v160Z\"/>\n",
              "  </svg>\n",
              "    </button>\n",
              "\n",
              "  <style>\n",
              "    .colab-df-container {\n",
              "      display:flex;\n",
              "      gap: 12px;\n",
              "    }\n",
              "\n",
              "    .colab-df-convert {\n",
              "      background-color: #E8F0FE;\n",
              "      border: none;\n",
              "      border-radius: 50%;\n",
              "      cursor: pointer;\n",
              "      display: none;\n",
              "      fill: #1967D2;\n",
              "      height: 32px;\n",
              "      padding: 0 0 0 0;\n",
              "      width: 32px;\n",
              "    }\n",
              "\n",
              "    .colab-df-convert:hover {\n",
              "      background-color: #E2EBFA;\n",
              "      box-shadow: 0px 1px 2px rgba(60, 64, 67, 0.3), 0px 1px 3px 1px rgba(60, 64, 67, 0.15);\n",
              "      fill: #174EA6;\n",
              "    }\n",
              "\n",
              "    .colab-df-buttons div {\n",
              "      margin-bottom: 4px;\n",
              "    }\n",
              "\n",
              "    [theme=dark] .colab-df-convert {\n",
              "      background-color: #3B4455;\n",
              "      fill: #D2E3FC;\n",
              "    }\n",
              "\n",
              "    [theme=dark] .colab-df-convert:hover {\n",
              "      background-color: #434B5C;\n",
              "      box-shadow: 0px 1px 3px 1px rgba(0, 0, 0, 0.15);\n",
              "      filter: drop-shadow(0px 1px 2px rgba(0, 0, 0, 0.3));\n",
              "      fill: #FFFFFF;\n",
              "    }\n",
              "  </style>\n",
              "\n",
              "    <script>\n",
              "      const buttonEl =\n",
              "        document.querySelector('#df-489220df-cbf8-40cc-a5fd-77a6ab50e042 button.colab-df-convert');\n",
              "      buttonEl.style.display =\n",
              "        google.colab.kernel.accessAllowed ? 'block' : 'none';\n",
              "\n",
              "      async function convertToInteractive(key) {\n",
              "        const element = document.querySelector('#df-489220df-cbf8-40cc-a5fd-77a6ab50e042');\n",
              "        const dataTable =\n",
              "          await google.colab.kernel.invokeFunction('convertToInteractive',\n",
              "                                                    [key], {});\n",
              "        if (!dataTable) return;\n",
              "\n",
              "        const docLinkHtml = 'Like what you see? Visit the ' +\n",
              "          '<a target=\"_blank\" href=https://colab.research.google.com/notebooks/data_table.ipynb>data table notebook</a>'\n",
              "          + ' to learn more about interactive tables.';\n",
              "        element.innerHTML = '';\n",
              "        dataTable['output_type'] = 'display_data';\n",
              "        await google.colab.output.renderOutput(dataTable, element);\n",
              "        const docLink = document.createElement('div');\n",
              "        docLink.innerHTML = docLinkHtml;\n",
              "        element.appendChild(docLink);\n",
              "      }\n",
              "    </script>\n",
              "  </div>\n",
              "\n",
              "\n",
              "<div id=\"df-4d61e639-9233-4f9d-a224-a74bd8da0da6\">\n",
              "  <button class=\"colab-df-quickchart\" onclick=\"quickchart('df-4d61e639-9233-4f9d-a224-a74bd8da0da6')\"\n",
              "            title=\"Suggest charts\"\n",
              "            style=\"display:none;\">\n",
              "\n",
              "<svg xmlns=\"http://www.w3.org/2000/svg\" height=\"24px\"viewBox=\"0 0 24 24\"\n",
              "     width=\"24px\">\n",
              "    <g>\n",
              "        <path d=\"M19 3H5c-1.1 0-2 .9-2 2v14c0 1.1.9 2 2 2h14c1.1 0 2-.9 2-2V5c0-1.1-.9-2-2-2zM9 17H7v-7h2v7zm4 0h-2V7h2v10zm4 0h-2v-4h2v4z\"/>\n",
              "    </g>\n",
              "</svg>\n",
              "  </button>\n",
              "\n",
              "<style>\n",
              "  .colab-df-quickchart {\n",
              "      --bg-color: #E8F0FE;\n",
              "      --fill-color: #1967D2;\n",
              "      --hover-bg-color: #E2EBFA;\n",
              "      --hover-fill-color: #174EA6;\n",
              "      --disabled-fill-color: #AAA;\n",
              "      --disabled-bg-color: #DDD;\n",
              "  }\n",
              "\n",
              "  [theme=dark] .colab-df-quickchart {\n",
              "      --bg-color: #3B4455;\n",
              "      --fill-color: #D2E3FC;\n",
              "      --hover-bg-color: #434B5C;\n",
              "      --hover-fill-color: #FFFFFF;\n",
              "      --disabled-bg-color: #3B4455;\n",
              "      --disabled-fill-color: #666;\n",
              "  }\n",
              "\n",
              "  .colab-df-quickchart {\n",
              "    background-color: var(--bg-color);\n",
              "    border: none;\n",
              "    border-radius: 50%;\n",
              "    cursor: pointer;\n",
              "    display: none;\n",
              "    fill: var(--fill-color);\n",
              "    height: 32px;\n",
              "    padding: 0;\n",
              "    width: 32px;\n",
              "  }\n",
              "\n",
              "  .colab-df-quickchart:hover {\n",
              "    background-color: var(--hover-bg-color);\n",
              "    box-shadow: 0 1px 2px rgba(60, 64, 67, 0.3), 0 1px 3px 1px rgba(60, 64, 67, 0.15);\n",
              "    fill: var(--button-hover-fill-color);\n",
              "  }\n",
              "\n",
              "  .colab-df-quickchart-complete:disabled,\n",
              "  .colab-df-quickchart-complete:disabled:hover {\n",
              "    background-color: var(--disabled-bg-color);\n",
              "    fill: var(--disabled-fill-color);\n",
              "    box-shadow: none;\n",
              "  }\n",
              "\n",
              "  .colab-df-spinner {\n",
              "    border: 2px solid var(--fill-color);\n",
              "    border-color: transparent;\n",
              "    border-bottom-color: var(--fill-color);\n",
              "    animation:\n",
              "      spin 1s steps(1) infinite;\n",
              "  }\n",
              "\n",
              "  @keyframes spin {\n",
              "    0% {\n",
              "      border-color: transparent;\n",
              "      border-bottom-color: var(--fill-color);\n",
              "      border-left-color: var(--fill-color);\n",
              "    }\n",
              "    20% {\n",
              "      border-color: transparent;\n",
              "      border-left-color: var(--fill-color);\n",
              "      border-top-color: var(--fill-color);\n",
              "    }\n",
              "    30% {\n",
              "      border-color: transparent;\n",
              "      border-left-color: var(--fill-color);\n",
              "      border-top-color: var(--fill-color);\n",
              "      border-right-color: var(--fill-color);\n",
              "    }\n",
              "    40% {\n",
              "      border-color: transparent;\n",
              "      border-right-color: var(--fill-color);\n",
              "      border-top-color: var(--fill-color);\n",
              "    }\n",
              "    60% {\n",
              "      border-color: transparent;\n",
              "      border-right-color: var(--fill-color);\n",
              "    }\n",
              "    80% {\n",
              "      border-color: transparent;\n",
              "      border-right-color: var(--fill-color);\n",
              "      border-bottom-color: var(--fill-color);\n",
              "    }\n",
              "    90% {\n",
              "      border-color: transparent;\n",
              "      border-bottom-color: var(--fill-color);\n",
              "    }\n",
              "  }\n",
              "</style>\n",
              "\n",
              "  <script>\n",
              "    async function quickchart(key) {\n",
              "      const quickchartButtonEl =\n",
              "        document.querySelector('#' + key + ' button');\n",
              "      quickchartButtonEl.disabled = true;  // To prevent multiple clicks.\n",
              "      quickchartButtonEl.classList.add('colab-df-spinner');\n",
              "      try {\n",
              "        const charts = await google.colab.kernel.invokeFunction(\n",
              "            'suggestCharts', [key], {});\n",
              "      } catch (error) {\n",
              "        console.error('Error during call to suggestCharts:', error);\n",
              "      }\n",
              "      quickchartButtonEl.classList.remove('colab-df-spinner');\n",
              "      quickchartButtonEl.classList.add('colab-df-quickchart-complete');\n",
              "    }\n",
              "    (() => {\n",
              "      let quickchartButtonEl =\n",
              "        document.querySelector('#df-4d61e639-9233-4f9d-a224-a74bd8da0da6 button');\n",
              "      quickchartButtonEl.style.display =\n",
              "        google.colab.kernel.accessAllowed ? 'block' : 'none';\n",
              "    })();\n",
              "  </script>\n",
              "</div>\n",
              "\n",
              "    </div>\n",
              "  </div>\n"
            ],
            "application/vnd.google.colaboratory.intrinsic+json": {
              "type": "dataframe",
              "summary": "{\n  \"name\": \"absatz_tag\",\n  \"rows\": 5,\n  \"fields\": [\n    {\n      \"column\": \"Datum\",\n      \"properties\": {\n        \"dtype\": \"date\",\n        \"min\": \"2022-10-19 00:00:00\",\n        \"max\": \"2022-10-20 00:00:00\",\n        \"num_unique_values\": 2,\n        \"samples\": [\n          \"2022-10-20 00:00:00\",\n          \"2022-10-19 00:00:00\"\n        ],\n        \"semantic_type\": \"\",\n        \"description\": \"\"\n      }\n    },\n    {\n      \"column\": \"Produkt\",\n      \"properties\": {\n        \"dtype\": \"string\",\n        \"num_unique_values\": 3,\n        \"samples\": [\n          \"Bartbalm Crusoe\",\n          \"Rasierer\"\n        ],\n        \"semantic_type\": \"\",\n        \"description\": \"\"\n      }\n    },\n    {\n      \"column\": \"Nettomenge\",\n      \"properties\": {\n        \"dtype\": \"number\",\n        \"std\": 2,\n        \"min\": 1,\n        \"max\": 7,\n        \"num_unique_values\": 4,\n        \"samples\": [\n          7,\n          3\n        ],\n        \"semantic_type\": \"\",\n        \"description\": \"\"\n      }\n    },\n    {\n      \"column\": \"Bruttoumsatz\",\n      \"properties\": {\n        \"dtype\": \"number\",\n        \"std\": 94.35728168419774,\n        \"min\": 19.99,\n        \"max\": 244.93001,\n        \"num_unique_values\": 4,\n        \"samples\": [\n          244.93001,\n          104.96001\n        ],\n        \"semantic_type\": \"\",\n        \"description\": \"\"\n      }\n    },\n    {\n      \"column\": \"Jahr-Monat\",\n      \"properties\": {\n        \"dtype\": \"period[M]\",\n        \"num_unique_values\": 1,\n        \"samples\": [\n          \"2022-10\"\n        ],\n        \"semantic_type\": \"\",\n        \"description\": \"\"\n      }\n    }\n  ]\n}"
            }
          },
          "metadata": {},
          "execution_count": 12
        }
      ]
    },
    {
      "cell_type": "code",
      "source": [
        "# 2. Schritt: Bruttoumsatz auf Monatsscheiben aggregieren\n",
        "monatsumsaetze = absatz_tag.groupby([\"Produkt\",\"Jahr-Monat\"])[\"Nettomenge\"].sum().reset_index()"
      ],
      "metadata": {
        "id": "-2aUu2VIh9qP"
      },
      "id": "-2aUu2VIh9qP",
      "execution_count": 13,
      "outputs": []
    },
    {
      "cell_type": "code",
      "source": [
        "# 3. Schritt: Bruttoumsatz eines Produktes abbilden\n",
        "monatsumsaetze[monatsumsaetze.Produkt==\"Alaunstein\"].plot(kind=\"line\",\n",
        "                                                          x=\"Jahr-Monat\",\n",
        "                                                          y=\"Nettomenge\",\n",
        "                                                          figsize=(8,6),\n",
        "                                                          title=\"Bruttoumsatz Alaunstein\",\n",
        "                                                          ylabel=\"Nettomenge [Stk.]\")"
      ],
      "metadata": {
        "id": "fVHED7P0hhur",
        "colab": {
          "base_uri": "https://localhost:8080/",
          "height": 597
        },
        "outputId": "9fb7a0ad-2c5a-496d-9f6a-7c7001d41043"
      },
      "id": "fVHED7P0hhur",
      "execution_count": 14,
      "outputs": [
        {
          "output_type": "execute_result",
          "data": {
            "text/plain": [
              "<Axes: title={'center': 'Bruttoumsatz Alaunstein'}, xlabel='Jahr-Monat', ylabel='Nettomenge [Stk.]'>"
            ]
          },
          "metadata": {},
          "execution_count": 14
        },
        {
          "output_type": "display_data",
          "data": {
            "text/plain": [
              "<Figure size 800x600 with 1 Axes>"
            ],
            "image/png": "[encoded data removed]"
          },
          "metadata": {}
        }
      ]
    },
    {
      "cell_type": "code",
      "source": [
        "monatsumsaetze[monatsumsaetze.Produkt==\"Bartbalm Crusoe\"].plot(kind=\"line\", x=\"Jahr-Monat\", y=\"Nettomenge\", figsize=(8,6), title=\"Bartbalm Crusoe\")"
      ],
      "metadata": {
        "id": "rTvmrVp1mb8A",
        "colab": {
          "base_uri": "https://localhost:8080/",
          "height": 597
        },
        "outputId": "d708b4e6-06dd-4fac-c3b8-5b874f54c865"
      },
      "id": "rTvmrVp1mb8A",
      "execution_count": 15,
      "outputs": [
        {
          "output_type": "execute_result",
          "data": {
            "text/plain": [
              "<Axes: title={'center': 'Bartbalm Crusoe'}, xlabel='Jahr-Monat'>"
            ]
          },
          "metadata": {},
          "execution_count": 15
        },
        {
          "output_type": "display_data",
          "data": {
            "text/plain": [
              "<Figure size 800x600 with 1 Axes>"
            ],
            "image/png": "[encoded data removed]"
          },
          "metadata": {}
        }
      ]
    },
    {
      "cell_type": "markdown",
      "source": [
        "#### Darstellung der Nettomengen je Produkt in einer Abbildung"
      ],
      "metadata": {
        "id": "zVwdk34E5n_W"
      },
      "id": "zVwdk34E5n_W"
    },
    {
      "cell_type": "code",
      "source": [
        "import matplotlib.pyplot as plt\n",
        "# alle Bruttoumsätze in einer Abbildung\n",
        "# 1. Schritt: Spalte zum Index machen (x-Achse)\n",
        "monatsumsaetze.set_index(\"Jahr-Monat\", inplace=True)"
      ],
      "metadata": {
        "id": "uogwInn1ivBp"
      },
      "id": "uogwInn1ivBp",
      "execution_count": 16,
      "outputs": []
    },
    {
      "cell_type": "code",
      "source": [
        "# 2. Schritt: Erzeugen des Abbildungsobjektes\n",
        "fig, ax = plt.subplots(figsize=(8,6))\n",
        "# 3. Schritt: Jeweiliges gruppieren auf Produkte und Übergabe des Abbildungsobjektes \"ax=ax\"\n",
        "for label, df in monatsumsaetze.groupby('Produkt'):\n",
        "    df[\"Nettomenge\"].plot(\n",
        "        kind=\"line\",\n",
        "        ax=ax,\n",
        "        label=label,\n",
        "        ylabel=\"Nettomenge [Stk]\"\n",
        "        )\n",
        "plt.legend()"
      ],
      "metadata": {
        "id": "jdIvcxCwlWrH",
        "colab": {
          "base_uri": "https://localhost:8080/",
          "height": 575
        },
        "outputId": "5f7c7f20-712e-473f-eac2-fec987f3a969"
      },
      "id": "jdIvcxCwlWrH",
      "execution_count": 17,
      "outputs": [
        {
          "output_type": "execute_result",
          "data": {
            "text/plain": [
              "<matplotlib.legend.Legend at 0x799bab2af690>"
            ]
          },
          "metadata": {},
          "execution_count": 17
        },
        {
          "output_type": "display_data",
          "data": {
            "text/plain": [
              "<Figure size 800x600 with 1 Axes>"
            ],
            "image/png": "[encoded data removed]"
          },
          "metadata": {}
        }
      ]
    },
    {
      "cell_type": "markdown",
      "source": [
        "### Umsatz und Nettomenge"
      ],
      "metadata": {
        "id": "fdIXyWvt51Sa"
      },
      "id": "fdIXyWvt51Sa"
    },
    {
      "cell_type": "markdown",
      "source": [
        "#### Nach Monat"
      ],
      "metadata": {
        "id": "rH4OOm7h6nnZ"
      },
      "id": "rH4OOm7h6nnZ"
    },
    {
      "cell_type": "code",
      "source": [
        "absatz_tag[\"Monat\"] = absatz_tag.Datum.dt.month"
      ],
      "metadata": {
        "id": "mVTHGDfUhft9"
      },
      "id": "mVTHGDfUhft9",
      "execution_count": 18,
      "outputs": []
    },
    {
      "cell_type": "code",
      "source": [
        "absatz_tag.groupby(\"Monat\")[\"Bruttoumsatz\"].mean().plot(kind = \"bar\")"
      ],
      "metadata": {
        "id": "5JeYAHmg5_mp",
        "colab": {
          "base_uri": "https://localhost:8080/",
          "height": 470
        },
        "outputId": "43696304-d724-4473-927d-14612cd93578"
      },
      "id": "5JeYAHmg5_mp",
      "execution_count": 19,
      "outputs": [
        {
          "output_type": "execute_result",
          "data": {
            "text/plain": [
              "<Axes: xlabel='Monat'>"
            ]
          },
          "metadata": {},
          "execution_count": 19
        },
        {
          "output_type": "display_data",
          "data": {
            "text/plain": [
              "<Figure size 640x480 with 1 Axes>"
            ],
            "image/png": "[encoded data removed]"
          },
          "metadata": {}
        }
      ]
    },
    {
      "cell_type": "code",
      "source": [
        "absatz_tag.groupby(\"Monat\")[\"Nettomenge\"].mean().plot(kind = \"bar\")"
      ],
      "metadata": {
        "id": "HcyGWHVB6Qx4",
        "colab": {
          "base_uri": "https://localhost:8080/",
          "height": 470
        },
        "outputId": "cd17f9b0-cc43-4746-ded1-805fd21a8f2c"
      },
      "id": "HcyGWHVB6Qx4",
      "execution_count": 20,
      "outputs": [
        {
          "output_type": "execute_result",
          "data": {
            "text/plain": [
              "<Axes: xlabel='Monat'>"
            ]
          },
          "metadata": {},
          "execution_count": 20
        },
        {
          "output_type": "display_data",
          "data": {
            "text/plain": [
              "<Figure size 640x480 with 1 Axes>"
            ],
            "image/png": "[encoded data removed]"
          },
          "metadata": {}
        }
      ]
    },
    {
      "cell_type": "markdown",
      "source": [
        "#### Nach Woche"
      ],
      "metadata": {
        "id": "j2UMdC746rkF"
      },
      "id": "j2UMdC746rkF"
    },
    {
      "cell_type": "code",
      "source": [
        "absatz_tag[\"Woche\"] = absatz_tag.Datum.dt.isocalendar().week"
      ],
      "metadata": {
        "id": "2LYyMZxT6WOU"
      },
      "id": "2LYyMZxT6WOU",
      "execution_count": 21,
      "outputs": []
    },
    {
      "cell_type": "code",
      "source": [
        "absatz_tag.groupby(\"Woche\")[\"Bruttoumsatz\"].mean().plot(kind = \"bar\", figsize=(12,6))"
      ],
      "metadata": {
        "id": "1ee2rQc76xut",
        "colab": {
          "base_uri": "https://localhost:8080/",
          "height": 563
        },
        "outputId": "ce960af4-e445-4665-a9f1-eb62f3509606"
      },
      "id": "1ee2rQc76xut",
      "execution_count": 22,
      "outputs": [
        {
          "output_type": "execute_result",
          "data": {
            "text/plain": [
              "<Axes: xlabel='Woche'>"
            ]
          },
          "metadata": {},
          "execution_count": 22
        },
        {
          "output_type": "display_data",
          "data": {
            "text/plain": [
              "<Figure size 1200x600 with 1 Axes>"
            ],
            "image/png": "[encoded data removed]"
          },
          "metadata": {}
        }
      ]
    },
    {
      "cell_type": "code",
      "source": [
        "absatz_tag.groupby(\"Woche\")[\"Nettomenge\"].mean().plot(kind = \"bar\", figsize=(12,6))"
      ],
      "metadata": {
        "id": "SGbG8d7966zk",
        "colab": {
          "base_uri": "https://localhost:8080/",
          "height": 563
        },
        "outputId": "3eab6861-7a7d-418f-e9d1-daa5eab73394"
      },
      "id": "SGbG8d7966zk",
      "execution_count": 23,
      "outputs": [
        {
          "output_type": "execute_result",
          "data": {
            "text/plain": [
              "<Axes: xlabel='Woche'>"
            ]
          },
          "metadata": {},
          "execution_count": 23
        },
        {
          "output_type": "display_data",
          "data": {
            "text/plain": [
              "<Figure size 1200x600 with 1 Axes>"
            ],
            "image/png": "[encoded data removed]"
          },
          "metadata": {}
        }
      ]
    },
    {
      "cell_type": "markdown",
      "source": [
        "#### Nach Wochentag"
      ],
      "metadata": {
        "id": "739daPoG9AYs"
      },
      "id": "739daPoG9AYs"
    },
    {
      "cell_type": "code",
      "source": [
        "absatz_tag[\"Wochentag\"] = absatz_tag.Datum.dt.weekday"
      ],
      "metadata": {
        "id": "G3BgIYEx9F39"
      },
      "id": "G3BgIYEx9F39",
      "execution_count": 24,
      "outputs": []
    },
    {
      "cell_type": "code",
      "source": [
        "absatz_tag.groupby(\"Wochentag\")[\"Nettomenge\"].mean().plot(kind = \"bar\")"
      ],
      "metadata": {
        "id": "hcBraOYD9Ky_",
        "colab": {
          "base_uri": "https://localhost:8080/",
          "height": 461
        },
        "outputId": "766c636f-d63a-4554-ca81-fec77976726b"
      },
      "id": "hcBraOYD9Ky_",
      "execution_count": 25,
      "outputs": [
        {
          "output_type": "execute_result",
          "data": {
            "text/plain": [
              "<Axes: xlabel='Wochentag'>"
            ]
          },
          "metadata": {},
          "execution_count": 25
        },
        {
          "output_type": "display_data",
          "data": {
            "text/plain": [
              "<Figure size 640x480 with 1 Axes>"
            ],
            "image/png": "[encoded data removed]"
          },
          "metadata": {}
        }
      ]
    },
    {
      "cell_type": "markdown",
      "source": [
        "### Stückpreis und Absatz nach Woche"
      ],
      "metadata": {
        "id": "6pZ1It8Y9hNB"
      },
      "id": "6pZ1It8Y9hNB"
    },
    {
      "cell_type": "code",
      "source": [
        "absatz_tag[\"Stueckpreis\"] = absatz_tag[\"Bruttoumsatz\"] / absatz_tag[\"Nettomenge\"]"
      ],
      "metadata": {
        "id": "oeU9gnth-Q4t"
      },
      "id": "oeU9gnth-Q4t",
      "execution_count": 26,
      "outputs": []
    },
    {
      "cell_type": "code",
      "source": [
        "absatz_tag[\"Jahr-Woche\"] = absatz_tag[\"Datum\"].dt.to_period(\"W\")"
      ],
      "metadata": {
        "id": "Sj6Gmtes_ZPk"
      },
      "id": "Sj6Gmtes_ZPk",
      "execution_count": 27,
      "outputs": []
    },
    {
      "cell_type": "code",
      "source": [
        "absatz_tag.Produkt.unique()"
      ],
      "metadata": {
        "id": "mNo_Wyx0_BMF",
        "colab": {
          "base_uri": "https://localhost:8080/"
        },
        "outputId": "770cea74-7973-41d8-c6e4-fe94009b1e52"
      },
      "id": "mNo_Wyx0_BMF",
      "execution_count": 28,
      "outputs": [
        {
          "output_type": "execute_result",
          "data": {
            "text/plain": [
              "array(['Alaunstein', 'Rasierer', 'Bartbalm Crusoe'], dtype=object)"
            ]
          },
          "metadata": {},
          "execution_count": 28
        }
      ]
    },
    {
      "cell_type": "code",
      "source": [
        "produkt = \"Alaunstein\""
      ],
      "metadata": {
        "id": "CX21_JqD_APo"
      },
      "id": "CX21_JqD_APo",
      "execution_count": 29,
      "outputs": []
    },
    {
      "cell_type": "code",
      "source": [
        "fig, ax = plt.subplots(figsize=(12,6))\n",
        "# Abbildung zum Preis\n",
        "absatz_tag[absatz_tag.Produkt==produkt].groupby(\"Jahr-Woche\")[\"Stueckpreis\"].mean().plot(kind=\"line\", ax=ax)\n",
        "# Abbildung zur Nettomenge\n",
        "absatz_tag[absatz_tag.Produkt==produkt].groupby(\"Jahr-Woche\")[\"Nettomenge\"].mean().plot(kind=\"line\", ax=ax, title=f\"Nettomenge {produkt}\", ylabel=\"Nettomenge [Stk.]\")\n",
        "plt.legend()"
      ],
      "metadata": {
        "id": "EivfDY6O9oMG",
        "colab": {
          "base_uri": "https://localhost:8080/",
          "height": 597
        },
        "outputId": "d6bb4029-67ea-40ee-83eb-dd868a5cbce1"
      },
      "id": "EivfDY6O9oMG",
      "execution_count": 30,
      "outputs": [
        {
          "output_type": "execute_result",
          "data": {
            "text/plain": [
              "<matplotlib.legend.Legend at 0x799bab3f2450>"
            ]
          },
          "metadata": {},
          "execution_count": 30
        },
        {
          "output_type": "display_data",
          "data": {
            "text/plain": [
              "<Figure size 1200x600 with 1 Axes>"
            ],
            "image/png": "[encoded data removed]"
          },
          "metadata": {}
        }
      ]
    },
    {
      "cell_type": "markdown",
      "source": [
        "# 4 Feature Engineering\n",
        "Beim Feature Engineering versucht man weitere Merkmale aus den gegebenen Grunddaten abzuleiten, die bei der Prognose hilfreich sein können. Im vorliegenden Fall bietet es sich beispielsweise an **zeitlichen** und **preislichen Features** abzuleiten.\n",
        "\n",
        "**Zeitliche Features**: Zum Beispiel können wir aus dem Datum die Woche oder den Monat entnehmen. Dies ergibt Sinn, wenn wir vermuten, dass der Monat/ die Woche einen Einfluss auf die Höhe der Absätze hat. Ebenso vorstellbar ist es, eine Trendvariable einzuführen, die das durchschnittlicher Absatzwachstum des Shops über die Zeit erfasst.\n",
        "\n",
        "**Preisliche Features**: Wir sollten vermutlich den Produktpreis als Feature verwenden. Außerdem könnte es interessant sein, den durchschnittlichen Produktpreis der letzten x-Wochen als Feature zu berücksichtigen, oder die individuellen Preise der letzten x-Wochen."
      ],
      "metadata": {
        "id": "HqFMMBgqvXnO"
      },
      "id": "HqFMMBgqvXnO"
    },
    {
      "cell_type": "code",
      "source": [
        "data.dtypes"
      ],
      "metadata": {
        "colab": {
          "base_uri": "https://localhost:8080/",
          "height": 238
        },
        "id": "8hQiMf2a4nfa",
        "outputId": "beeee2c5-45f8-473a-8b09-3ebfd3ed6b8f"
      },
      "id": "8hQiMf2a4nfa",
      "execution_count": 31,
      "outputs": [
        {
          "output_type": "execute_result",
          "data": {
            "text/plain": [
              "Datum                 datetime64[ns]\n",
              "Produkt                       object\n",
              "Nettomenge                     int64\n",
              "Stueckpreis_brutto           float64\n",
              "Bruttoumsatz                 float64\n",
              "dtype: object"
            ],
            "text/html": [
              "<div>\n",
              "<style scoped>\n",
              "    .dataframe tbody tr th:only-of-type {\n",
              "        vertical-align: middle;\n",
              "    }\n",
              "\n",
              "    .dataframe tbody tr th {\n",
              "        vertical-align: top;\n",
              "    }\n",
              "\n",
              "    .dataframe thead th {\n",
              "        text-align: right;\n",
              "    }\n",
              "</style>\n",
              "<table border=\"1\" class=\"dataframe\">\n",
              "  <thead>\n",
              "    <tr style=\"text-align: right;\">\n",
              "      <th></th>\n",
              "      <th>0</th>\n",
              "    </tr>\n",
              "  </thead>\n",
              "  <tbody>\n",
              "    <tr>\n",
              "      <th>Datum</th>\n",
              "      <td>datetime64[ns]</td>\n",
              "    </tr>\n",
              "    <tr>\n",
              "      <th>Produkt</th>\n",
              "      <td>object</td>\n",
              "    </tr>\n",
              "    <tr>\n",
              "      <th>Nettomenge</th>\n",
              "      <td>int64</td>\n",
              "    </tr>\n",
              "    <tr>\n",
              "      <th>Stueckpreis_brutto</th>\n",
              "      <td>float64</td>\n",
              "    </tr>\n",
              "    <tr>\n",
              "      <th>Bruttoumsatz</th>\n",
              "      <td>float64</td>\n",
              "    </tr>\n",
              "  </tbody>\n",
              "</table>\n",
              "</div><br><label><b>dtype:</b> object</label>"
            ]
          },
          "metadata": {},
          "execution_count": 31
        }
      ]
    },
    {
      "cell_type": "code",
      "source": [
        "# Einfaches Feature Engineering\n",
        "data[\"Wochentag\"] = data[\"Datum\"].dt.dayofweek\n",
        "data[\"Monat\"] = data[\"Datum\"].dt.month\n",
        "data[\"Woche\"] = data[\"Datum\"].dt.isocalendar().week\n",
        "data[\"Stueckpreis\"] = data[\"Bruttoumsatz\"] / data[\"Nettomenge\"]\n",
        "data.tail()"
      ],
      "metadata": {
        "id": "JA17waoWybiY",
        "colab": {
          "base_uri": "https://localhost:8080/",
          "height": 204
        },
        "outputId": "7be918a5-28ab-4f78-8e82-76ded3ea270a"
      },
      "id": "JA17waoWybiY",
      "execution_count": 32,
      "outputs": [
        {
          "output_type": "execute_result",
          "data": {
            "text/plain": [
              "          Datum          Produkt  Nettomenge  Stueckpreis_brutto  \\\n",
              "2513 2022-10-16  Bartbalm Crusoe           0               19.99   \n",
              "2514 2022-10-17  Bartbalm Crusoe           0               19.99   \n",
              "2515 2022-10-18  Bartbalm Crusoe           0               19.99   \n",
              "2516 2022-10-19  Bartbalm Crusoe           1               19.99   \n",
              "2517 2022-10-20  Bartbalm Crusoe           1               19.99   \n",
              "\n",
              "      Bruttoumsatz  Wochentag  Monat  Woche  Stueckpreis  \n",
              "2513          0.00          6     10     41          NaN  \n",
              "2514          0.00          0     10     42          NaN  \n",
              "2515          0.00          1     10     42          NaN  \n",
              "2516         19.99          2     10     42        19.99  \n",
              "2517         19.99          3     10     42        19.99  "
            ],
            "text/html": [
              "\n",
              "  <div id=\"df-9770c614-9900-4b9c-9a72-b21a07853900\" class=\"colab-df-container\">\n",
              "    <div>\n",
              "<style scoped>\n",
              "    .dataframe tbody tr th:only-of-type {\n",
              "        vertical-align: middle;\n",
              "    }\n",
              "\n",
              "    .dataframe tbody tr th {\n",
              "        vertical-align: top;\n",
              "    }\n",
              "\n",
              "    .dataframe thead th {\n",
              "        text-align: right;\n",
              "    }\n",
              "</style>\n",
              "<table border=\"1\" class=\"dataframe\">\n",
              "  <thead>\n",
              "    <tr style=\"text-align: right;\">\n",
              "      <th></th>\n",
              "      <th>Datum</th>\n",
              "      <th>Produkt</th>\n",
              "      <th>Nettomenge</th>\n",
              "      <th>Stueckpreis_brutto</th>\n",
              "      <th>Bruttoumsatz</th>\n",
              "      <th>Wochentag</th>\n",
              "      <th>Monat</th>\n",
              "      <th>Woche</th>\n",
              "      <th>Stueckpreis</th>\n",
              "    </tr>\n",
              "  </thead>\n",
              "  <tbody>\n",
              "    <tr>\n",
              "      <th>2513</th>\n",
              "      <td>2022-10-16</td>\n",
              "      <td>Bartbalm Crusoe</td>\n",
              "      <td>0</td>\n",
              "      <td>19.99</td>\n",
              "      <td>0.00</td>\n",
              "      <td>6</td>\n",
              "      <td>10</td>\n",
              "      <td>41</td>\n",
              "      <td>NaN</td>\n",
              "    </tr>\n",
              "    <tr>\n",
              "      <th>2514</th>\n",
              "      <td>2022-10-17</td>\n",
              "      <td>Bartbalm Crusoe</td>\n",
              "      <td>0</td>\n",
              "      <td>19.99</td>\n",
              "      <td>0.00</td>\n",
              "      <td>0</td>\n",
              "      <td>10</td>\n",
              "      <td>42</td>\n",
              "      <td>NaN</td>\n",
              "    </tr>\n",
              "    <tr>\n",
              "      <th>2515</th>\n",
              "      <td>2022-10-18</td>\n",
              "      <td>Bartbalm Crusoe</td>\n",
              "      <td>0</td>\n",
              "      <td>19.99</td>\n",
              "      <td>0.00</td>\n",
              "      <td>1</td>\n",
              "      <td>10</td>\n",
              "      <td>42</td>\n",
              "      <td>NaN</td>\n",
              "    </tr>\n",
              "    <tr>\n",
              "      <th>2516</th>\n",
              "      <td>2022-10-19</td>\n",
              "      <td>Bartbalm Crusoe</td>\n",
              "      <td>1</td>\n",
              "      <td>19.99</td>\n",
              "      <td>19.99</td>\n",
              "      <td>2</td>\n",
              "      <td>10</td>\n",
              "      <td>42</td>\n",
              "      <td>19.99</td>\n",
              "    </tr>\n",
              "    <tr>\n",
              "      <th>2517</th>\n",
              "      <td>2022-10-20</td>\n",
              "      <td>Bartbalm Crusoe</td>\n",
              "      <td>1</td>\n",
              "      <td>19.99</td>\n",
              "      <td>19.99</td>\n",
              "      <td>3</td>\n",
              "      <td>10</td>\n",
              "      <td>42</td>\n",
              "      <td>19.99</td>\n",
              "    </tr>\n",
              "  </tbody>\n",
              "</table>\n",
              "</div>\n",
              "    <div class=\"colab-df-buttons\">\n",
              "\n",
              "  <div class=\"colab-df-container\">\n",
              "    <button class=\"colab-df-convert\" onclick=\"convertToInteractive('df-9770c614-9900-4b9c-9a72-b21a07853900')\"\n",
              "            title=\"Convert this dataframe to an interactive table.\"\n",
              "            style=\"display:none;\">\n",
              "\n",
              "  <svg xmlns=\"http://www.w3.org/2000/svg\" height=\"24px\" viewBox=\"0 -960 960 960\">\n",
              "    <path d=\"M120-120v-720h720v720H120Zm60-500h600v-160H180v160Zm220 220h160v-160H400v160Zm0 220h160v-160H400v160ZM180-400h160v-160H180v160Zm440 0h160v-160H620v160ZM180-180h160v-160H180v160Zm440 0h160v-160H620v160Z\"/>\n",
              "  </svg>\n",
              "    </button>\n",
              "\n",
              "  <style>\n",
              "    .colab-df-container {\n",
              "      display:flex;\n",
              "      gap: 12px;\n",
              "    }\n",
              "\n",
              "    .colab-df-convert {\n",
              "      background-color: #E8F0FE;\n",
              "      border: none;\n",
              "      border-radius: 50%;\n",
              "      cursor: pointer;\n",
              "      display: none;\n",
              "      fill: #1967D2;\n",
              "      height: 32px;\n",
              "      padding: 0 0 0 0;\n",
              "      width: 32px;\n",
              "    }\n",
              "\n",
              "    .colab-df-convert:hover {\n",
              "      background-color: #E2EBFA;\n",
              "      box-shadow: 0px 1px 2px rgba(60, 64, 67, 0.3), 0px 1px 3px 1px rgba(60, 64, 67, 0.15);\n",
              "      fill: #174EA6;\n",
              "    }\n",
              "\n",
              "    .colab-df-buttons div {\n",
              "      margin-bottom: 4px;\n",
              "    }\n",
              "\n",
              "    [theme=dark] .colab-df-convert {\n",
              "      background-color: #3B4455;\n",
              "      fill: #D2E3FC;\n",
              "    }\n",
              "\n",
              "    [theme=dark] .colab-df-convert:hover {\n",
              "      background-color: #434B5C;\n",
              "      box-shadow: 0px 1px 3px 1px rgba(0, 0, 0, 0.15);\n",
              "      filter: drop-shadow(0px 1px 2px rgba(0, 0, 0, 0.3));\n",
              "      fill: #FFFFFF;\n",
              "    }\n",
              "  </style>\n",
              "\n",
              "    <script>\n",
              "      const buttonEl =\n",
              "        document.querySelector('#df-9770c614-9900-4b9c-9a72-b21a07853900 button.colab-df-convert');\n",
              "      buttonEl.style.display =\n",
              "        google.colab.kernel.accessAllowed ? 'block' : 'none';\n",
              "\n",
              "      async function convertToInteractive(key) {\n",
              "        const element = document.querySelector('#df-9770c614-9900-4b9c-9a72-b21a07853900');\n",
              "        const dataTable =\n",
              "          await google.colab.kernel.invokeFunction('convertToInteractive',\n",
              "                                                    [key], {});\n",
              "        if (!dataTable) return;\n",
              "\n",
              "        const docLinkHtml = 'Like what you see? Visit the ' +\n",
              "          '<a target=\"_blank\" href=https://colab.research.google.com/notebooks/data_table.ipynb>data table notebook</a>'\n",
              "          + ' to learn more about interactive tables.';\n",
              "        element.innerHTML = '';\n",
              "        dataTable['output_type'] = 'display_data';\n",
              "        await google.colab.output.renderOutput(dataTable, element);\n",
              "        const docLink = document.createElement('div');\n",
              "        docLink.innerHTML = docLinkHtml;\n",
              "        element.appendChild(docLink);\n",
              "      }\n",
              "    </script>\n",
              "  </div>\n",
              "\n",
              "\n",
              "<div id=\"df-fbc1a12c-2e46-44fa-a9dd-51e67e98d080\">\n",
              "  <button class=\"colab-df-quickchart\" onclick=\"quickchart('df-fbc1a12c-2e46-44fa-a9dd-51e67e98d080')\"\n",
              "            title=\"Suggest charts\"\n",
              "            style=\"display:none;\">\n",
              "\n",
              "<svg xmlns=\"http://www.w3.org/2000/svg\" height=\"24px\"viewBox=\"0 0 24 24\"\n",
              "     width=\"24px\">\n",
              "    <g>\n",
              "        <path d=\"M19 3H5c-1.1 0-2 .9-2 2v14c0 1.1.9 2 2 2h14c1.1 0 2-.9 2-2V5c0-1.1-.9-2-2-2zM9 17H7v-7h2v7zm4 0h-2V7h2v10zm4 0h-2v-4h2v4z\"/>\n",
              "    </g>\n",
              "</svg>\n",
              "  </button>\n",
              "\n",
              "<style>\n",
              "  .colab-df-quickchart {\n",
              "      --bg-color: #E8F0FE;\n",
              "      --fill-color: #1967D2;\n",
              "      --hover-bg-color: #E2EBFA;\n",
              "      --hover-fill-color: #174EA6;\n",
              "      --disabled-fill-color: #AAA;\n",
              "      --disabled-bg-color: #DDD;\n",
              "  }\n",
              "\n",
              "  [theme=dark] .colab-df-quickchart {\n",
              "      --bg-color: #3B4455;\n",
              "      --fill-color: #D2E3FC;\n",
              "      --hover-bg-color: #434B5C;\n",
              "      --hover-fill-color: #FFFFFF;\n",
              "      --disabled-bg-color: #3B4455;\n",
              "      --disabled-fill-color: #666;\n",
              "  }\n",
              "\n",
              "  .colab-df-quickchart {\n",
              "    background-color: var(--bg-color);\n",
              "    border: none;\n",
              "    border-radius: 50%;\n",
              "    cursor: pointer;\n",
              "    display: none;\n",
              "    fill: var(--fill-color);\n",
              "    height: 32px;\n",
              "    padding: 0;\n",
              "    width: 32px;\n",
              "  }\n",
              "\n",
              "  .colab-df-quickchart:hover {\n",
              "    background-color: var(--hover-bg-color);\n",
              "    box-shadow: 0 1px 2px rgba(60, 64, 67, 0.3), 0 1px 3px 1px rgba(60, 64, 67, 0.15);\n",
              "    fill: var(--button-hover-fill-color);\n",
              "  }\n",
              "\n",
              "  .colab-df-quickchart-complete:disabled,\n",
              "  .colab-df-quickchart-complete:disabled:hover {\n",
              "    background-color: var(--disabled-bg-color);\n",
              "    fill: var(--disabled-fill-color);\n",
              "    box-shadow: none;\n",
              "  }\n",
              "\n",
              "  .colab-df-spinner {\n",
              "    border: 2px solid var(--fill-color);\n",
              "    border-color: transparent;\n",
              "    border-bottom-color: var(--fill-color);\n",
              "    animation:\n",
              "      spin 1s steps(1) infinite;\n",
              "  }\n",
              "\n",
              "  @keyframes spin {\n",
              "    0% {\n",
              "      border-color: transparent;\n",
              "      border-bottom-color: var(--fill-color);\n",
              "      border-left-color: var(--fill-color);\n",
              "    }\n",
              "    20% {\n",
              "      border-color: transparent;\n",
              "      border-left-color: var(--fill-color);\n",
              "      border-top-color: var(--fill-color);\n",
              "    }\n",
              "    30% {\n",
              "      border-color: transparent;\n",
              "      border-left-color: var(--fill-color);\n",
              "      border-top-color: var(--fill-color);\n",
              "      border-right-color: var(--fill-color);\n",
              "    }\n",
              "    40% {\n",
              "      border-color: transparent;\n",
              "      border-right-color: var(--fill-color);\n",
              "      border-top-color: var(--fill-color);\n",
              "    }\n",
              "    60% {\n",
              "      border-color: transparent;\n",
              "      border-right-color: var(--fill-color);\n",
              "    }\n",
              "    80% {\n",
              "      border-color: transparent;\n",
              "      border-right-color: var(--fill-color);\n",
              "      border-bottom-color: var(--fill-color);\n",
              "    }\n",
              "    90% {\n",
              "      border-color: transparent;\n",
              "      border-bottom-color: var(--fill-color);\n",
              "    }\n",
              "  }\n",
              "</style>\n",
              "\n",
              "  <script>\n",
              "    async function quickchart(key) {\n",
              "      const quickchartButtonEl =\n",
              "        document.querySelector('#' + key + ' button');\n",
              "      quickchartButtonEl.disabled = true;  // To prevent multiple clicks.\n",
              "      quickchartButtonEl.classList.add('colab-df-spinner');\n",
              "      try {\n",
              "        const charts = await google.colab.kernel.invokeFunction(\n",
              "            'suggestCharts', [key], {});\n",
              "      } catch (error) {\n",
              "        console.error('Error during call to suggestCharts:', error);\n",
              "      }\n",
              "      quickchartButtonEl.classList.remove('colab-df-spinner');\n",
              "      quickchartButtonEl.classList.add('colab-df-quickchart-complete');\n",
              "    }\n",
              "    (() => {\n",
              "      let quickchartButtonEl =\n",
              "        document.querySelector('#df-fbc1a12c-2e46-44fa-a9dd-51e67e98d080 button');\n",
              "      quickchartButtonEl.style.display =\n",
              "        google.colab.kernel.accessAllowed ? 'block' : 'none';\n",
              "    })();\n",
              "  </script>\n",
              "</div>\n",
              "\n",
              "    </div>\n",
              "  </div>\n"
            ],
            "application/vnd.google.colaboratory.intrinsic+json": {
              "type": "dataframe",
              "summary": "{\n  \"name\": \"data\",\n  \"rows\": 5,\n  \"fields\": [\n    {\n      \"column\": \"Datum\",\n      \"properties\": {\n        \"dtype\": \"date\",\n        \"min\": \"2022-10-16 00:00:00\",\n        \"max\": \"2022-10-20 00:00:00\",\n        \"num_unique_values\": 5,\n        \"samples\": [\n          \"2022-10-17 00:00:00\",\n          \"2022-10-20 00:00:00\",\n          \"2022-10-18 00:00:00\"\n        ],\n        \"semantic_type\": \"\",\n        \"description\": \"\"\n      }\n    },\n    {\n      \"column\": \"Produkt\",\n      \"properties\": {\n        \"dtype\": \"category\",\n        \"num_unique_values\": 1,\n        \"samples\": [\n          \"Bartbalm Crusoe\"\n        ],\n        \"semantic_type\": \"\",\n        \"description\": \"\"\n      }\n    },\n    {\n      \"column\": \"Nettomenge\",\n      \"properties\": {\n        \"dtype\": \"number\",\n        \"std\": 0,\n        \"min\": 0,\n        \"max\": 1,\n        \"num_unique_values\": 2,\n        \"samples\": [\n          1\n        ],\n        \"semantic_type\": \"\",\n        \"description\": \"\"\n      }\n    },\n    {\n      \"column\": \"Stueckpreis_brutto\",\n      \"properties\": {\n        \"dtype\": \"number\",\n        \"std\": 0.0,\n        \"min\": 19.99,\n        \"max\": 19.99,\n        \"num_unique_values\": 1,\n        \"samples\": [\n          19.99\n        ],\n        \"semantic_type\": \"\",\n        \"description\": \"\"\n      }\n    },\n    {\n      \"column\": \"Bruttoumsatz\",\n      \"properties\": {\n        \"dtype\": \"number\",\n        \"std\": 10.948973924528271,\n        \"min\": 0.0,\n        \"max\": 19.99,\n        \"num_unique_values\": 2,\n        \"samples\": [\n          19.99\n        ],\n        \"semantic_type\": \"\",\n        \"description\": \"\"\n      }\n    },\n    {\n      \"column\": \"Wochentag\",\n      \"properties\": {\n        \"dtype\": \"int32\",\n        \"num_unique_values\": 5,\n        \"samples\": [\n          0\n        ],\n        \"semantic_type\": \"\",\n        \"description\": \"\"\n      }\n    },\n    {\n      \"column\": \"Monat\",\n      \"properties\": {\n        \"dtype\": \"int32\",\n        \"num_unique_values\": 1,\n        \"samples\": [\n          10\n        ],\n        \"semantic_type\": \"\",\n        \"description\": \"\"\n      }\n    },\n    {\n      \"column\": \"Woche\",\n      \"properties\": {\n        \"dtype\": \"UInt32\",\n        \"num_unique_values\": 2,\n        \"samples\": [\n          42\n        ],\n        \"semantic_type\": \"\",\n        \"description\": \"\"\n      }\n    },\n    {\n      \"column\": \"Stueckpreis\",\n      \"properties\": {\n        \"dtype\": \"number\",\n        \"std\": 0.0,\n        \"min\": 19.99,\n        \"max\": 19.99,\n        \"num_unique_values\": 1,\n        \"samples\": [\n          19.99\n        ],\n        \"semantic_type\": \"\",\n        \"description\": \"\"\n      }\n    }\n  ]\n}"
            }
          },
          "metadata": {},
          "execution_count": 32
        }
      ]
    },
    {
      "cell_type": "code",
      "source": [
        "# Nicht-verfügbare Preise \"nach vorne\" auffüllen (forward-fill = ffill)\n",
        "data.sort_values(by=[\"Produkt\",\"Datum\"], inplace=True)\n",
        "data['Stueckpreis'] = data.groupby('Produkt')['Stueckpreis'].ffill()"
      ],
      "metadata": {
        "id": "tCgquOCgyht8"
      },
      "id": "tCgquOCgyht8",
      "execution_count": 33,
      "outputs": []
    },
    {
      "cell_type": "code",
      "source": [
        "# Weitere preisliche Features (wir nehmen an, dass es eine Preisplanung gibt, wenn wir die Prognose machen)\n",
        "\n",
        "# Wie ist der aktuelle Preis im Vergleich zum Median-Preis\n",
        "absatz_tag[\"Preismomentum\"] = absatz_tag.groupby(\"Produkt\")[\"Stueckpreis\"].transform(lambda x: x.median() - x)\n",
        "\n",
        "# Haben die Preise der letzten Tage einen Einfluss auf die aktuelle Nachfrage?\n",
        "absatz_tag[\"Preis_shift_1\"] = absatz_tag.groupby(\"Produkt\")[\"Stueckpreis\"].transform(lambda x: x.shift(1))\n",
        "absatz_tag[\"Preis_shift_2\"] = absatz_tag.groupby(\"Produkt\")[\"Stueckpreis\"].transform(lambda x: x.shift(2))\n",
        "absatz_tag[\"Preis_shift_3\"] = absatz_tag.groupby(\"Produkt\")[\"Stueckpreis\"].transform(lambda x: x.shift(3))\n",
        "absatz_tag[\"Preis_shift_4\"] = absatz_tag.groupby(\"Produkt\")[\"Stueckpreis\"].transform(lambda x: x.shift(4))\n",
        "absatz_tag[\"Preis_shift_5\"] = absatz_tag.groupby(\"Produkt\")[\"Stueckpreis\"].transform(lambda x: x.shift(5))\n",
        "\n",
        "# es gäbe noch viele weitere Features"
      ],
      "metadata": {
        "id": "gQJl3WPSAxDz"
      },
      "id": "gQJl3WPSAxDz",
      "execution_count": 34,
      "outputs": []
    },
    {
      "cell_type": "code",
      "source": [
        "absatz_tag[absatz_tag.Produkt==\"Alaunstein\"].tail()"
      ],
      "metadata": {
        "id": "I6I9w7zCCwq4",
        "colab": {
          "base_uri": "https://localhost:8080/",
          "height": 496
        },
        "outputId": "5459fd1c-51d0-4786-ed45-0ad8323a6268"
      },
      "id": "I6I9w7zCCwq4",
      "execution_count": 35,
      "outputs": [
        {
          "output_type": "execute_result",
          "data": {
            "text/plain": [
              "          Datum     Produkt  Nettomenge  Bruttoumsatz Jahr-Monat  Monat  \\\n",
              "2503 2022-10-16  Alaunstein           5     39.960000    2022-10     10   \n",
              "2506 2022-10-17  Alaunstein           5     49.930000    2022-10     10   \n",
              "2509 2022-10-18  Alaunstein           2     19.970000    2022-10     10   \n",
              "2512 2022-10-19  Alaunstein           1      9.990000    2022-10     10   \n",
              "2515 2022-10-20  Alaunstein           5     49.949997    2022-10     10   \n",
              "\n",
              "      Woche  Wochentag  Stueckpreis             Jahr-Woche  Preismomentum  \\\n",
              "2503     41          6     7.992000  2022-10-10/2022-10-16       1.996571   \n",
              "2506     42          0     9.986000  2022-10-17/2022-10-23       0.002571   \n",
              "2509     42          1     9.985000  2022-10-17/2022-10-23       0.003571   \n",
              "2512     42          2     9.990000  2022-10-17/2022-10-23      -0.001429   \n",
              "2515     42          3     9.989999  2022-10-17/2022-10-23      -0.001428   \n",
              "\n",
              "      Preis_shift_1  Preis_shift_2  Preis_shift_3  Preis_shift_4  \\\n",
              "2503       9.986667            NaN            NaN       9.980000   \n",
              "2506       7.992000       9.986667            NaN            NaN   \n",
              "2509       9.986000       7.992000       9.986667            NaN   \n",
              "2512       9.985000       9.986000       7.992000       9.986667   \n",
              "2515       9.990000       9.985000       9.986000       7.992000   \n",
              "\n",
              "      Preis_shift_5  \n",
              "2503       9.986667  \n",
              "2506       9.980000  \n",
              "2509            NaN  \n",
              "2512            NaN  \n",
              "2515       9.986667  "
            ],
            "text/html": [
              "\n",
              "  <div id=\"df-396b59e7-e731-4df0-a2ad-037a7007a171\" class=\"colab-df-container\">\n",
              "    <div>\n",
              "<style scoped>\n",
              "    .dataframe tbody tr th:only-of-type {\n",
              "        vertical-align: middle;\n",
              "    }\n",
              "\n",
              "    .dataframe tbody tr th {\n",
              "        vertical-align: top;\n",
              "    }\n",
              "\n",
              "    .dataframe thead th {\n",
              "        text-align: right;\n",
              "    }\n",
              "</style>\n",
              "<table border=\"1\" class=\"dataframe\">\n",
              "  <thead>\n",
              "    <tr style=\"text-align: right;\">\n",
              "      <th></th>\n",
              "      <th>Datum</th>\n",
              "      <th>Produkt</th>\n",
              "      <th>Nettomenge</th>\n",
              "      <th>Bruttoumsatz</th>\n",
              "      <th>Jahr-Monat</th>\n",
              "      <th>Monat</th>\n",
              "      <th>Woche</th>\n",
              "      <th>Wochentag</th>\n",
              "      <th>Stueckpreis</th>\n",
              "      <th>Jahr-Woche</th>\n",
              "      <th>Preismomentum</th>\n",
              "      <th>Preis_shift_1</th>\n",
              "      <th>Preis_shift_2</th>\n",
              "      <th>Preis_shift_3</th>\n",
              "      <th>Preis_shift_4</th>\n",
              "      <th>Preis_shift_5</th>\n",
              "    </tr>\n",
              "  </thead>\n",
              "  <tbody>\n",
              "    <tr>\n",
              "      <th>2503</th>\n",
              "      <td>2022-10-16</td>\n",
              "      <td>Alaunstein</td>\n",
              "      <td>5</td>\n",
              "      <td>39.960000</td>\n",
              "      <td>2022-10</td>\n",
              "      <td>10</td>\n",
              "      <td>41</td>\n",
              "      <td>6</td>\n",
              "      <td>7.992000</td>\n",
              "      <td>2022-10-10/2022-10-16</td>\n",
              "      <td>1.996571</td>\n",
              "      <td>9.986667</td>\n",
              "      <td>NaN</td>\n",
              "      <td>NaN</td>\n",
              "      <td>9.980000</td>\n",
              "      <td>9.986667</td>\n",
              "    </tr>\n",
              "    <tr>\n",
              "      <th>2506</th>\n",
              "      <td>2022-10-17</td>\n",
              "      <td>Alaunstein</td>\n",
              "      <td>5</td>\n",
              "      <td>49.930000</td>\n",
              "      <td>2022-10</td>\n",
              "      <td>10</td>\n",
              "      <td>42</td>\n",
              "      <td>0</td>\n",
              "      <td>9.986000</td>\n",
              "      <td>2022-10-17/2022-10-23</td>\n",
              "      <td>0.002571</td>\n",
              "      <td>7.992000</td>\n",
              "      <td>9.986667</td>\n",
              "      <td>NaN</td>\n",
              "      <td>NaN</td>\n",
              "      <td>9.980000</td>\n",
              "    </tr>\n",
              "    <tr>\n",
              "      <th>2509</th>\n",
              "      <td>2022-10-18</td>\n",
              "      <td>Alaunstein</td>\n",
              "      <td>2</td>\n",
              "      <td>19.970000</td>\n",
              "      <td>2022-10</td>\n",
              "      <td>10</td>\n",
              "      <td>42</td>\n",
              "      <td>1</td>\n",
              "      <td>9.985000</td>\n",
              "      <td>2022-10-17/2022-10-23</td>\n",
              "      <td>0.003571</td>\n",
              "      <td>9.986000</td>\n",
              "      <td>7.992000</td>\n",
              "      <td>9.986667</td>\n",
              "      <td>NaN</td>\n",
              "      <td>NaN</td>\n",
              "    </tr>\n",
              "    <tr>\n",
              "      <th>2512</th>\n",
              "      <td>2022-10-19</td>\n",
              "      <td>Alaunstein</td>\n",
              "      <td>1</td>\n",
              "      <td>9.990000</td>\n",
              "      <td>2022-10</td>\n",
              "      <td>10</td>\n",
              "      <td>42</td>\n",
              "      <td>2</td>\n",
              "      <td>9.990000</td>\n",
              "      <td>2022-10-17/2022-10-23</td>\n",
              "      <td>-0.001429</td>\n",
              "      <td>9.985000</td>\n",
              "      <td>9.986000</td>\n",
              "      <td>7.992000</td>\n",
              "      <td>9.986667</td>\n",
              "      <td>NaN</td>\n",
              "    </tr>\n",
              "    <tr>\n",
              "      <th>2515</th>\n",
              "      <td>2022-10-20</td>\n",
              "      <td>Alaunstein</td>\n",
              "      <td>5</td>\n",
              "      <td>49.949997</td>\n",
              "      <td>2022-10</td>\n",
              "      <td>10</td>\n",
              "      <td>42</td>\n",
              "      <td>3</td>\n",
              "      <td>9.989999</td>\n",
              "      <td>2022-10-17/2022-10-23</td>\n",
              "      <td>-0.001428</td>\n",
              "      <td>9.990000</td>\n",
              "      <td>9.985000</td>\n",
              "      <td>9.986000</td>\n",
              "      <td>7.992000</td>\n",
              "      <td>9.986667</td>\n",
              "    </tr>\n",
              "  </tbody>\n",
              "</table>\n",
              "</div>\n",
              "    <div class=\"colab-df-buttons\">\n",
              "\n",
              "  <div class=\"colab-df-container\">\n",
              "    <button class=\"colab-df-convert\" onclick=\"convertToInteractive('df-396b59e7-e731-4df0-a2ad-037a7007a171')\"\n",
              "            title=\"Convert this dataframe to an interactive table.\"\n",
              "            style=\"display:none;\">\n",
              "\n",
              "  <svg xmlns=\"http://www.w3.org/2000/svg\" height=\"24px\" viewBox=\"0 -960 960 960\">\n",
              "    <path d=\"M120-120v-720h720v720H120Zm60-500h600v-160H180v160Zm220 220h160v-160H400v160Zm0 220h160v-160H400v160ZM180-400h160v-160H180v160Zm440 0h160v-160H620v160ZM180-180h160v-160H180v160Zm440 0h160v-160H620v160Z\"/>\n",
              "  </svg>\n",
              "    </button>\n",
              "\n",
              "  <style>\n",
              "    .colab-df-container {\n",
              "      display:flex;\n",
              "      gap: 12px;\n",
              "    }\n",
              "\n",
              "    .colab-df-convert {\n",
              "      background-color: #E8F0FE;\n",
              "      border: none;\n",
              "      border-radius: 50%;\n",
              "      cursor: pointer;\n",
              "      display: none;\n",
              "      fill: #1967D2;\n",
              "      height: 32px;\n",
              "      padding: 0 0 0 0;\n",
              "      width: 32px;\n",
              "    }\n",
              "\n",
              "    .colab-df-convert:hover {\n",
              "      background-color: #E2EBFA;\n",
              "      box-shadow: 0px 1px 2px rgba(60, 64, 67, 0.3), 0px 1px 3px 1px rgba(60, 64, 67, 0.15);\n",
              "      fill: #174EA6;\n",
              "    }\n",
              "\n",
              "    .colab-df-buttons div {\n",
              "      margin-bottom: 4px;\n",
              "    }\n",
              "\n",
              "    [theme=dark] .colab-df-convert {\n",
              "      background-color: #3B4455;\n",
              "      fill: #D2E3FC;\n",
              "    }\n",
              "\n",
              "    [theme=dark] .colab-df-convert:hover {\n",
              "      background-color: #434B5C;\n",
              "      box-shadow: 0px 1px 3px 1px rgba(0, 0, 0, 0.15);\n",
              "      filter: drop-shadow(0px 1px 2px rgba(0, 0, 0, 0.3));\n",
              "      fill: #FFFFFF;\n",
              "    }\n",
              "  </style>\n",
              "\n",
              "    <script>\n",
              "      const buttonEl =\n",
              "        document.querySelector('#df-396b59e7-e731-4df0-a2ad-037a7007a171 button.colab-df-convert');\n",
              "      buttonEl.style.display =\n",
              "        google.colab.kernel.accessAllowed ? 'block' : 'none';\n",
              "\n",
              "      async function convertToInteractive(key) {\n",
              "        const element = document.querySelector('#df-396b59e7-e731-4df0-a2ad-037a7007a171');\n",
              "        const dataTable =\n",
              "          await google.colab.kernel.invokeFunction('convertToInteractive',\n",
              "                                                    [key], {});\n",
              "        if (!dataTable) return;\n",
              "\n",
              "        const docLinkHtml = 'Like what you see? Visit the ' +\n",
              "          '<a target=\"_blank\" href=https://colab.research.google.com/notebooks/data_table.ipynb>data table notebook</a>'\n",
              "          + ' to learn more about interactive tables.';\n",
              "        element.innerHTML = '';\n",
              "        dataTable['output_type'] = 'display_data';\n",
              "        await google.colab.output.renderOutput(dataTable, element);\n",
              "        const docLink = document.createElement('div');\n",
              "        docLink.innerHTML = docLinkHtml;\n",
              "        element.appendChild(docLink);\n",
              "      }\n",
              "    </script>\n",
              "  </div>\n",
              "\n",
              "\n",
              "<div id=\"df-e1d79f6a-f95d-46bf-b8ed-b1fe1a2b27cb\">\n",
              "  <button class=\"colab-df-quickchart\" onclick=\"quickchart('df-e1d79f6a-f95d-46bf-b8ed-b1fe1a2b27cb')\"\n",
              "            title=\"Suggest charts\"\n",
              "            style=\"display:none;\">\n",
              "\n",
              "<svg xmlns=\"http://www.w3.org/2000/svg\" height=\"24px\"viewBox=\"0 0 24 24\"\n",
              "     width=\"24px\">\n",
              "    <g>\n",
              "        <path d=\"M19 3H5c-1.1 0-2 .9-2 2v14c0 1.1.9 2 2 2h14c1.1 0 2-.9 2-2V5c0-1.1-.9-2-2-2zM9 17H7v-7h2v7zm4 0h-2V7h2v10zm4 0h-2v-4h2v4z\"/>\n",
              "    </g>\n",
              "</svg>\n",
              "  </button>\n",
              "\n",
              "<style>\n",
              "  .colab-df-quickchart {\n",
              "      --bg-color: #E8F0FE;\n",
              "      --fill-color: #1967D2;\n",
              "      --hover-bg-color: #E2EBFA;\n",
              "      --hover-fill-color: #174EA6;\n",
              "      --disabled-fill-color: #AAA;\n",
              "      --disabled-bg-color: #DDD;\n",
              "  }\n",
              "\n",
              "  [theme=dark] .colab-df-quickchart {\n",
              "      --bg-color: #3B4455;\n",
              "      --fill-color: #D2E3FC;\n",
              "      --hover-bg-color: #434B5C;\n",
              "      --hover-fill-color: #FFFFFF;\n",
              "      --disabled-bg-color: #3B4455;\n",
              "      --disabled-fill-color: #666;\n",
              "  }\n",
              "\n",
              "  .colab-df-quickchart {\n",
              "    background-color: var(--bg-color);\n",
              "    border: none;\n",
              "    border-radius: 50%;\n",
              "    cursor: pointer;\n",
              "    display: none;\n",
              "    fill: var(--fill-color);\n",
              "    height: 32px;\n",
              "    padding: 0;\n",
              "    width: 32px;\n",
              "  }\n",
              "\n",
              "  .colab-df-quickchart:hover {\n",
              "    background-color: var(--hover-bg-color);\n",
              "    box-shadow: 0 1px 2px rgba(60, 64, 67, 0.3), 0 1px 3px 1px rgba(60, 64, 67, 0.15);\n",
              "    fill: var(--button-hover-fill-color);\n",
              "  }\n",
              "\n",
              "  .colab-df-quickchart-complete:disabled,\n",
              "  .colab-df-quickchart-complete:disabled:hover {\n",
              "    background-color: var(--disabled-bg-color);\n",
              "    fill: var(--disabled-fill-color);\n",
              "    box-shadow: none;\n",
              "  }\n",
              "\n",
              "  .colab-df-spinner {\n",
              "    border: 2px solid var(--fill-color);\n",
              "    border-color: transparent;\n",
              "    border-bottom-color: var(--fill-color);\n",
              "    animation:\n",
              "      spin 1s steps(1) infinite;\n",
              "  }\n",
              "\n",
              "  @keyframes spin {\n",
              "    0% {\n",
              "      border-color: transparent;\n",
              "      border-bottom-color: var(--fill-color);\n",
              "      border-left-color: var(--fill-color);\n",
              "    }\n",
              "    20% {\n",
              "      border-color: transparent;\n",
              "      border-left-color: var(--fill-color);\n",
              "      border-top-color: var(--fill-color);\n",
              "    }\n",
              "    30% {\n",
              "      border-color: transparent;\n",
              "      border-left-color: var(--fill-color);\n",
              "      border-top-color: var(--fill-color);\n",
              "      border-right-color: var(--fill-color);\n",
              "    }\n",
              "    40% {\n",
              "      border-color: transparent;\n",
              "      border-right-color: var(--fill-color);\n",
              "      border-top-color: var(--fill-color);\n",
              "    }\n",
              "    60% {\n",
              "      border-color: transparent;\n",
              "      border-right-color: var(--fill-color);\n",
              "    }\n",
              "    80% {\n",
              "      border-color: transparent;\n",
              "      border-right-color: var(--fill-color);\n",
              "      border-bottom-color: var(--fill-color);\n",
              "    }\n",
              "    90% {\n",
              "      border-color: transparent;\n",
              "      border-bottom-color: var(--fill-color);\n",
              "    }\n",
              "  }\n",
              "</style>\n",
              "\n",
              "  <script>\n",
              "    async function quickchart(key) {\n",
              "      const quickchartButtonEl =\n",
              "        document.querySelector('#' + key + ' button');\n",
              "      quickchartButtonEl.disabled = true;  // To prevent multiple clicks.\n",
              "      quickchartButtonEl.classList.add('colab-df-spinner');\n",
              "      try {\n",
              "        const charts = await google.colab.kernel.invokeFunction(\n",
              "            'suggestCharts', [key], {});\n",
              "      } catch (error) {\n",
              "        console.error('Error during call to suggestCharts:', error);\n",
              "      }\n",
              "      quickchartButtonEl.classList.remove('colab-df-spinner');\n",
              "      quickchartButtonEl.classList.add('colab-df-quickchart-complete');\n",
              "    }\n",
              "    (() => {\n",
              "      let quickchartButtonEl =\n",
              "        document.querySelector('#df-e1d79f6a-f95d-46bf-b8ed-b1fe1a2b27cb button');\n",
              "      quickchartButtonEl.style.display =\n",
              "        google.colab.kernel.accessAllowed ? 'block' : 'none';\n",
              "    })();\n",
              "  </script>\n",
              "</div>\n",
              "\n",
              "    </div>\n",
              "  </div>\n"
            ],
            "application/vnd.google.colaboratory.intrinsic+json": {
              "type": "dataframe",
              "summary": "{\n  \"name\": \"absatz_tag[absatz_tag\",\n  \"rows\": 5,\n  \"fields\": [\n    {\n      \"column\": \"Datum\",\n      \"properties\": {\n        \"dtype\": \"date\",\n        \"min\": \"2022-10-16 00:00:00\",\n        \"max\": \"2022-10-20 00:00:00\",\n        \"num_unique_values\": 5,\n        \"samples\": [\n          \"2022-10-17 00:00:00\",\n          \"2022-10-20 00:00:00\",\n          \"2022-10-18 00:00:00\"\n        ],\n        \"semantic_type\": \"\",\n        \"description\": \"\"\n      }\n    },\n    {\n      \"column\": \"Produkt\",\n      \"properties\": {\n        \"dtype\": \"category\",\n        \"num_unique_values\": 1,\n        \"samples\": [\n          \"Alaunstein\"\n        ],\n        \"semantic_type\": \"\",\n        \"description\": \"\"\n      }\n    },\n    {\n      \"column\": \"Nettomenge\",\n      \"properties\": {\n        \"dtype\": \"number\",\n        \"std\": 1,\n        \"min\": 1,\n        \"max\": 5,\n        \"num_unique_values\": 3,\n        \"samples\": [\n          5\n        ],\n        \"semantic_type\": \"\",\n        \"description\": \"\"\n      }\n    },\n    {\n      \"column\": \"Bruttoumsatz\",\n      \"properties\": {\n        \"dtype\": \"number\",\n        \"std\": 18.14526042841496,\n        \"min\": 9.99,\n        \"max\": 49.949997,\n        \"num_unique_values\": 5,\n        \"samples\": [\n          49.93\n        ],\n        \"semantic_type\": \"\",\n        \"description\": \"\"\n      }\n    },\n    {\n      \"column\": \"Jahr-Monat\",\n      \"properties\": {\n        \"dtype\": \"period[M]\",\n        \"num_unique_values\": 1,\n        \"samples\": [\n          \"2022-10\"\n        ],\n        \"semantic_type\": \"\",\n        \"description\": \"\"\n      }\n    },\n    {\n      \"column\": \"Monat\",\n      \"properties\": {\n        \"dtype\": \"int32\",\n        \"num_unique_values\": 1,\n        \"samples\": [\n          10\n        ],\n        \"semantic_type\": \"\",\n        \"description\": \"\"\n      }\n    },\n    {\n      \"column\": \"Woche\",\n      \"properties\": {\n        \"dtype\": \"UInt32\",\n        \"num_unique_values\": 2,\n        \"samples\": [\n          42\n        ],\n        \"semantic_type\": \"\",\n        \"description\": \"\"\n      }\n    },\n    {\n      \"column\": \"Wochentag\",\n      \"properties\": {\n        \"dtype\": \"int32\",\n        \"num_unique_values\": 5,\n        \"samples\": [\n          0\n        ],\n        \"semantic_type\": \"\",\n        \"description\": \"\"\n      }\n    },\n    {\n      \"column\": \"Stueckpreis\",\n      \"properties\": {\n        \"dtype\": \"number\",\n        \"std\": 0.892529371830458,\n        \"min\": 7.992,\n        \"max\": 9.99,\n        \"num_unique_values\": 5,\n        \"samples\": [\n          9.986\n        ],\n        \"semantic_type\": \"\",\n        \"description\": \"\"\n      }\n    },\n    {\n      \"column\": \"Jahr-Woche\",\n      \"properties\": {\n        \"dtype\": \"period[W-SUN]\",\n        \"num_unique_values\": 2,\n        \"samples\": [\n          \"2022-10-17/2022-10-23\"\n        ],\n        \"semantic_type\": \"\",\n        \"description\": \"\"\n      }\n    },\n    {\n      \"column\": \"Preismomentum\",\n      \"properties\": {\n        \"dtype\": \"number\",\n        \"std\": 0.8925293718304581,\n        \"min\": -0.0014285714285708906,\n        \"max\": 1.9965714285714293,\n        \"num_unique_values\": 5,\n        \"samples\": [\n          0.002571428571428669\n        ],\n        \"semantic_type\": \"\",\n        \"description\": \"\"\n      }\n    },\n    {\n      \"column\": \"Preis_shift_1\",\n      \"properties\": {\n        \"dtype\": \"number\",\n        \"std\": 0.8921558284415465,\n        \"min\": 7.992,\n        \"max\": 9.99,\n        \"num_unique_values\": 5,\n        \"samples\": [\n          7.992\n        ],\n        \"semantic_type\": \"\",\n        \"description\": \"\"\n      }\n    },\n    {\n      \"column\": \"Preis_shift_2\",\n      \"properties\": {\n        \"dtype\": \"number\",\n        \"std\": 0.9969446797312499,\n        \"min\": 7.992,\n        \"max\": 9.986666666666666,\n        \"num_unique_values\": 4,\n        \"samples\": [\n          7.992\n        ],\n        \"semantic_type\": \"\",\n        \"description\": \"\"\n      }\n    },\n    {\n      \"column\": \"Preis_shift_3\",\n      \"properties\": {\n        \"dtype\": \"number\",\n        \"std\": 1.1514289351030713,\n        \"min\": 7.992,\n        \"max\": 9.986666666666666,\n        \"num_unique_values\": 3,\n        \"samples\": [\n          9.986666666666666\n        ],\n        \"semantic_type\": \"\",\n        \"description\": \"\"\n      }\n    },\n    {\n      \"column\": \"Preis_shift_4\",\n      \"properties\": {\n        \"dtype\": \"number\",\n        \"std\": 1.1497016682278607,\n        \"min\": 7.992,\n        \"max\": 9.986666666666666,\n        \"num_unique_values\": 3,\n        \"samples\": [\n          9.98\n        ],\n        \"semantic_type\": \"\",\n        \"description\": \"\"\n      }\n    },\n    {\n      \"column\": \"Preis_shift_5\",\n      \"properties\": {\n        \"dtype\": \"number\",\n        \"std\": 0.003849001794597081,\n        \"min\": 9.98,\n        \"max\": 9.986666666666666,\n        \"num_unique_values\": 2,\n        \"samples\": [\n          9.98\n        ],\n        \"semantic_type\": \"\",\n        \"description\": \"\"\n      }\n    }\n  ]\n}"
            }
          },
          "metadata": {},
          "execution_count": 35
        }
      ]
    },
    {
      "cell_type": "code",
      "source": [
        "absatz_tag.dropna(inplace=True)"
      ],
      "metadata": {
        "id": "2qVnNuTihNPS"
      },
      "id": "2qVnNuTihNPS",
      "execution_count": 36,
      "outputs": []
    },
    {
      "cell_type": "code",
      "source": [
        "absatz_tag.groupby(\"Produkt\")[\"Datum\"].count()"
      ],
      "metadata": {
        "id": "QZdaNi2oyKTu",
        "colab": {
          "base_uri": "https://localhost:8080/",
          "height": 207
        },
        "outputId": "50d27259-8de5-4e96-f2f9-511b25f17e49"
      },
      "id": "QZdaNi2oyKTu",
      "execution_count": 37,
      "outputs": [
        {
          "output_type": "execute_result",
          "data": {
            "text/plain": [
              "Produkt\n",
              "Alaunstein         584\n",
              "Bartbalm Crusoe     77\n",
              "Rasierer           558\n",
              "Name: Datum, dtype: int64"
            ],
            "text/html": [
              "<div>\n",
              "<style scoped>\n",
              "    .dataframe tbody tr th:only-of-type {\n",
              "        vertical-align: middle;\n",
              "    }\n",
              "\n",
              "    .dataframe tbody tr th {\n",
              "        vertical-align: top;\n",
              "    }\n",
              "\n",
              "    .dataframe thead th {\n",
              "        text-align: right;\n",
              "    }\n",
              "</style>\n",
              "<table border=\"1\" class=\"dataframe\">\n",
              "  <thead>\n",
              "    <tr style=\"text-align: right;\">\n",
              "      <th></th>\n",
              "      <th>Datum</th>\n",
              "    </tr>\n",
              "    <tr>\n",
              "      <th>Produkt</th>\n",
              "      <th></th>\n",
              "    </tr>\n",
              "  </thead>\n",
              "  <tbody>\n",
              "    <tr>\n",
              "      <th>Alaunstein</th>\n",
              "      <td>584</td>\n",
              "    </tr>\n",
              "    <tr>\n",
              "      <th>Bartbalm Crusoe</th>\n",
              "      <td>77</td>\n",
              "    </tr>\n",
              "    <tr>\n",
              "      <th>Rasierer</th>\n",
              "      <td>558</td>\n",
              "    </tr>\n",
              "  </tbody>\n",
              "</table>\n",
              "</div><br><label><b>dtype:</b> int64</label>"
            ]
          },
          "metadata": {},
          "execution_count": 37
        }
      ]
    },
    {
      "cell_type": "code",
      "source": [
        "absatz_tag.Produkt.unique()"
      ],
      "metadata": {
        "id": "qpjg8M5-q7pm",
        "colab": {
          "base_uri": "https://localhost:8080/"
        },
        "outputId": "f3677261-4273-4717-99fc-2df18d5b6818"
      },
      "id": "qpjg8M5-q7pm",
      "execution_count": 38,
      "outputs": [
        {
          "output_type": "execute_result",
          "data": {
            "text/plain": [
              "array(['Alaunstein', 'Rasierer', 'Bartbalm Crusoe'], dtype=object)"
            ]
          },
          "metadata": {},
          "execution_count": 38
        }
      ]
    },
    {
      "cell_type": "code",
      "source": [
        "absatz_tag.columns"
      ],
      "metadata": {
        "id": "NLQhPHvRTsHH",
        "colab": {
          "base_uri": "https://localhost:8080/"
        },
        "outputId": "7880bd64-48a6-4f1f-8a3a-920f599ffd54"
      },
      "id": "NLQhPHvRTsHH",
      "execution_count": 39,
      "outputs": [
        {
          "output_type": "execute_result",
          "data": {
            "text/plain": [
              "Index(['Datum', 'Produkt', 'Nettomenge', 'Bruttoumsatz', 'Jahr-Monat', 'Monat',\n",
              "       'Woche', 'Wochentag', 'Stueckpreis', 'Jahr-Woche', 'Preismomentum',\n",
              "       'Preis_shift_1', 'Preis_shift_2', 'Preis_shift_3', 'Preis_shift_4',\n",
              "       'Preis_shift_5'],\n",
              "      dtype='object')"
            ]
          },
          "metadata": {},
          "execution_count": 39
        }
      ]
    },
    {
      "cell_type": "code",
      "source": [
        "FEATURES = [\n",
        "    \"Produkt\",\"Monat\",\"Woche\",\"Wochentag\", \"Stueckpreis\",\n",
        "    'Preismomentum', 'Preis_shift_1', 'Preis_shift_2', 'Preis_shift_3',\n",
        "    'Preis_shift_4', 'Preis_shift_5'\n",
        "    ]"
      ],
      "metadata": {
        "id": "bb-u4IP4Ts_T"
      },
      "id": "bb-u4IP4Ts_T",
      "execution_count": 40,
      "outputs": []
    },
    {
      "cell_type": "code",
      "source": [
        "TARGET = \"Nettomenge\""
      ],
      "metadata": {
        "id": "GVeW8NG9UIjz"
      },
      "id": "GVeW8NG9UIjz",
      "execution_count": 41,
      "outputs": []
    },
    {
      "cell_type": "markdown",
      "source": [
        "# 5 Prognosemodell trainieren und bewerten\n",
        "Versuchen Sie ein Modell auf die Daten zu trainieren. Testen Sie verschiedene Modellparameter mithilfe einer Grid Search und Cross-Validation."
      ],
      "metadata": {
        "id": "DPsP-biHvf30"
      },
      "id": "DPsP-biHvf30"
    },
    {
      "cell_type": "markdown",
      "source": [
        "### 5.1 Produkte als Feature (Ein Prognosemodell für alle Produkte)"
      ],
      "metadata": {
        "id": "M8XidCnLWBia"
      },
      "id": "M8XidCnLWBia"
    },
    {
      "cell_type": "code",
      "source": [
        "# Features und target\n",
        "X = absatz_tag.set_index(\"Produkt\", drop=False)[FEATURES]\n",
        "y = absatz_tag.set_index(\"Produkt\", drop=False)[TARGET]"
      ],
      "metadata": {
        "id": "ItBn1zGOvsJj"
      },
      "id": "ItBn1zGOvsJj",
      "execution_count": 42,
      "outputs": []
    },
    {
      "cell_type": "code",
      "source": [
        "X = pd.get_dummies(X)"
      ],
      "metadata": {
        "id": "W545lqHzsNvj"
      },
      "id": "W545lqHzsNvj",
      "execution_count": 43,
      "outputs": []
    },
    {
      "cell_type": "code",
      "source": [
        "X.tail()"
      ],
      "metadata": {
        "id": "QKjDn0C3sWl4",
        "colab": {
          "base_uri": "https://localhost:8080/",
          "height": 272
        },
        "outputId": "ac5703ac-1615-4b4c-d232-5825ed24625f"
      },
      "id": "QKjDn0C3sWl4",
      "execution_count": 44,
      "outputs": [
        {
          "output_type": "execute_result",
          "data": {
            "text/plain": [
              "            Monat  Woche  Wochentag  Stueckpreis  Preismomentum  \\\n",
              "Produkt                                                           \n",
              "Rasierer       10     42          0    34.990000      -5.000000   \n",
              "Rasierer       10     42          1    34.990000      -5.000000   \n",
              "Rasierer       10     42          2    34.990001      -5.000001   \n",
              "Alaunstein     10     42          3     9.989999      -0.001428   \n",
              "Rasierer       10     42          3    34.986670      -4.996670   \n",
              "\n",
              "            Preis_shift_1  Preis_shift_2  Preis_shift_3  Preis_shift_4  \\\n",
              "Produkt                                                                  \n",
              "Rasierer        34.990000         34.990         34.990         34.990   \n",
              "Rasierer        34.990000         34.990         34.990         34.990   \n",
              "Rasierer        34.990000         34.990         34.990         34.990   \n",
              "Alaunstein       9.990000          9.985          9.986          7.992   \n",
              "Rasierer        34.990001         34.990         34.990         34.990   \n",
              "\n",
              "            Preis_shift_5  Produkt_Alaunstein  Produkt_Bartbalm Crusoe  \\\n",
              "Produkt                                                                  \n",
              "Rasierer        34.990002               False                    False   \n",
              "Rasierer        34.990000               False                    False   \n",
              "Rasierer        34.990000               False                    False   \n",
              "Alaunstein       9.986667                True                    False   \n",
              "Rasierer        34.990000               False                    False   \n",
              "\n",
              "            Produkt_Rasierer  \n",
              "Produkt                       \n",
              "Rasierer                True  \n",
              "Rasierer                True  \n",
              "Rasierer                True  \n",
              "Alaunstein             False  \n",
              "Rasierer                True  "
            ],
            "text/html": [
              "\n",
              "  <div id=\"df-e7f424ba-4903-4900-a68e-777d59f123e6\" class=\"colab-df-container\">\n",
              "    <div>\n",
              "<style scoped>\n",
              "    .dataframe tbody tr th:only-of-type {\n",
              "        vertical-align: middle;\n",
              "    }\n",
              "\n",
              "    .dataframe tbody tr th {\n",
              "        vertical-align: top;\n",
              "    }\n",
              "\n",
              "    .dataframe thead th {\n",
              "        text-align: right;\n",
              "    }\n",
              "</style>\n",
              "<table border=\"1\" class=\"dataframe\">\n",
              "  <thead>\n",
              "    <tr style=\"text-align: right;\">\n",
              "      <th></th>\n",
              "      <th>Monat</th>\n",
              "      <th>Woche</th>\n",
              "      <th>Wochentag</th>\n",
              "      <th>Stueckpreis</th>\n",
              "      <th>Preismomentum</th>\n",
              "      <th>Preis_shift_1</th>\n",
              "      <th>Preis_shift_2</th>\n",
              "      <th>Preis_shift_3</th>\n",
              "      <th>Preis_shift_4</th>\n",
              "      <th>Preis_shift_5</th>\n",
              "      <th>Produkt_Alaunstein</th>\n",
              "      <th>Produkt_Bartbalm Crusoe</th>\n",
              "      <th>Produkt_Rasierer</th>\n",
              "    </tr>\n",
              "    <tr>\n",
              "      <th>Produkt</th>\n",
              "      <th></th>\n",
              "      <th></th>\n",
              "      <th></th>\n",
              "      <th></th>\n",
              "      <th></th>\n",
              "      <th></th>\n",
              "      <th></th>\n",
              "      <th></th>\n",
              "      <th></th>\n",
              "      <th></th>\n",
              "      <th></th>\n",
              "      <th></th>\n",
              "      <th></th>\n",
              "    </tr>\n",
              "  </thead>\n",
              "  <tbody>\n",
              "    <tr>\n",
              "      <th>Rasierer</th>\n",
              "      <td>10</td>\n",
              "      <td>42</td>\n",
              "      <td>0</td>\n",
              "      <td>34.990000</td>\n",
              "      <td>-5.000000</td>\n",
              "      <td>34.990000</td>\n",
              "      <td>34.990</td>\n",
              "      <td>34.990</td>\n",
              "      <td>34.990</td>\n",
              "      <td>34.990002</td>\n",
              "      <td>False</td>\n",
              "      <td>False</td>\n",
              "      <td>True</td>\n",
              "    </tr>\n",
              "    <tr>\n",
              "      <th>Rasierer</th>\n",
              "      <td>10</td>\n",
              "      <td>42</td>\n",
              "      <td>1</td>\n",
              "      <td>34.990000</td>\n",
              "      <td>-5.000000</td>\n",
              "      <td>34.990000</td>\n",
              "      <td>34.990</td>\n",
              "      <td>34.990</td>\n",
              "      <td>34.990</td>\n",
              "      <td>34.990000</td>\n",
              "      <td>False</td>\n",
              "      <td>False</td>\n",
              "      <td>True</td>\n",
              "    </tr>\n",
              "    <tr>\n",
              "      <th>Rasierer</th>\n",
              "      <td>10</td>\n",
              "      <td>42</td>\n",
              "      <td>2</td>\n",
              "      <td>34.990001</td>\n",
              "      <td>-5.000001</td>\n",
              "      <td>34.990000</td>\n",
              "      <td>34.990</td>\n",
              "      <td>34.990</td>\n",
              "      <td>34.990</td>\n",
              "      <td>34.990000</td>\n",
              "      <td>False</td>\n",
              "      <td>False</td>\n",
              "      <td>True</td>\n",
              "    </tr>\n",
              "    <tr>\n",
              "      <th>Alaunstein</th>\n",
              "      <td>10</td>\n",
              "      <td>42</td>\n",
              "      <td>3</td>\n",
              "      <td>9.989999</td>\n",
              "      <td>-0.001428</td>\n",
              "      <td>9.990000</td>\n",
              "      <td>9.985</td>\n",
              "      <td>9.986</td>\n",
              "      <td>7.992</td>\n",
              "      <td>9.986667</td>\n",
              "      <td>True</td>\n",
              "      <td>False</td>\n",
              "      <td>False</td>\n",
              "    </tr>\n",
              "    <tr>\n",
              "      <th>Rasierer</th>\n",
              "      <td>10</td>\n",
              "      <td>42</td>\n",
              "      <td>3</td>\n",
              "      <td>34.986670</td>\n",
              "      <td>-4.996670</td>\n",
              "      <td>34.990001</td>\n",
              "      <td>34.990</td>\n",
              "      <td>34.990</td>\n",
              "      <td>34.990</td>\n",
              "      <td>34.990000</td>\n",
              "      <td>False</td>\n",
              "      <td>False</td>\n",
              "      <td>True</td>\n",
              "    </tr>\n",
              "  </tbody>\n",
              "</table>\n",
              "</div>\n",
              "    <div class=\"colab-df-buttons\">\n",
              "\n",
              "  <div class=\"colab-df-container\">\n",
              "    <button class=\"colab-df-convert\" onclick=\"convertToInteractive('df-e7f424ba-4903-4900-a68e-777d59f123e6')\"\n",
              "            title=\"Convert this dataframe to an interactive table.\"\n",
              "            style=\"display:none;\">\n",
              "\n",
              "  <svg xmlns=\"http://www.w3.org/2000/svg\" height=\"24px\" viewBox=\"0 -960 960 960\">\n",
              "    <path d=\"M120-120v-720h720v720H120Zm60-500h600v-160H180v160Zm220 220h160v-160H400v160Zm0 220h160v-160H400v160ZM180-400h160v-160H180v160Zm440 0h160v-160H620v160ZM180-180h160v-160H180v160Zm440 0h160v-160H620v160Z\"/>\n",
              "  </svg>\n",
              "    </button>\n",
              "\n",
              "  <style>\n",
              "    .colab-df-container {\n",
              "      display:flex;\n",
              "      gap: 12px;\n",
              "    }\n",
              "\n",
              "    .colab-df-convert {\n",
              "      background-color: #E8F0FE;\n",
              "      border: none;\n",
              "      border-radius: 50%;\n",
              "      cursor: pointer;\n",
              "      display: none;\n",
              "      fill: #1967D2;\n",
              "      height: 32px;\n",
              "      padding: 0 0 0 0;\n",
              "      width: 32px;\n",
              "    }\n",
              "\n",
              "    .colab-df-convert:hover {\n",
              "      background-color: #E2EBFA;\n",
              "      box-shadow: 0px 1px 2px rgba(60, 64, 67, 0.3), 0px 1px 3px 1px rgba(60, 64, 67, 0.15);\n",
              "      fill: #174EA6;\n",
              "    }\n",
              "\n",
              "    .colab-df-buttons div {\n",
              "      margin-bottom: 4px;\n",
              "    }\n",
              "\n",
              "    [theme=dark] .colab-df-convert {\n",
              "      background-color: #3B4455;\n",
              "      fill: #D2E3FC;\n",
              "    }\n",
              "\n",
              "    [theme=dark] .colab-df-convert:hover {\n",
              "      background-color: #434B5C;\n",
              "      box-shadow: 0px 1px 3px 1px rgba(0, 0, 0, 0.15);\n",
              "      filter: drop-shadow(0px 1px 2px rgba(0, 0, 0, 0.3));\n",
              "      fill: #FFFFFF;\n",
              "    }\n",
              "  </style>\n",
              "\n",
              "    <script>\n",
              "      const buttonEl =\n",
              "        document.querySelector('#df-e7f424ba-4903-4900-a68e-777d59f123e6 button.colab-df-convert');\n",
              "      buttonEl.style.display =\n",
              "        google.colab.kernel.accessAllowed ? 'block' : 'none';\n",
              "\n",
              "      async function convertToInteractive(key) {\n",
              "        const element = document.querySelector('#df-e7f424ba-4903-4900-a68e-777d59f123e6');\n",
              "        const dataTable =\n",
              "          await google.colab.kernel.invokeFunction('convertToInteractive',\n",
              "                                                    [key], {});\n",
              "        if (!dataTable) return;\n",
              "\n",
              "        const docLinkHtml = 'Like what you see? Visit the ' +\n",
              "          '<a target=\"_blank\" href=https://colab.research.google.com/notebooks/data_table.ipynb>data table notebook</a>'\n",
              "          + ' to learn more about interactive tables.';\n",
              "        element.innerHTML = '';\n",
              "        dataTable['output_type'] = 'display_data';\n",
              "        await google.colab.output.renderOutput(dataTable, element);\n",
              "        const docLink = document.createElement('div');\n",
              "        docLink.innerHTML = docLinkHtml;\n",
              "        element.appendChild(docLink);\n",
              "      }\n",
              "    </script>\n",
              "  </div>\n",
              "\n",
              "\n",
              "<div id=\"df-47f83411-1579-4925-8048-856de7e0e27e\">\n",
              "  <button class=\"colab-df-quickchart\" onclick=\"quickchart('df-47f83411-1579-4925-8048-856de7e0e27e')\"\n",
              "            title=\"Suggest charts\"\n",
              "            style=\"display:none;\">\n",
              "\n",
              "<svg xmlns=\"http://www.w3.org/2000/svg\" height=\"24px\"viewBox=\"0 0 24 24\"\n",
              "     width=\"24px\">\n",
              "    <g>\n",
              "        <path d=\"M19 3H5c-1.1 0-2 .9-2 2v14c0 1.1.9 2 2 2h14c1.1 0 2-.9 2-2V5c0-1.1-.9-2-2-2zM9 17H7v-7h2v7zm4 0h-2V7h2v10zm4 0h-2v-4h2v4z\"/>\n",
              "    </g>\n",
              "</svg>\n",
              "  </button>\n",
              "\n",
              "<style>\n",
              "  .colab-df-quickchart {\n",
              "      --bg-color: #E8F0FE;\n",
              "      --fill-color: #1967D2;\n",
              "      --hover-bg-color: #E2EBFA;\n",
              "      --hover-fill-color: #174EA6;\n",
              "      --disabled-fill-color: #AAA;\n",
              "      --disabled-bg-color: #DDD;\n",
              "  }\n",
              "\n",
              "  [theme=dark] .colab-df-quickchart {\n",
              "      --bg-color: #3B4455;\n",
              "      --fill-color: #D2E3FC;\n",
              "      --hover-bg-color: #434B5C;\n",
              "      --hover-fill-color: #FFFFFF;\n",
              "      --disabled-bg-color: #3B4455;\n",
              "      --disabled-fill-color: #666;\n",
              "  }\n",
              "\n",
              "  .colab-df-quickchart {\n",
              "    background-color: var(--bg-color);\n",
              "    border: none;\n",
              "    border-radius: 50%;\n",
              "    cursor: pointer;\n",
              "    display: none;\n",
              "    fill: var(--fill-color);\n",
              "    height: 32px;\n",
              "    padding: 0;\n",
              "    width: 32px;\n",
              "  }\n",
              "\n",
              "  .colab-df-quickchart:hover {\n",
              "    background-color: var(--hover-bg-color);\n",
              "    box-shadow: 0 1px 2px rgba(60, 64, 67, 0.3), 0 1px 3px 1px rgba(60, 64, 67, 0.15);\n",
              "    fill: var(--button-hover-fill-color);\n",
              "  }\n",
              "\n",
              "  .colab-df-quickchart-complete:disabled,\n",
              "  .colab-df-quickchart-complete:disabled:hover {\n",
              "    background-color: var(--disabled-bg-color);\n",
              "    fill: var(--disabled-fill-color);\n",
              "    box-shadow: none;\n",
              "  }\n",
              "\n",
              "  .colab-df-spinner {\n",
              "    border: 2px solid var(--fill-color);\n",
              "    border-color: transparent;\n",
              "    border-bottom-color: var(--fill-color);\n",
              "    animation:\n",
              "      spin 1s steps(1) infinite;\n",
              "  }\n",
              "\n",
              "  @keyframes spin {\n",
              "    0% {\n",
              "      border-color: transparent;\n",
              "      border-bottom-color: var(--fill-color);\n",
              "      border-left-color: var(--fill-color);\n",
              "    }\n",
              "    20% {\n",
              "      border-color: transparent;\n",
              "      border-left-color: var(--fill-color);\n",
              "      border-top-color: var(--fill-color);\n",
              "    }\n",
              "    30% {\n",
              "      border-color: transparent;\n",
              "      border-left-color: var(--fill-color);\n",
              "      border-top-color: var(--fill-color);\n",
              "      border-right-color: var(--fill-color);\n",
              "    }\n",
              "    40% {\n",
              "      border-color: transparent;\n",
              "      border-right-color: var(--fill-color);\n",
              "      border-top-color: var(--fill-color);\n",
              "    }\n",
              "    60% {\n",
              "      border-color: transparent;\n",
              "      border-right-color: var(--fill-color);\n",
              "    }\n",
              "    80% {\n",
              "      border-color: transparent;\n",
              "      border-right-color: var(--fill-color);\n",
              "      border-bottom-color: var(--fill-color);\n",
              "    }\n",
              "    90% {\n",
              "      border-color: transparent;\n",
              "      border-bottom-color: var(--fill-color);\n",
              "    }\n",
              "  }\n",
              "</style>\n",
              "\n",
              "  <script>\n",
              "    async function quickchart(key) {\n",
              "      const quickchartButtonEl =\n",
              "        document.querySelector('#' + key + ' button');\n",
              "      quickchartButtonEl.disabled = true;  // To prevent multiple clicks.\n",
              "      quickchartButtonEl.classList.add('colab-df-spinner');\n",
              "      try {\n",
              "        const charts = await google.colab.kernel.invokeFunction(\n",
              "            'suggestCharts', [key], {});\n",
              "      } catch (error) {\n",
              "        console.error('Error during call to suggestCharts:', error);\n",
              "      }\n",
              "      quickchartButtonEl.classList.remove('colab-df-spinner');\n",
              "      quickchartButtonEl.classList.add('colab-df-quickchart-complete');\n",
              "    }\n",
              "    (() => {\n",
              "      let quickchartButtonEl =\n",
              "        document.querySelector('#df-47f83411-1579-4925-8048-856de7e0e27e button');\n",
              "      quickchartButtonEl.style.display =\n",
              "        google.colab.kernel.accessAllowed ? 'block' : 'none';\n",
              "    })();\n",
              "  </script>\n",
              "</div>\n",
              "\n",
              "    </div>\n",
              "  </div>\n"
            ],
            "application/vnd.google.colaboratory.intrinsic+json": {
              "type": "dataframe",
              "summary": "{\n  \"name\": \"X\",\n  \"rows\": 5,\n  \"fields\": [\n    {\n      \"column\": \"Produkt\",\n      \"properties\": {\n        \"dtype\": \"category\",\n        \"num_unique_values\": 2,\n        \"samples\": [\n          \"Alaunstein\",\n          \"Rasierer\"\n        ],\n        \"semantic_type\": \"\",\n        \"description\": \"\"\n      }\n    },\n    {\n      \"column\": \"Monat\",\n      \"properties\": {\n        \"dtype\": \"int32\",\n        \"num_unique_values\": 1,\n        \"samples\": [\n          10\n        ],\n        \"semantic_type\": \"\",\n        \"description\": \"\"\n      }\n    },\n    {\n      \"column\": \"Woche\",\n      \"properties\": {\n        \"dtype\": \"UInt32\",\n        \"num_unique_values\": 1,\n        \"samples\": [\n          42\n        ],\n        \"semantic_type\": \"\",\n        \"description\": \"\"\n      }\n    },\n    {\n      \"column\": \"Wochentag\",\n      \"properties\": {\n        \"dtype\": \"int32\",\n        \"num_unique_values\": 4,\n        \"samples\": [\n          1\n        ],\n        \"semantic_type\": \"\",\n        \"description\": \"\"\n      }\n    },\n    {\n      \"column\": \"Stueckpreis\",\n      \"properties\": {\n        \"dtype\": \"number\",\n        \"std\": 11.17996810324095,\n        \"min\": 9.9899994,\n        \"max\": 34.99000142857143,\n        \"num_unique_values\": 4,\n        \"samples\": [\n          34.99000142857143\n        ],\n        \"semantic_type\": \"\",\n        \"description\": \"\"\n      }\n    },\n    {\n      \"column\": \"Preismomentum\",\n      \"properties\": {\n        \"dtype\": \"number\",\n        \"std\": 2.235057688923412,\n        \"min\": -5.00000142857143,\n        \"max\": -0.0014279714285709844,\n        \"num_unique_values\": 4,\n        \"samples\": [\n          -5.00000142857143\n        ],\n        \"semantic_type\": \"\",\n        \"description\": \"\"\n      }\n    },\n    {\n      \"column\": \"Preis_shift_1\",\n      \"properties\": {\n        \"dtype\": \"number\",\n        \"std\": 11.180340047218108,\n        \"min\": 9.99,\n        \"max\": 34.99000142857143,\n        \"num_unique_values\": 3,\n        \"samples\": [\n          34.99\n        ],\n        \"semantic_type\": \"\",\n        \"description\": \"\"\n      }\n    },\n    {\n      \"column\": \"Preis_shift_2\",\n      \"properties\": {\n        \"dtype\": \"number\",\n        \"std\": 11.18257595547645,\n        \"min\": 9.985,\n        \"max\": 34.99,\n        \"num_unique_values\": 2,\n        \"samples\": [\n          9.985\n        ],\n        \"semantic_type\": \"\",\n        \"description\": \"\"\n      }\n    },\n    {\n      \"column\": \"Preis_shift_3\",\n      \"properties\": {\n        \"dtype\": \"number\",\n        \"std\": 11.182128741880948,\n        \"min\": 9.986,\n        \"max\": 34.99,\n        \"num_unique_values\": 2,\n        \"samples\": [\n          9.986\n        ],\n        \"semantic_type\": \"\",\n        \"description\": \"\"\n      }\n    },\n    {\n      \"column\": \"Preis_shift_4\",\n      \"properties\": {\n        \"dtype\": \"number\",\n        \"std\": 12.073872651307866,\n        \"min\": 7.992,\n        \"max\": 34.99,\n        \"num_unique_values\": 2,\n        \"samples\": [\n          7.992\n        ],\n        \"semantic_type\": \"\",\n        \"description\": \"\"\n      }\n    },\n    {\n      \"column\": \"Preis_shift_5\",\n      \"properties\": {\n        \"dtype\": \"number\",\n        \"std\": 11.181830823090781,\n        \"min\": 9.986666666666666,\n        \"max\": 34.990002,\n        \"num_unique_values\": 3,\n        \"samples\": [\n          34.990002\n        ],\n        \"semantic_type\": \"\",\n        \"description\": \"\"\n      }\n    },\n    {\n      \"column\": \"Produkt_Alaunstein\",\n      \"properties\": {\n        \"dtype\": \"boolean\",\n        \"num_unique_values\": 2,\n        \"samples\": [\n          true\n        ],\n        \"semantic_type\": \"\",\n        \"description\": \"\"\n      }\n    },\n    {\n      \"column\": \"Produkt_Bartbalm Crusoe\",\n      \"properties\": {\n        \"dtype\": \"boolean\",\n        \"num_unique_values\": 1,\n        \"samples\": [\n          false\n        ],\n        \"semantic_type\": \"\",\n        \"description\": \"\"\n      }\n    },\n    {\n      \"column\": \"Produkt_Rasierer\",\n      \"properties\": {\n        \"dtype\": \"boolean\",\n        \"num_unique_values\": 2,\n        \"samples\": [\n          false\n        ],\n        \"semantic_type\": \"\",\n        \"description\": \"\"\n      }\n    }\n  ]\n}"
            }
          },
          "metadata": {},
          "execution_count": 44
        }
      ]
    },
    {
      "cell_type": "code",
      "source": [
        "from sklearn.ensemble import RandomForestRegressor\n",
        "from sklearn.model_selection import train_test_split\n",
        "import sklearn.metrics\n",
        "from sklearn.model_selection import GridSearchCV"
      ],
      "metadata": {
        "id": "D5uIN8ZDxc_8"
      },
      "id": "D5uIN8ZDxc_8",
      "execution_count": 45,
      "outputs": []
    },
    {
      "cell_type": "code",
      "source": [
        "# Grid definieren\n",
        "param_grid = {\n",
        "    \"n_estimators\": [50, 150, 250, 500] # Anzahl der Entscheidungsbäume\n",
        "}"
      ],
      "metadata": {
        "id": "Y6ocazcCydcf"
      },
      "id": "Y6ocazcCydcf",
      "execution_count": 46,
      "outputs": []
    },
    {
      "cell_type": "code",
      "source": [
        "PRODUKTE = absatz_tag.Produkt.unique()\n",
        "PRODUKTE"
      ],
      "metadata": {
        "id": "8c5zR40Mo6EO",
        "colab": {
          "base_uri": "https://localhost:8080/"
        },
        "outputId": "2728590b-87ee-4d0a-988f-4a06e8c15e68"
      },
      "id": "8c5zR40Mo6EO",
      "execution_count": 47,
      "outputs": [
        {
          "output_type": "execute_result",
          "data": {
            "text/plain": [
              "array(['Alaunstein', 'Rasierer', 'Bartbalm Crusoe'], dtype=object)"
            ]
          },
          "metadata": {},
          "execution_count": 47
        }
      ]
    },
    {
      "cell_type": "code",
      "source": [
        "ergebnis = {}\n",
        "# Train Test Split\n",
        "X_train, X_test, y_train, y_test = train_test_split(X, y, test_size=0.2, random_state=3)\n",
        "# Modell auswählen und trainieren\n",
        "model = RandomForestRegressor()\n",
        "grid = GridSearchCV(\n",
        "    model, # verwendetes Modell\n",
        "    param_grid, # zu untersuchende Parameter\n",
        "    cv=10, # Anzahl der Folds\n",
        "    n_jobs=-1, # Parallelisierung der Ausführung\n",
        "    scoring=\"neg_mean_squared_error\", # Fehlermaß\n",
        ")\n",
        "grid.fit(X_train, y_train)\n",
        "best_model = grid.best_estimator_\n",
        "# Modell evaluieren\n",
        "for produkt in PRODUKTE:\n",
        "  # Prognosen machen (y_pred)\n",
        "  y_pred = best_model.predict(X_test.loc[produkt])\n",
        "  ergebnis[produkt] = sklearn.metrics.mean_absolute_error(y_test.loc[produkt], y_pred)\n",
        "print(ergebnis)"
      ],
      "metadata": {
        "id": "onn40HkjxVVr",
        "colab": {
          "base_uri": "https://localhost:8080/"
        },
        "outputId": "b901f67b-2217-4f64-87f3-9d6457faff8a"
      },
      "id": "onn40HkjxVVr",
      "execution_count": 48,
      "outputs": [
        {
          "output_type": "stream",
          "name": "stdout",
          "text": [
            "{'Alaunstein': 1.852307692307692, 'Rasierer': 2.7628928571428566, 'Bartbalm Crusoe': 1.3168000000000002}\n"
          ]
        }
      ]
    },
    {
      "cell_type": "markdown",
      "source": [
        "### 5.2. Ein Modell je Produkt"
      ],
      "metadata": {
        "id": "flBiZq73WH0j"
      },
      "id": "flBiZq73WH0j"
    },
    {
      "cell_type": "code",
      "source": [
        "ergebnis = {}\n",
        "for produkt in PRODUKTE:\n",
        "  X = absatz_tag.loc[absatz_tag.Produkt==produkt, FEATURES].drop(columns=[\"Produkt\"])\n",
        "  y = absatz_tag.loc[absatz_tag.Produkt==produkt, TARGET]\n",
        "  X = pd.get_dummies(X)\n",
        "\n",
        "  # Train Test Split\n",
        "  X_train, X_test, y_train, y_test = train_test_split(X, y, test_size=0.2, random_state=3)\n",
        "  # Modell auswählen und trainieren\n",
        "  model = RandomForestRegressor()\n",
        "  grid = GridSearchCV(\n",
        "      model, # verwendetes Modell\n",
        "      param_grid, # zu untersuchende Parameter\n",
        "      cv=10, # Anzahl der Folds\n",
        "      n_jobs=-1, # Parallelisierung der Ausführung\n",
        "      scoring=\"neg_mean_squared_error\", # Fehlermaß\n",
        "  )\n",
        "  grid.fit(X_train, y_train)\n",
        "  best_model = grid.best_estimator_\n",
        "  # Prognosen machen (y_pred)\n",
        "  y_pred = best_model.predict(X_test)\n",
        "  # Modell evaluieren\n",
        "  ergebnis[produkt] = sklearn.metrics.mean_absolute_error(y_test, y_pred)"
      ],
      "metadata": {
        "id": "amAqTuU6WKMz"
      },
      "id": "amAqTuU6WKMz",
      "execution_count": 49,
      "outputs": []
    },
    {
      "cell_type": "code",
      "source": [
        "ergebnis"
      ],
      "metadata": {
        "id": "DGNKDqfvXXcO",
        "colab": {
          "base_uri": "https://localhost:8080/"
        },
        "outputId": "4b06f444-e215-4dc6-de9e-e2f2ab6d4e52"
      },
      "id": "DGNKDqfvXXcO",
      "execution_count": 50,
      "outputs": [
        {
          "output_type": "execute_result",
          "data": {
            "text/plain": [
              "{'Alaunstein': 2.3323760683760675,\n",
              " 'Rasierer': 3.810297619047619,\n",
              " 'Bartbalm Crusoe': 1.0117500000000001}"
            ]
          },
          "metadata": {},
          "execution_count": 50
        }
      ]
    },
    {
      "cell_type": "markdown",
      "source": [
        "# 6 Prognosemodell unter Berücksichtigung der Zeitreiheneigenschaft (korrektes Vorgehen)"
      ],
      "metadata": {
        "id": "M3QUVe-hvs8Y"
      },
      "id": "M3QUVe-hvs8Y"
    },
    {
      "cell_type": "code",
      "source": [
        "absatz_tag.sort_values(by=\"Datum\", inplace=True)"
      ],
      "metadata": {
        "id": "LZtpODRMTwSK"
      },
      "id": "LZtpODRMTwSK",
      "execution_count": 51,
      "outputs": []
    },
    {
      "cell_type": "code",
      "source": [
        "PROGNOSEHORIZONT = 21 # Prognose für die nächsten 21 Tage"
      ],
      "metadata": {
        "id": "GlAnTLkJSTMW"
      },
      "id": "GlAnTLkJSTMW",
      "execution_count": 52,
      "outputs": []
    },
    {
      "cell_type": "code",
      "source": [
        "from sklearn.model_selection import TimeSeriesSplit"
      ],
      "metadata": {
        "id": "r7h16jsF2IKW"
      },
      "id": "r7h16jsF2IKW",
      "execution_count": 53,
      "outputs": []
    },
    {
      "cell_type": "code",
      "source": [
        "import numpy as np"
      ],
      "metadata": {
        "id": "i-bSRErT3hbZ"
      },
      "id": "i-bSRErT3hbZ",
      "execution_count": 54,
      "outputs": []
    },
    {
      "cell_type": "code",
      "source": [
        "# Veranschaulichung Train-Test-Split bei Zeitreihen\n",
        "X = absatz_tag[\"Nettomenge\"].head(300)\n",
        "\n",
        "# Define the number of splits for TimeSeriesSplit\n",
        "n_splits = 10\n",
        "tscv = TimeSeriesSplit(\n",
        "    n_splits=n_splits,\n",
        "    max_train_size = 100,\n",
        "    test_size=15)\n",
        "\n",
        "plt.figure(figsize=(10, 6))\n",
        "\n",
        "for i, (train, test) in enumerate(tscv.split(X), start=1):\n",
        "    plt.plot(train, [i] * len(train), marker='_', linewidth=1.5, color=\"blue\", label = \"Train\" if i==n_splits else None)\n",
        "    plt.plot(test, [i] * len(test), marker='_', linewidth=1.5, color='red', label = \"Test\" if i==n_splits else None)\n",
        "\n",
        "plt.legend()\n",
        "plt.xlabel('Beobachtungen')\n",
        "plt.ylabel('CV Iteration')\n",
        "plt.title('Visualisierung Train-Test-Split bei Zeitreihen')\n",
        "plt.yticks(range(1, n_splits + 1))\n",
        "plt.show()"
      ],
      "metadata": {
        "id": "2n7V_K8n3LUe",
        "colab": {
          "base_uri": "https://localhost:8080/",
          "height": 564
        },
        "outputId": "3927edef-ce73-40de-ccde-e7d0398c332e"
      },
      "id": "2n7V_K8n3LUe",
      "execution_count": 55,
      "outputs": [
        {
          "output_type": "display_data",
          "data": {
            "text/plain": [
              "<Figure size 1000x600 with 1 Axes>"
            ],
            "image/png": "[encoded data removed]"
          },
          "metadata": {}
        }
      ]
    },
    {
      "cell_type": "code",
      "source": [
        "ergebnis = {}\n",
        "for produkt in PRODUKTE:\n",
        "  # 1. Schritt: Daten auf Produkt filtern\n",
        "  X = absatz_tag.loc[absatz_tag.Produkt==produkt, FEATURES].drop(columns=\"Produkt\")\n",
        "  y = absatz_tag.loc[absatz_tag.Produkt==produkt, TARGET]\n",
        "\n",
        "  # 2. Schritt: Daten umwandeln\n",
        "  X = pd.get_dummies(X)\n",
        "\n",
        "  # 3. Schritt: Zeitlicher Split (Prognose für die nächsten 21 Tage)\n",
        "  X_train = X[:-PROGNOSEHORIZONT]\n",
        "  y_train = y[:-PROGNOSEHORIZONT]\n",
        "  X_test = X[-PROGNOSEHORIZONT:]\n",
        "  y_test = y[-PROGNOSEHORIZONT:]\n",
        "\n",
        "  # 4. Split für Cross-Validation\n",
        "  n_splits = 5\n",
        "  tscv = TimeSeriesSplit(\n",
        "      n_splits=n_splits,\n",
        "      #test_size=PROGNOSEHORIZONT\n",
        "      )\n",
        "\n",
        "  # Modell auswählen und trainieren\n",
        "  model = RandomForestRegressor()\n",
        "  grid = GridSearchCV(\n",
        "      model, # verwendetes Modell\n",
        "      param_grid, # zu untersuchende Parameter\n",
        "      cv=tscv, # Anzahl der Folds\n",
        "      n_jobs=-1, # Parallelisierung der Ausführung\n",
        "      scoring=\"neg_mean_squared_error\", # Fehlermaß\n",
        "  )\n",
        "  grid.fit(X_train, y_train)\n",
        "  best_model = grid.best_estimator_\n",
        "  # Prognosen machen (y_pred)\n",
        "  y_pred = best_model.predict(X_test)\n",
        "  # Ergebnisse für 21 Tage Nettomenge summiert\n",
        "  ergebnis[produkt] = sklearn.metrics.mean_absolute_error(y_test, y_pred)"
      ],
      "metadata": {
        "id": "uGQeTMf6ValO"
      },
      "id": "uGQeTMf6ValO",
      "execution_count": 56,
      "outputs": []
    },
    {
      "cell_type": "code",
      "source": [
        "ergebnis"
      ],
      "metadata": {
        "id": "HikOwIkKYI7b",
        "colab": {
          "base_uri": "https://localhost:8080/"
        },
        "outputId": "9a9a5a03-42f6-49f4-b540-881f22db55ba"
      },
      "id": "HikOwIkKYI7b",
      "execution_count": 57,
      "outputs": [
        {
          "output_type": "execute_result",
          "data": {
            "text/plain": [
              "{'Alaunstein': 3.71447619047619,\n",
              " 'Rasierer': 4.065809523809524,\n",
              " 'Bartbalm Crusoe': 1.0476190476190477}"
            ]
          },
          "metadata": {},
          "execution_count": 57
        }
      ]
    },
    {
      "cell_type": "code",
      "source": [],
      "metadata": {
        "id": "YXUpAqIaZvJX"
      },
      "id": "YXUpAqIaZvJX",
      "execution_count": 57,
      "outputs": []
    }
  ],
  "metadata": {
    "kernelspec": {
      "display_name": "Python 3 (ipykernel)",
      "language": "python",
      "name": "python3"
    },
    "language_info": {
      "codemirror_mode": {
        "name": "ipython",
        "version": 3
      },
      "file_extension": ".py",
      "mimetype": "text/x-python",
      "name": "python",
      "nbconvert_exporter": "python",
      "pygments_lexer": "ipython3",
      "version": "3.8.5"
    },
    "colab": {
      "provenance": [],
      "toc_visible": true,
      "include_colab_link": true
    }
  },
  "nbformat": 4,
  "nbformat_minor": 5
}